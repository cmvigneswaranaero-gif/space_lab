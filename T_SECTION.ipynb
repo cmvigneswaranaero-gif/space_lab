{
  "nbformat": 4,
  "nbformat_minor": 0,
  "metadata": {
    "colab": {
      "provenance": [],
      "authorship_tag": "ABX9TyPqa8GJ5zqZWhcp0HAJKj/G",
      "include_colab_link": true
    },
    "kernelspec": {
      "name": "python3",
      "display_name": "Python 3"
    },
    "language_info": {
      "name": "python"
    }
  },
  "cells": [
    {
      "cell_type": "markdown",
      "metadata": {
        "id": "view-in-github",
        "colab_type": "text"
      },
      "source": [
        "<a href=\"https://colab.research.google.com/github/cmvigneswaranaero-gif/space_lab/blob/main/T_SECTION.ipynb\" target=\"_parent\"><img src=\"https://colab.research.google.com/assets/colab-badge.svg\" alt=\"Open In Colab\"/></a>"
      ]
    },
    {
      "cell_type": "code",
      "source": [
        "import pandas as pd\n",
        "import statsmodels.formula.api as smf   # formula API\n",
        "\n",
        "# Load CSV\n",
        "url = \"https://raw.githubusercontent.com/cmvigneswaranaero-gif/space_lab/refs/heads/main/T_section.csv\"\n",
        "df = pd.read_csv(url)\n",
        "\n",
        "# OLS using formula API\n",
        "model = smf.ols(formula='sigma_z ~ x + y', data=df)\n",
        "fitted1 = model.fit()\n",
        "\n",
        "# Summary\n",
        "print(fitted1.summary())\n",
        "\n",
        "# Predict for new data\n",
        "new_data = pd.DataFrame({'x':[-8,-52], 'y':[-66.4, 21.6]})\n",
        "predictions = fitted1.predict(new_data)\n",
        "print(\"Predictions:\", predictions.values)\n"
      ],
      "metadata": {
        "colab": {
          "base_uri": "https://localhost:8080/"
        },
        "id": "Op_yr6GWv1Jm",
        "outputId": "d3b9c2e6-b5c5-47d3-c574-a7b67740b285"
      },
      "execution_count": 8,
      "outputs": [
        {
          "output_type": "stream",
          "name": "stdout",
          "text": [
            "                            OLS Regression Results                            \n",
            "==============================================================================\n",
            "Dep. Variable:                sigma_z   R-squared:                       1.000\n",
            "Model:                            OLS   Adj. R-squared:                  1.000\n",
            "Method:                 Least Squares   F-statistic:                 5.364e+32\n",
            "Date:                Sat, 06 Sep 2025   Prob (F-statistic):               0.00\n",
            "Time:                        06:39:06   Log-Likelihood:                 3749.0\n",
            "No. Observations:                 124   AIC:                            -7492.\n",
            "Df Residuals:                     121   BIC:                            -7484.\n",
            "Df Model:                           2                                         \n",
            "Covariance Type:            nonrobust                                         \n",
            "==============================================================================\n",
            "                 coef    std err          t      P>|t|      [0.025      0.975]\n",
            "------------------------------------------------------------------------------\n",
            "Intercept  -1.721e-15    2.2e-15     -0.781      0.436   -6.08e-15    2.64e-15\n",
            "x             -1.0000   4.51e-17  -2.22e+16      0.000      -1.000      -1.000\n",
            "y              1.5000   6.73e-17   2.23e+16      0.000       1.500       1.500\n",
            "==============================================================================\n",
            "Omnibus:                       53.771   Durbin-Watson:                   0.031\n",
            "Prob(Omnibus):                  0.000   Jarque-Bera (JB):                7.858\n",
            "Skew:                          -0.045   Prob(JB):                       0.0197\n",
            "Kurtosis:                       1.770   Cond. No.                         53.6\n",
            "==============================================================================\n",
            "\n",
            "Notes:\n",
            "[1] Standard Errors assume that the covariance matrix of the errors is correctly specified.\n",
            "Predictions: [-91.6  84.4]\n"
          ]
        }
      ]
    },
    {
      "cell_type": "code",
      "source": [
        "import pandas as pd\n",
        "from sklearn.linear_model import LinearRegression\n",
        "from sklearn.metrics import r2_score\n",
        "\n",
        "# Load CSV\n",
        "url = \"https://raw.githubusercontent.com/cmvigneswaranaero-gif/space_lab/refs/heads/main/T_section.csv\"\n",
        "df = pd.read_csv(url)\n",
        "\n",
        "# Train model directly with inputs and output\n",
        "model = LinearRegression()\n",
        "model.fit(df[['x', 'y']], df['sigma_z'])\n",
        "\n",
        "# Predictions on same data\n",
        "y_pred = model.predict(df[['x', 'y']])\n",
        "\n",
        "# R² Score\n",
        "print(\"R² Score:\", r2_score(df['sigma_z'], y_pred))\n",
        "\n",
        "# Predict for new values\n",
        "new_data = pd.DataFrame({'x':[-8], 'y':[-66.4]})\n",
        "print(\"Predictions:\", model.predict(new_data))\n"
      ],
      "metadata": {
        "colab": {
          "base_uri": "https://localhost:8080/"
        },
        "id": "zaXmoJ5vuvD0",
        "outputId": "130f6563-1041-40f5-f1bf-25dc59904004"
      },
      "execution_count": 7,
      "outputs": [
        {
          "output_type": "stream",
          "name": "stdout",
          "text": [
            "R² Score: 1.0\n",
            "Predictions: [-91.6]\n"
          ]
        }
      ]
    },
    {
      "cell_type": "code",
      "source": [
        "import pandas as pd\n",
        "from sklearn.model_selection import train_test_split\n",
        "from sklearn.linear_model import LinearRegression\n",
        "from sklearn.metrics import r2_score\n",
        "\n",
        "# Load your CSV\n",
        "url = \"https://raw.githubusercontent.com/cmvigneswaranaero-gif/space_lab/refs/heads/main/T_section.csv\"\n",
        "df = pd.read_csv(url)\n",
        "\n",
        "# Define inputs and output\n",
        "X = df[['x', 'y']]   # Input features\n",
        "y = df['sigma_z']    # Output\n",
        "\n",
        "# Split data into training and testing sets\n",
        "X_train, X_test, y_train, y_test = train_test_split(X, y, test_size=0.2, random_state=42)\n",
        "\n",
        "# Initialize and train model\n",
        "model = LinearRegression()\n",
        "model.fit(X_train, y_train)\n",
        "\n",
        "# Predictions\n",
        "y_train_pred = model.predict(X_train)\n",
        "y_test_pred = model.predict(X_test)\n",
        "\n",
        "# R² Scores\n",
        "r2_train = r2_score(y_train, y_train_pred)\n",
        "r2_test = r2_score(y_test, y_test_pred)\n",
        "\n",
        "print(f\"Train R² Score: {r2_train}\")\n",
        "print(f\"Test R² Score: {r2_test}\")\n",
        "\n",
        "# Predict sigma_z for new data\n",
        "new_data = pd.DataFrame({'x':[-8], 'y':[-66.4]})\n",
        "predictions = model.predict(new_data)\n",
        "print(\"Predictions for new data:\", predictions)\n"
      ],
      "metadata": {
        "colab": {
          "base_uri": "https://localhost:8080/"
        },
        "id": "SwHmwQT4wKp8",
        "outputId": "99d77687-8f09-4aae-8096-f1ee74d741a2"
      },
      "execution_count": 9,
      "outputs": [
        {
          "output_type": "stream",
          "name": "stdout",
          "text": [
            "Train R² Score: 1.0\n",
            "Test R² Score: 1.0\n",
            "Predictions for new data: [-91.6]\n"
          ]
        }
      ]
    }
  ]
}