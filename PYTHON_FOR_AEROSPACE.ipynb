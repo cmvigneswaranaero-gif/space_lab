{
  "nbformat": 4,
  "nbformat_minor": 0,
  "metadata": {
    "colab": {
      "provenance": [],
      "authorship_tag": "ABX9TyO9yea9OhdjGiBIfIGye2Kb",
      "include_colab_link": true
    },
    "kernelspec": {
      "name": "python3",
      "display_name": "Python 3"
    },
    "language_info": {
      "name": "python"
    }
  },
  "cells": [
    {
      "cell_type": "markdown",
      "metadata": {
        "id": "view-in-github",
        "colab_type": "text"
      },
      "source": [
        "<a href=\"https://colab.research.google.com/github/cmvigneswaranaero-gif/space_lab/blob/main/PYTHON_FOR_AEROSPACE.ipynb\" target=\"_parent\"><img src=\"https://colab.research.google.com/assets/colab-badge.svg\" alt=\"Open In Colab\"/></a>"
      ]
    },
    {
      "cell_type": "markdown",
      "source": [
        "# **PYTHON FOR AEROSPACE**\n",
        "\n",
        "# ***DEFINING VARIABLES***\n",
        "\n"
      ],
      "metadata": {
        "id": "2Jpgr5zkNOgg"
      }
    },
    {
      "cell_type": "code",
      "source": [
        "# Define variables\n",
        "velocity = 30\n",
        "pressure = 1250.567\n",
        "\n",
        "print(velocity)\n",
        "print (pressure)\n",
        "\n",
        "# Check datatypes\n",
        "print(type(velocity))\n",
        "print(type(pressure))\n",
        "\n",
        "# Print with labels\n",
        "print(\"Velocity - datatype:\", type(velocity))\n",
        "print(\"Pressure - datatype:\", type(pressure))"
      ],
      "metadata": {
        "colab": {
          "base_uri": "https://localhost:8080/"
        },
        "id": "S2uB-4o2NPDe",
        "outputId": "718b828b-1efb-4ecc-bba6-650b640fa83e"
      },
      "execution_count": null,
      "outputs": [
        {
          "output_type": "stream",
          "name": "stdout",
          "text": [
            "30\n",
            "1250.567\n",
            "<class 'int'>\n",
            "<class 'float'>\n",
            "Velocity - datatype: <class 'int'>\n",
            "Pressure - datatype: <class 'float'>\n"
          ]
        }
      ]
    },
    {
      "cell_type": "code",
      "source": [
        "# Defining fluid properties for air\n",
        "air_density = 1.225       # Air density in kg/m^3\n",
        "air_viscosity = 1.81e-5   # Air viscosity in Pa.s\n",
        "\n",
        "# Printing the results\n",
        "print(\"Air density:\", air_density, \"kg/m^3\")\n",
        "print(\"Air viscosity:\", air_viscosity, \"Pa.s\")\n"
      ],
      "metadata": {
        "colab": {
          "base_uri": "https://localhost:8080/"
        },
        "id": "gQHM_gXo_R0Y",
        "outputId": "9b61954e-3fe1-4e2b-fb6e-3e19adcd9f33"
      },
      "execution_count": null,
      "outputs": [
        {
          "output_type": "stream",
          "name": "stdout",
          "text": [
            "Air density: 1.225 kg/m^3\n",
            "Air viscosity: 1.81e-05 Pa.s\n"
          ]
        }
      ]
    },
    {
      "cell_type": "markdown",
      "source": [
        "# ***STRING***"
      ],
      "metadata": {
        "id": "SYx9S1qoNonY"
      }
    },
    {
      "cell_type": "code",
      "source": [
        "# Defining a string\n",
        "AIRCRAFT = \"BOEING_747\"\n",
        "print(AIRCRAFT)\n",
        "\n",
        "# Accessing characters and substrings\n",
        "print(AIRCRAFT[0])      # First character\n",
        "print(AIRCRAFT[0:3])    # Characters from index 0 to 2\n",
        "print(AIRCRAFT[3:8])    # Characters from index 3 to 7\n",
        "print(AIRCRAFT[3:4])    # Character at index 3"
      ],
      "metadata": {
        "colab": {
          "base_uri": "https://localhost:8080/"
        },
        "id": "ZG-m37BLpUNV",
        "outputId": "7967b580-3c42-43cf-923a-2767d8a6c01f"
      },
      "execution_count": null,
      "outputs": [
        {
          "output_type": "stream",
          "name": "stdout",
          "text": [
            "BOEING_747\n",
            "B\n",
            "BOE\n",
            "ING_7\n",
            "I\n"
          ]
        }
      ]
    },
    {
      "cell_type": "code",
      "source": [
        "# Defining a string\n",
        "message = \"Python for Aerospace Engineering\"\n",
        "print(message)\n",
        "\n",
        "# Accessing part of the string\n",
        "print(message[0:6])     # Characters from index 0 to 5\n",
        "\n",
        "# Length of the string\n",
        "print(len(message))\n"
      ],
      "metadata": {
        "colab": {
          "base_uri": "https://localhost:8080/"
        },
        "id": "s9exrkm0q5QS",
        "outputId": "10896eca-6268-4a08-f9b3-304ea6b7c9b1"
      },
      "execution_count": null,
      "outputs": [
        {
          "output_type": "stream",
          "name": "stdout",
          "text": [
            "Python for Aerospace Engineering\n",
            "Python\n",
            "32\n"
          ]
        }
      ]
    },
    {
      "cell_type": "code",
      "source": [
        "# Defining strings\n",
        "First_name = \"Aerospace\"\n",
        "Last_name = \"Engineering\"\n",
        "\n",
        "# Concatenation without space\n",
        "Name = First_name + Last_name\n",
        "print(Name)\n",
        "\n",
        "# Concatenation with space\n",
        "Name_new = First_name + \" \" + Last_name\n",
        "print(Name_new)\n",
        "\n",
        "# Repetition\n",
        "print(Name_new * 3)\n",
        "\n",
        "# Repetition with space\n",
        "print((Name_new + \" \") * 3)\n"
      ],
      "metadata": {
        "colab": {
          "base_uri": "https://localhost:8080/"
        },
        "id": "I8kAk01q77mS",
        "outputId": "25c8e618-f4db-43a8-eba4-45e48db85741"
      },
      "execution_count": null,
      "outputs": [
        {
          "output_type": "stream",
          "name": "stdout",
          "text": [
            "AerospaceEngineering\n",
            "Aerospace Engineering\n",
            "Aerospace EngineeringAerospace EngineeringAerospace Engineering\n",
            "Aerospace Engineering Aerospace Engineering Aerospace Engineering \n"
          ]
        }
      ]
    },
    {
      "cell_type": "markdown",
      "source": [
        "# **Boolean**"
      ],
      "metadata": {
        "id": "hz0zTl1vN3Pv"
      }
    },
    {
      "cell_type": "code",
      "source": [
        "# Check if velocity exceeds speed of sound\n",
        "velocity = 250     # m/s\n",
        "speed_of_sound = 343  # m/s at sea level\n",
        "\n",
        "a = velocity > speed_of_sound   # Boolean condition\n",
        "print(a)                        # Prints True/False\n",
        "print(type(a))                  # Prints datatype\n"
      ],
      "metadata": {
        "colab": {
          "base_uri": "https://localhost:8080/"
        },
        "id": "JNbuL-GW9frq",
        "outputId": "7288679f-731a-419e-a19e-a05a0dfbffaa"
      },
      "execution_count": null,
      "outputs": [
        {
          "output_type": "stream",
          "name": "stdout",
          "text": [
            "False\n",
            "<class 'bool'>\n"
          ]
        }
      ]
    },
    {
      "cell_type": "code",
      "source": [
        "# Example: Check if aircraft is supersonic\n",
        "velocity = 250        # m/s\n",
        "speed_of_sound = 343  # m/s at sea level\n",
        "a = velocity > speed_of_sound\n",
        "print(a)"
      ],
      "metadata": {
        "colab": {
          "base_uri": "https://localhost:8080/"
        },
        "id": "_DrC9GgQ_qYg",
        "outputId": "6713dd20-218a-4df4-8105-b8e7922b63b5"
      },
      "execution_count": null,
      "outputs": [
        {
          "output_type": "stream",
          "name": "stdout",
          "text": [
            "False\n"
          ]
        }
      ]
    },
    {
      "cell_type": "markdown",
      "source": [
        "# **LIST**"
      ],
      "metadata": {
        "id": "8C1Vo58XOCEX"
      }
    },
    {
      "cell_type": "code",
      "source": [
        "# Creating lists for aircraft and max speeds\n",
        "aircraft = [\"Boeing_747\", \"Airbus_A320\", \"Cessna_172\"]\n",
        "max_speed = [920, 840, 302]   # speeds in km/h\n",
        "\n",
        "# Printing the lists\n",
        "print(aircraft)\n",
        "print(max_speed)\n",
        "\n",
        "# Accessing list elements\n",
        "print(aircraft[0])    # First aircraft\n",
        "print(max_speed[1])   # Max speed of second aircraft"
      ],
      "metadata": {
        "colab": {
          "base_uri": "https://localhost:8080/"
        },
        "id": "RSFyo32rBYJp",
        "outputId": "248c8208-dd88-4c1f-edd9-9b4b2f956ef0"
      },
      "execution_count": null,
      "outputs": [
        {
          "output_type": "stream",
          "name": "stdout",
          "text": [
            "['Boeing_747', 'Airbus_A320', 'Cessna_172']\n",
            "[920, 840, 302]\n",
            "Boeing_747\n",
            "840\n"
          ]
        }
      ]
    },
    {
      "cell_type": "code",
      "source": [
        "# Adding more aircraft\n",
        "new_aircraft = [\"F-16\", \"Concorde\"]\n",
        "all_aircraft = aircraft + new_aircraft\n",
        "print(all_aircraft)\n",
        "print(len(all_aircraft))   # Total number of aircraft\n",
        "\n",
        "# Appending a new aircraft\n",
        "all_aircraft.append(\"SR-71\")\n",
        "print(all_aircraft)\n",
        "\n",
        "# Deleting an aircraft\n",
        "del all_aircraft[2]   # Deletes \"Cessna_172\"\n",
        "print(all_aircraft)"
      ],
      "metadata": {
        "colab": {
          "base_uri": "https://localhost:8080/"
        },
        "id": "jxIbILDcB0Sw",
        "outputId": "70d043eb-6ed5-4af7-ce5d-3c85db2b7652"
      },
      "execution_count": null,
      "outputs": [
        {
          "output_type": "stream",
          "name": "stdout",
          "text": [
            "['Boeing_747', 'Airbus_A320', 'Cessna_172', 'F-16', 'Concorde']\n",
            "5\n",
            "['Boeing_747', 'Airbus_A320', 'Cessna_172', 'F-16', 'Concorde', 'SR-71']\n",
            "['Boeing_747', 'Airbus_A320', 'F-16', 'Concorde', 'SR-71']\n"
          ]
        }
      ]
    },
    {
      "cell_type": "code",
      "source": [
        "# Creating lists for aircraft and max speeds\n",
        "aircraft = [\"Boeing_747\", \"Airbus_A320\", \"Cessna_172\"]\n",
        "max_speed = [920, 840, 302]   # speeds in km/h\n",
        "\n",
        "# Accessing elements using negative index\n",
        "print(\"Last aircraft:\", aircraft[-1])         # Cessna_172\n",
        "print(\"Second last aircraft:\", aircraft[-2])  # Airbus_A320\n",
        "print(\"Last speed:\", max_speed[-1])           # 302\n",
        "print(\"Second last speed:\", max_speed[-2])    # 840\n",
        "\n",
        "# Adding new aircraft and using negative index\n",
        "new_aircraft = [\"F-16\", \"Concorde\"]\n",
        "all_aircraft = aircraft + new_aircraft\n",
        "print(\"Last aircraft in combined list:\", all_aircraft[-1])   # Concorde\n",
        "print(\"Second last aircraft in combined list:\", all_aircraft[-2])  # F-16"
      ],
      "metadata": {
        "colab": {
          "base_uri": "https://localhost:8080/"
        },
        "id": "C1s-CND2Di1B",
        "outputId": "8a43067b-1ac9-4f3b-bcc7-5eb56ed060ee"
      },
      "execution_count": null,
      "outputs": [
        {
          "output_type": "stream",
          "name": "stdout",
          "text": [
            "Last aircraft: Cessna_172\n",
            "Second last aircraft: Airbus_A320\n",
            "Last speed: 302\n",
            "Second last speed: 840\n",
            "Last aircraft in combined list: Concorde\n",
            "Second last aircraft in combined list: F-16\n"
          ]
        }
      ]
    },
    {
      "cell_type": "code",
      "source": [
        "# LIST WITH MIXED DATA\n",
        "# List of integer velocities (m/s)\n",
        "velocities = [250, 340, 120]  # int type elements\n",
        "print(\"Velocities:\", velocities)\n",
        "\n",
        "# List of float pressures (Pa)\n",
        "pressures = [101325.0, 100800.5, 100500.2]  # float type elements\n",
        "print(\"Pressures:\", pressures)\n",
        "\n",
        "# List of flow types\n",
        "flow_types = [\"laminar\", \"turbulent\", \"transitional\"]  # str type elements\n",
        "print(\"Flow types:\", flow_types)\n",
        "\n",
        "# List with mixed data types (example: sensor reading, fluid type, pressure)\n",
        "mixed_data = [3.5, \"air\", 101325]  # float, str, int\n",
        "print(\"Mixed data:\", mixed_data)\n"
      ],
      "metadata": {
        "colab": {
          "base_uri": "https://localhost:8080/"
        },
        "id": "TJRCLB9GGk6K",
        "outputId": "64240bba-9d98-4f28-fb15-c62009a30e82"
      },
      "execution_count": null,
      "outputs": [
        {
          "output_type": "stream",
          "name": "stdout",
          "text": [
            "Velocities: [250, 340, 120]\n",
            "Pressures: [101325.0, 100800.5, 100500.2]\n",
            "Flow types: ['laminar', 'turbulent', 'transitional']\n",
            "Mixed data: [3.5, 'air', 101325]\n"
          ]
        }
      ]
    },
    {
      "cell_type": "markdown",
      "source": [
        "# **TUPLE**"
      ],
      "metadata": {
        "id": "BHikyLNmOFrn"
      }
    },
    {
      "cell_type": "code",
      "source": [
        "# --- Tuple Example (Immutable Data) ---\n",
        "# Aircraft properties: (wing_span,fuselage_length,takeoff_weight )\n",
        "aircraft_properties = (60.3, 70.6, 396890)  # fixed and constant\n",
        "print(\"Aircraft Properties (Tuple):\", aircraft_properties)\n",
        "\n",
        "# You cannot change tuple elements\n",
        "# aircraft_properties[0] = 61.0  # ❌ This will cause an error\n"
      ],
      "metadata": {
        "colab": {
          "base_uri": "https://localhost:8080/"
        },
        "id": "RMf4f0VhIz-R",
        "outputId": "8b563d3d-37fd-4471-e816-633a1fe2dc47"
      },
      "execution_count": null,
      "outputs": [
        {
          "output_type": "stream",
          "name": "stdout",
          "text": [
            "Aircraft Properties (Tuple): (60.3, 70.6, 396890)\n"
          ]
        }
      ]
    },
    {
      "cell_type": "code",
      "source": [
        "# --- Tuple Example (Immutable Data) ---\n",
        "# Pipe properties: (diameter in m, length in m, roughness in mm)\n",
        "pipe_properties = (0.5, 10, 0.05)  # fixed and constant\n",
        "print(\"Pipe Properties (Tuple):\", pipe_properties)\n",
        "\n",
        "# Accessing individual elements\n",
        "print(\"Diameter (m):\", pipe_properties[0])\n",
        "print(\"Length (m):\", pipe_properties[1])\n",
        "print(\"Roughness (mm):\", pipe_properties[2])\n",
        "\n",
        "# Trying to modify a tuple element will cause an error\n",
        "# pipe_properties[0] = 0.6  # ❌ Not allowed, tuples are immutable\n"
      ],
      "metadata": {
        "colab": {
          "base_uri": "https://localhost:8080/"
        },
        "id": "0hHKiAfZJWnw",
        "outputId": "d1f1eaa0-6b56-4df1-b220-b6edfddba1e7"
      },
      "execution_count": null,
      "outputs": [
        {
          "output_type": "stream",
          "name": "stdout",
          "text": [
            "Pipe Properties (Tuple): (0.5, 10, 0.05)\n",
            "Diameter (m): 0.5\n",
            "Length (m): 10\n",
            "Roughness (mm): 0.05\n"
          ]
        }
      ]
    },
    {
      "cell_type": "markdown",
      "source": [
        "# **Dictionary**"
      ],
      "metadata": {
        "id": "jIeOC_SXONJP"
      }
    },
    {
      "cell_type": "code",
      "source": [
        "# Defining a dictionary for air properties\n",
        "air_properties = {\n",
        "    \"density\": 1.225,        # kg/m^3\n",
        "    \"viscosity\": 1.81e-5,    # Pa.s\n",
        "    \"specific_heat\": 1005     # J/(kg·K)\n",
        "}\n",
        "\n",
        "# Accessing values using keys\n",
        "print(\"Air density:\", air_properties[\"density\"], \"kg/m^3\")\n",
        "print(\"Air viscosity:\", air_properties[\"viscosity\"], \"Pa.s\")\n",
        "print(\"Specific heat:\", air_properties[\"specific_heat\"], \"J/(kg·K)\")\n",
        "\n",
        "# Adding a new property\n",
        "air_properties[\"pressure\"] = 101325\n",
        "print(\"Updated Air Properties:\", air_properties)\n"
      ],
      "metadata": {
        "colab": {
          "base_uri": "https://localhost:8080/"
        },
        "id": "Ii8U-io6KsdI",
        "outputId": "b52d24d0-97c7-4948-88a2-489fa8c5e31c"
      },
      "execution_count": null,
      "outputs": [
        {
          "output_type": "stream",
          "name": "stdout",
          "text": [
            "Air density: 1.225 kg/m^3\n",
            "Air viscosity: 1.81e-05 Pa.s\n",
            "Specific heat: 1005 J/(kg·K)\n",
            "Updated Air Properties: {'density': 1.225, 'viscosity': 1.81e-05, 'specific_heat': 1005, 'pressure': 101325}\n"
          ]
        }
      ]
    },
    {
      "cell_type": "code",
      "source": [
        "# Define dictionary for air properties\n",
        "air_properties = {\n",
        "    \"density\": 1.225,\n",
        "    \"viscosity\": 1.81e-5,\n",
        "    \"specific_heat\": 1005\n",
        "}\n",
        "\n",
        "#  Change the value of an existing key\n",
        "air_properties[\"density\"] = 1.2   # Updated density\n",
        "print(\"Updated density:\", air_properties[\"density\"])\n",
        "\n",
        "#  Add a new key-value pair\n",
        "air_properties[\"pressure\"] = 101325\n",
        "print(\"Added pressure:\", air_properties[\"pressure\"])\n",
        "\n",
        "#  Change a key (create new key and delete old one)\n",
        "air_properties[\"air_density\"] = air_properties.pop(\"density\")\n",
        "print(\"Changed key from 'density' to 'air_density':\", air_properties)\n"
      ],
      "metadata": {
        "colab": {
          "base_uri": "https://localhost:8080/"
        },
        "id": "1iYl1ppVMAo4",
        "outputId": "f88caffe-c6d5-45b5-fb40-23d033fb499a"
      },
      "execution_count": null,
      "outputs": [
        {
          "output_type": "stream",
          "name": "stdout",
          "text": [
            "Updated density: 1.2\n",
            "Added pressure: 101325\n",
            "Changed key from 'density' to 'air_density': {'viscosity': 1.81e-05, 'specific_heat': 1005, 'pressure': 101325, 'air_density': 1.2}\n"
          ]
        }
      ]
    },
    {
      "cell_type": "markdown",
      "source": [
        "# ***Function***"
      ],
      "metadata": {
        "id": "yZqv_K3-_HAT"
      }
    },
    {
      "cell_type": "code",
      "source": [
        "# Function to calculate Lift Force\n",
        "def lift (density, velocity, wing_area, Cl):\n",
        "    \"\"\"\n",
        "    Calculates Lift Force using the formula:\n",
        "    L = 0.5 * density * velocity^2 * wing_area * Cl\n",
        "    \"\"\"\n",
        "    return 0.5 * density * velocity**2 * wing_area * Cl\n",
        "\n",
        "\"\"\"\n",
        "If the function call and print statement are on the same line as the return,\n",
        "which will cause an indentation error\n",
        "\"\"\"\n",
        "# Call the function\n",
        "lift_force = lift(1, 200, 25, 1)\n",
        "print(\"Lift Force (N):\", lift_force)\n"
      ],
      "metadata": {
        "colab": {
          "base_uri": "https://localhost:8080/"
        },
        "id": "q_CZYq7KSI-n",
        "outputId": "c497e323-9457-4618-d9cb-33cc3d1a2bd6"
      },
      "execution_count": null,
      "outputs": [
        {
          "output_type": "stream",
          "name": "stdout",
          "text": [
            "Lift Force (N): 500000.0\n"
          ]
        }
      ]
    },
    {
      "cell_type": "code",
      "source": [
        "# Function to calculate Reynolds Number\n",
        "def reynolds_number(rho, V, L, mu):\n",
        "    return (rho * V * L) / mu\n",
        "\n",
        "# Function to calculate Dynamic Pressure\n",
        "def dynamic_pressure(rho, V):\n",
        "    return 0.5 * rho * V**2\n",
        "\n",
        "\n",
        "# Call the functions\n",
        "Re = reynolds_number(1.225,50, 0.5, 1.81e-5)\n",
        "q = dynamic_pressure(1.225, 50)\n",
        "\n",
        "# Print results\n",
        "print(\"Reynolds Number:\", Re)\n",
        "print(\"Dynamic Pressure (Pa):\", q)\n"
      ],
      "metadata": {
        "colab": {
          "base_uri": "https://localhost:8080/"
        },
        "id": "WgnWiXZXUdmO",
        "outputId": "b27247e2-b228-43ae-ba22-6a954c194abe"
      },
      "execution_count": null,
      "outputs": [
        {
          "output_type": "stream",
          "name": "stdout",
          "text": [
            "Reynolds Number: 1691988.9502762433\n",
            "Dynamic Pressure (Pa): 1531.25\n"
          ]
        }
      ]
    },
    {
      "cell_type": "markdown",
      "source": [
        "# ***if-else***"
      ],
      "metadata": {
        "id": "UnqwMYxi_NYL"
      }
    },
    {
      "cell_type": "code",
      "source": [
        "# Example: Check if aircraft is supersonic\n",
        "velocity = 250        # m/s\n",
        "speed_of_sound = 343  # m/s at sea level\n",
        "a = velocity > speed_of_sound\n",
        "\n",
        "if a:\n",
        "    print(\"Supersonic\")\n",
        "else:\n",
        "    print(\"Subsonic\")"
      ],
      "metadata": {
        "colab": {
          "base_uri": "https://localhost:8080/"
        },
        "id": "bh7jQSJdhQ1y",
        "outputId": "37c0b00b-e241-434d-dbbb-56e62be51fae"
      },
      "execution_count": null,
      "outputs": [
        {
          "output_type": "stream",
          "name": "stdout",
          "text": [
            "Subsonic\n"
          ]
        }
      ]
    },
    {
      "cell_type": "code",
      "source": [
        "Mach = 0.6   # Example Mach number\n",
        "\n",
        "if Mach < 1:\n",
        "    print(\"Subsonic flow\")"
      ],
      "metadata": {
        "colab": {
          "base_uri": "https://localhost:8080/"
        },
        "id": "lYXv7m2RXsGE",
        "outputId": "081445bd-562b-4b96-9ef5-cc10b74639c5"
      },
      "execution_count": null,
      "outputs": [
        {
          "output_type": "stream",
          "name": "stdout",
          "text": [
            "Subsonic flow\n"
          ]
        }
      ]
    },
    {
      "cell_type": "code",
      "source": [
        "Mach = 1.2\n",
        "\n",
        "if Mach < 1:\n",
        "    print(\"Subsonic flow\")\n",
        "else:\n",
        "    print(\"Supersonic flow\")\n"
      ],
      "metadata": {
        "colab": {
          "base_uri": "https://localhost:8080/"
        },
        "id": "A0rTJCDlWwq2",
        "outputId": "4df9fe9c-47a1-430b-f77d-8d3db3351246"
      },
      "execution_count": null,
      "outputs": [
        {
          "output_type": "stream",
          "name": "stdout",
          "text": [
            "Supersonic flow\n"
          ]
        }
      ]
    },
    {
      "cell_type": "code",
      "source": [
        "Mach = 2\n",
        "\n",
        "if Mach < 1:\n",
        "    print(\"Subsonic flow\")\n",
        "elif Mach == 1:\n",
        "    print(\"Sonic flow\")\n",
        "else:\n",
        "    print(\"Supersonic flow\")"
      ],
      "metadata": {
        "colab": {
          "base_uri": "https://localhost:8080/"
        },
        "id": "jxRA1R4rW8t1",
        "outputId": "6cabbd7b-92bd-46c8-b7c6-ded9dc5964f7"
      },
      "execution_count": null,
      "outputs": [
        {
          "output_type": "stream",
          "name": "stdout",
          "text": [
            "Supersonic flow\n"
          ]
        }
      ]
    },
    {
      "cell_type": "code",
      "source": [
        "Mach = 1.2\n",
        "\n",
        "if Mach < 0.8:\n",
        "    print(\"Subsonic flow\")\n",
        "elif Mach >= 0.8 and Mach < 1.2:\n",
        "    print(\"Transonic flow\")\n",
        "elif Mach >= 1.2 and Mach < 5:\n",
        "    print(\"Supersonic flow\")\n",
        "else:\n",
        "    print(\"Hypersonic flow\")\n"
      ],
      "metadata": {
        "colab": {
          "base_uri": "https://localhost:8080/"
        },
        "id": "COxbr-XZXaae",
        "outputId": "6610a8af-3584-4c60-8066-c14abd584e76"
      },
      "execution_count": null,
      "outputs": [
        {
          "output_type": "stream",
          "name": "stdout",
          "text": [
            "Supersonic flow\n"
          ]
        }
      ]
    },
    {
      "cell_type": "code",
      "source": [
        "Mach = 300000\n",
        "if Re < 5e5:\n",
        "    print(\"Flow is Laminar\")\n",
        "else:\n",
        "    print(\"Flow is Turbulent\")"
      ],
      "metadata": {
        "colab": {
          "base_uri": "https://localhost:8080/"
        },
        "id": "ffjhfkTsXFVl",
        "outputId": "7d2f5938-c871-4164-c4ae-c94825eada82"
      },
      "execution_count": null,
      "outputs": [
        {
          "output_type": "stream",
          "name": "stdout",
          "text": [
            "Flow is Turbulent\n"
          ]
        }
      ]
    },
    {
      "cell_type": "markdown",
      "source": [
        "# **for loop**"
      ],
      "metadata": {
        "id": "qBqK_I-1_YAr"
      }
    },
    {
      "cell_type": "code",
      "source": [
        "# why - for loop\n",
        "velocities = [50, 60, 70] # list\n",
        "q = 2 * velocities\n",
        "print(q)\n",
        "\n",
        "# list is multiplied by two times..\n",
        "# but we need to multiply the individual elements in the list..like array calculation..\n",
        "# then use for loop\n",
        "\n",
        "velocities = [50, 60, 70] # list\n",
        "for V in velocities:\n",
        "  q = 2 * V\n",
        "  print(q)"
      ],
      "metadata": {
        "id": "fVhY_fiyjPBM",
        "outputId": "d8f963a0-f477-4797-c5ff-381d716b6863",
        "colab": {
          "base_uri": "https://localhost:8080/"
        }
      },
      "execution_count": 5,
      "outputs": [
        {
          "output_type": "stream",
          "name": "stdout",
          "text": [
            "[50, 60, 70, 50, 60, 70]\n",
            "100\n",
            "120\n",
            "140\n"
          ]
        }
      ]
    },
    {
      "cell_type": "code",
      "source": [
        "velocities = [10, 20, 30]\n",
        "\n",
        "# 1. Basic for ... in list\n",
        "for V in velocities:\n",
        "    print(f\"Velocity = {V} m/s\")\n",
        "\n",
        "# 2. Using enumerate() (index + value)\n",
        "for i, V in enumerate(velocities):\n",
        "    print(f\"Case {i+1}: Velocity = {V} m/s\")\n",
        "\n",
        "# 3. Using range(start, stop, step)\n",
        "for V in range(10, 40, 10):   # from 10 to 30 with step 10\n",
        "    print(f\"Velocity = {V} m/s\")\n",
        "\n",
        "\n",
        "# thumb rule\n",
        "# Only index → use range(len(list)) (most common).\n",
        "\n",
        "# Only value → for value in list:\n",
        "\n",
        "# Both index + value → enumerate\n",
        "\n"
      ],
      "metadata": {
        "colab": {
          "base_uri": "https://localhost:8080/"
        },
        "id": "dM401-hQRcLZ",
        "outputId": "ead628cc-98dd-4149-a314-4dd6309dedab"
      },
      "execution_count": null,
      "outputs": [
        {
          "output_type": "stream",
          "name": "stdout",
          "text": [
            "Velocity = 10 m/s\n",
            "Velocity = 20 m/s\n",
            "Velocity = 30 m/s\n",
            "Case 1: Velocity = 10 m/s\n",
            "Case 2: Velocity = 20 m/s\n",
            "Case 3: Velocity = 30 m/s\n",
            "Velocity = 10 m/s\n",
            "Velocity = 20 m/s\n",
            "Velocity = 30 m/s\n"
          ]
        }
      ]
    },
    {
      "cell_type": "code",
      "source": [
        "#  Lift Calculation with different velocities\n",
        "\n",
        "# Constants\n",
        "rho = 1.225   # air density (kg/m^3) at sea level\n",
        "S = 20.0      # wing area (m^2)\n",
        "CL = 0.5      # lift coefficient\n",
        "\n",
        "# Velocity range (in m/s)\n",
        "velocities = [30, 40, 50, 60, 70, 80]\n",
        "\n",
        "# Calculate lift for each velocity using for loop\n",
        "for V in velocities:\n",
        "    L = 0.5 * rho * V**2 * S * CL\n",
        "    print(f\"Velocity: {V} m/s --> Lift: {L:.2f} N\")\n",
        "#f-string (formatted string literal).\n",
        "#It allows us to insert variable values directly inside a string by writing them in curly braces { }."
      ],
      "metadata": {
        "colab": {
          "base_uri": "https://localhost:8080/"
        },
        "id": "TLyEHh3L_bgr",
        "outputId": "65b9c908-c1fa-4fc0-942d-26cc2238f4bb"
      },
      "execution_count": null,
      "outputs": [
        {
          "output_type": "stream",
          "name": "stdout",
          "text": [
            "Velocity: 30 m/s --> Lift: 5512.50 N\n",
            "Velocity: 40 m/s --> Lift: 9800.00 N\n",
            "Velocity: 50 m/s --> Lift: 15312.50 N\n",
            "Velocity: 60 m/s --> Lift: 22050.00 N\n",
            "Velocity: 70 m/s --> Lift: 30012.50 N\n",
            "Velocity: 80 m/s --> Lift: 39200.00 N\n"
          ]
        }
      ]
    },
    {
      "cell_type": "code",
      "source": [
        "# Reynolds number calculation\n",
        "V = 2.0          # velocity (m/s)\n",
        "D = 0.05         # pipe diameter (m)\n",
        "mu = 0.001       # viscosity of water (Pa·s)\n",
        "\n",
        "# Different fluid densities (kg/m^3)\n",
        "densities = [800, 900, 1000, 1100, 1200]\n",
        "\n",
        "# Calculate Reynolds number for each density\n",
        "# Don’t reuse the same name for the list and the loop variable. Use something like for r in rho:\n",
        "for rho in densities:\n",
        "    Re = (rho * V * D) / mu\n",
        "    print(f\"Density: {rho} kg/m^3 --> Reynolds Number: {Re:.0f}\")\n"
      ],
      "metadata": {
        "colab": {
          "base_uri": "https://localhost:8080/"
        },
        "id": "5Gp8jfUwO8K7",
        "outputId": "5bd069c0-e00a-42ac-ed36-cc2a0487d63a"
      },
      "execution_count": null,
      "outputs": [
        {
          "output_type": "stream",
          "name": "stdout",
          "text": [
            "Density: 800 kg/m^3 --> Reynolds Number: 80000\n",
            "Density: 900 kg/m^3 --> Reynolds Number: 90000\n",
            "Density: 1000 kg/m^3 --> Reynolds Number: 100000\n",
            "Density: 1100 kg/m^3 --> Reynolds Number: 110000\n",
            "Density: 1200 kg/m^3 --> Reynolds Number: 120000\n"
          ]
        }
      ]
    },
    {
      "cell_type": "markdown",
      "source": [
        "***Looping over two lists with zip()***"
      ],
      "metadata": {
        "id": "EAfFmyzoVXq6"
      }
    },
    {
      "cell_type": "code",
      "source": [
        "rho = [1.2, 1.1, 1.0]        # densities\n",
        "V   = [50, 60, 70]           # velocities\n",
        "\n",
        "for r, v in zip(rho, V):\n",
        "    print(f\"Density = {r}, Velocity = {v}\")\n"
      ],
      "metadata": {
        "colab": {
          "base_uri": "https://localhost:8080/"
        },
        "id": "RR850tToU1PK",
        "outputId": "947a6f6f-5d0c-4e61-e7ce-890e77ecee57"
      },
      "execution_count": null,
      "outputs": [
        {
          "output_type": "stream",
          "name": "stdout",
          "text": [
            "Density = 1.2, Velocity = 50\n",
            "Density = 1.1, Velocity = 60\n",
            "Density = 1.0, Velocity = 70\n"
          ]
        }
      ]
    },
    {
      "cell_type": "code",
      "source": [
        "# Looping over two lists without zip()\n",
        "\n",
        "rho = [1.2, 1.1, 1.0]        # densities\n",
        "V   = [50, 60, 70]           # velocities\n",
        "\n",
        "for i in range(len(rho)):\n",
        "    print(f\"Density = {rho[i]}, Velocity = {V[i]}\")\n"
      ],
      "metadata": {
        "colab": {
          "base_uri": "https://localhost:8080/"
        },
        "id": "mur8A_o-VJ2Z",
        "outputId": "dab84972-d998-42a7-ef7a-b0cacee478b5"
      },
      "execution_count": null,
      "outputs": [
        {
          "output_type": "stream",
          "name": "stdout",
          "text": [
            "Density = 1.2, Velocity = 50\n",
            "Density = 1.1, Velocity = 60\n",
            "Density = 1.0, Velocity = 70\n"
          ]
        }
      ]
    },
    {
      "cell_type": "code",
      "source": [
        "densities = [1.2, 1.1, 1.0]        # densities\n",
        "velocities  = [50, 60, 70]           # velocities\n",
        "S = 20     # wing area in m^2\n",
        "CL = 0.5   # lift coefficient\n",
        "\n",
        "for rho, V in zip(densities, velocities):\n",
        "    L = 0.5 * rho * V**2 * S * CL\n",
        "    print(f\"Density = {rho}, Velocity: {V} m/s --> Lift: {L:.0f} N\")\n"
      ],
      "metadata": {
        "colab": {
          "base_uri": "https://localhost:8080/"
        },
        "id": "3Cbmw21cQg9i",
        "outputId": "68b0574b-5a93-41b3-ffc4-ffb4f9c6e798"
      },
      "execution_count": null,
      "outputs": [
        {
          "output_type": "stream",
          "name": "stdout",
          "text": [
            "Density = 1.2, Velocity: 50 m/s --> Lift: 15000 N\n",
            "Density = 1.1, Velocity: 60 m/s --> Lift: 19800 N\n",
            "Density = 1.0, Velocity: 70 m/s --> Lift: 24500 N\n"
          ]
        }
      ]
    },
    {
      "cell_type": "markdown",
      "source": [
        "# ***NESTED LOOP***"
      ],
      "metadata": {
        "id": "JpN5PsD5ZIs4"
      }
    },
    {
      "cell_type": "code",
      "source": [
        "# Constants\n",
        "S = 20     # wing area in m^2\n",
        "CL = 0.5   # lift coefficient\n",
        "\n",
        "densities = [1.2, 1.1, 1.0]        # densities\n",
        "velocities = [50, 60, 70]          # velocities\n",
        "\n",
        "# Nested loop: each density with all velocities\n",
        "for rho in densities:\n",
        "    for V in velocities:\n",
        "        L = 0.5 * rho * V**2 * S * CL\n",
        "        print(f\"Density = {rho}, Velocity = {V} m/s --> Lift: {L:.0f} N\")\n"
      ],
      "metadata": {
        "colab": {
          "base_uri": "https://localhost:8080/"
        },
        "id": "vOFNefPTXvbe",
        "outputId": "3c62745b-752a-471d-e9bb-4fbc6fc2e3ee"
      },
      "execution_count": null,
      "outputs": [
        {
          "output_type": "stream",
          "name": "stdout",
          "text": [
            "Density = 1.2, Velocity = 50 m/s --> Lift: 15000 N\n",
            "Density = 1.2, Velocity = 60 m/s --> Lift: 21600 N\n",
            "Density = 1.2, Velocity = 70 m/s --> Lift: 29400 N\n",
            "Density = 1.1, Velocity = 50 m/s --> Lift: 13750 N\n",
            "Density = 1.1, Velocity = 60 m/s --> Lift: 19800 N\n",
            "Density = 1.1, Velocity = 70 m/s --> Lift: 26950 N\n",
            "Density = 1.0, Velocity = 50 m/s --> Lift: 12500 N\n",
            "Density = 1.0, Velocity = 60 m/s --> Lift: 18000 N\n",
            "Density = 1.0, Velocity = 70 m/s --> Lift: 24500 N\n"
          ]
        }
      ]
    },
    {
      "cell_type": "code",
      "source": [
        "# Constants\n",
        "S = 20     # wing area in m^2\n",
        "CL = 0.5   # lift coefficient\n",
        "\n",
        "densities = [1.2, 1.1, 1.0]        # densities\n",
        "velocities = [50, 60, 70]          # velocities\n",
        "\n",
        "# Nested loop with enumerate to number cases\n",
        "\n",
        "for i, rho in enumerate(densities):      # outer loop over densities\n",
        "    for j, V in enumerate(velocities):   # inner loop over velocities\n",
        "        L = 0.5 * rho * V**2 * S * CL\n",
        "        print(f\" Density = {rho}, Velocity = {V} m/s --> Lift: {L:.0f} N\")\n",
        "\n"
      ],
      "metadata": {
        "colab": {
          "base_uri": "https://localhost:8080/"
        },
        "id": "tOHRrPDSXrjR",
        "outputId": "87770c0c-4ee0-4e34-ea60-1d8b8bc47c34"
      },
      "execution_count": null,
      "outputs": [
        {
          "output_type": "stream",
          "name": "stdout",
          "text": [
            " Density = 1.2, Velocity = 50 m/s --> Lift: 15000 N\n",
            " Density = 1.2, Velocity = 60 m/s --> Lift: 21600 N\n",
            " Density = 1.2, Velocity = 70 m/s --> Lift: 29400 N\n",
            " Density = 1.1, Velocity = 50 m/s --> Lift: 13750 N\n",
            " Density = 1.1, Velocity = 60 m/s --> Lift: 19800 N\n",
            " Density = 1.1, Velocity = 70 m/s --> Lift: 26950 N\n",
            " Density = 1.0, Velocity = 50 m/s --> Lift: 12500 N\n",
            " Density = 1.0, Velocity = 60 m/s --> Lift: 18000 N\n",
            " Density = 1.0, Velocity = 70 m/s --> Lift: 24500 N\n"
          ]
        }
      ]
    },
    {
      "cell_type": "markdown",
      "source": [
        "# ***WHILE LOOP***"
      ],
      "metadata": {
        "id": "T5XUzAwSmJRm"
      }
    },
    {
      "cell_type": "code",
      "source": [
        "# Constants\n",
        "S = 20\n",
        "CL = 0.5\n",
        "rho = 1.2\n",
        "V = 50\n",
        "\n",
        "# Lift threshold\n",
        "threshold = 20000\n",
        "\n",
        "# While loop\n",
        "while True:\n",
        "    L = 0.5 * rho * V**2 * S * CL\n",
        "    print(f\"Velocity = {V} m/s --> Lift = {L:.0f} N\")\n",
        "\n",
        "    if L > threshold:\n",
        "        print(\"Lift exceeded threshold!\")\n",
        "        break  # exit the loop\n",
        "\n",
        "    V += 5   # increase velocity each iteration\n",
        "            # V = V + 5\n"
      ],
      "metadata": {
        "colab": {
          "base_uri": "https://localhost:8080/"
        },
        "id": "po3jSiuohpkA",
        "outputId": "067c6bc3-1f37-40b3-8aa6-0f94972bf12f"
      },
      "execution_count": null,
      "outputs": [
        {
          "output_type": "stream",
          "name": "stdout",
          "text": [
            "Velocity = 50 m/s --> Lift = 15000 N\n",
            "Velocity = 55 m/s --> Lift = 18150 N\n",
            "Velocity = 60 m/s --> Lift = 21600 N\n",
            "Lift exceeded threshold!\n"
          ]
        }
      ]
    },
    {
      "cell_type": "code",
      "source": [
        "# Constants\n",
        "rho = 10        # water density, kg/m^3\n",
        "D = 0.05          # pipe diameter, m\n",
        "mu = 0.001        # viscosity, Pa.s\n",
        "\n",
        "# Initial velocity\n",
        "V = 1\n",
        "\n",
        "# While loop\n",
        "while True:\n",
        "    Re = (rho * V * D) / mu\n",
        "    print(f\"Velocity = {V} m/s --> Reynolds number = {Re:.0f}\")\n",
        "\n",
        "    if Re > 4000:\n",
        "        print(\"Flow has become turbulent!\")\n",
        "        break  # stop the loop\n",
        "\n",
        "    V += 1  # increment velocity\n"
      ],
      "metadata": {
        "colab": {
          "base_uri": "https://localhost:8080/"
        },
        "id": "9S-ro8-iiUt4",
        "outputId": "acefde28-8c64-44b5-ece7-08e2034b2761"
      },
      "execution_count": null,
      "outputs": [
        {
          "output_type": "stream",
          "name": "stdout",
          "text": [
            "Velocity = 1 m/s --> Reynolds number = 500\n",
            "Velocity = 2 m/s --> Reynolds number = 1000\n",
            "Velocity = 3 m/s --> Reynolds number = 1500\n",
            "Velocity = 4 m/s --> Reynolds number = 2000\n",
            "Velocity = 5 m/s --> Reynolds number = 2500\n",
            "Velocity = 6 m/s --> Reynolds number = 3000\n",
            "Velocity = 7 m/s --> Reynolds number = 3500\n",
            "Velocity = 8 m/s --> Reynolds number = 4000\n",
            "Velocity = 9 m/s --> Reynolds number = 4500\n",
            "Flow has become turbulent!\n"
          ]
        }
      ]
    },
    {
      "cell_type": "code",
      "source": [
        "# Example: increase velocity until Re > 4000\n",
        "rho = 10\n",
        "D = 0.05\n",
        "mu = 0.001\n",
        "V = 1\n",
        "\n",
        "Re = (rho * V * D) / mu\n",
        "while Re <= 4000:\n",
        "    print(f\"Velocity = {V} m/s --> Re = {Re:.0f}\")\n",
        "    V += 1\n",
        "    Re = (rho * V * D) / mu\n"
      ],
      "metadata": {
        "colab": {
          "base_uri": "https://localhost:8080/"
        },
        "id": "zpNeD4VNl3xf",
        "outputId": "de10b85a-8b5f-422a-f7e8-3579150c873e"
      },
      "execution_count": null,
      "outputs": [
        {
          "output_type": "stream",
          "name": "stdout",
          "text": [
            "Velocity = 1 m/s --> Re = 500\n",
            "Velocity = 2 m/s --> Re = 1000\n",
            "Velocity = 3 m/s --> Re = 1500\n",
            "Velocity = 4 m/s --> Re = 2000\n",
            "Velocity = 5 m/s --> Re = 2500\n",
            "Velocity = 6 m/s --> Re = 3000\n",
            "Velocity = 7 m/s --> Re = 3500\n",
            "Velocity = 8 m/s --> Re = 4000\n"
          ]
        }
      ]
    },
    {
      "cell_type": "markdown",
      "source": [
        "# ***math package***"
      ],
      "metadata": {
        "id": "qUETcwPhA9Sa"
      }
    },
    {
      "cell_type": "code",
      "source": [
        "import math\n",
        "x = 5.0\n",
        "print(math.sqrt(x))     # Square root → 2.236...\n",
        "print(math.sin(math.radians(30)))   # Sine of 30° → 0.5\n",
        "print(math.log(x))     # Natural log\n",
        "print(math.exp(x))      # e^5\n",
        "print(math.pi)        # π = 3.14159...\n",
        "print(x * math.pi)"
      ],
      "metadata": {
        "colab": {
          "base_uri": "https://localhost:8080/"
        },
        "id": "S1dU9yrBCgKx",
        "outputId": "d7b3eb5b-3e98-4d1a-a0eb-80d65dae749e"
      },
      "execution_count": null,
      "outputs": [
        {
          "output_type": "stream",
          "name": "stdout",
          "text": [
            "2.23606797749979\n",
            "0.49999999999999994\n",
            "1.6094379124341003\n",
            "148.4131591025766\n",
            "3.141592653589793\n",
            "15.707963267948966\n"
          ]
        }
      ]
    },
    {
      "cell_type": "code",
      "source": [
        "velocities = [50, 60, 70]\n",
        "rho = 1.225\n",
        "for V in velocities:\n",
        "    q = 0.5 * rho * math.pow(V, 2)\n",
        "    print(f\"Velocity={V}, Dynamic Pressure={q}\")\n"
      ],
      "metadata": {
        "colab": {
          "base_uri": "https://localhost:8080/"
        },
        "id": "f9jgYGArFrrA",
        "outputId": "19350ed2-01e7-4337-e1dc-379244595788"
      },
      "execution_count": null,
      "outputs": [
        {
          "output_type": "stream",
          "name": "stdout",
          "text": [
            "Velocity=50, Dynamic Pressure=1531.25\n",
            "Velocity=60, Dynamic Pressure=2205.0\n",
            "Velocity=70, Dynamic Pressure=3001.25\n"
          ]
        }
      ]
    },
    {
      "cell_type": "code",
      "source": [
        "import math\n",
        "\n",
        "velocities = [50, 60, 70] # list\n",
        "q = 0.5 * math.pow(velocities, 2)   # ❌ ERROR\n"
      ],
      "metadata": {
        "colab": {
          "base_uri": "https://localhost:8080/",
          "height": 183
        },
        "id": "cQjbuwRbIVY5",
        "outputId": "3f1e2d9e-f159-44f5-dc59-e0d1fd671bb8"
      },
      "execution_count": null,
      "outputs": [
        {
          "output_type": "error",
          "ename": "TypeError",
          "evalue": "must be real number, not list",
          "traceback": [
            "\u001b[0;31m---------------------------------------------------------------------------\u001b[0m",
            "\u001b[0;31mTypeError\u001b[0m                                 Traceback (most recent call last)",
            "\u001b[0;32m/tmp/ipython-input-1947399063.py\u001b[0m in \u001b[0;36m<cell line: 0>\u001b[0;34m()\u001b[0m\n\u001b[1;32m      2\u001b[0m \u001b[0;34m\u001b[0m\u001b[0m\n\u001b[1;32m      3\u001b[0m \u001b[0mvelocities\u001b[0m \u001b[0;34m=\u001b[0m \u001b[0;34m[\u001b[0m\u001b[0;36m50\u001b[0m\u001b[0;34m,\u001b[0m \u001b[0;36m60\u001b[0m\u001b[0;34m,\u001b[0m \u001b[0;36m70\u001b[0m\u001b[0;34m]\u001b[0m\u001b[0;34m\u001b[0m\u001b[0;34m\u001b[0m\u001b[0m\n\u001b[0;32m----> 4\u001b[0;31m \u001b[0mq\u001b[0m \u001b[0;34m=\u001b[0m \u001b[0;36m0.5\u001b[0m \u001b[0;34m*\u001b[0m \u001b[0mmath\u001b[0m\u001b[0;34m.\u001b[0m\u001b[0mpow\u001b[0m\u001b[0;34m(\u001b[0m\u001b[0mvelocities\u001b[0m\u001b[0;34m,\u001b[0m \u001b[0;36m2\u001b[0m\u001b[0;34m)\u001b[0m   \u001b[0;31m# ❌ ERROR\u001b[0m\u001b[0;34m\u001b[0m\u001b[0;34m\u001b[0m\u001b[0m\n\u001b[0m",
            "\u001b[0;31mTypeError\u001b[0m: must be real number, not list"
          ]
        }
      ]
    },
    {
      "cell_type": "code",
      "source": [
        "import math\n",
        "\n",
        "velocities = [50, 60, 70] # list\n",
        "\n",
        "for V in velocities:\n",
        "    q = 0.5 * math.pow(V, 2)\n",
        "    print(q)\n",
        "\n",
        "# or we can use numpy package to make array..we can avoid list"
      ],
      "metadata": {
        "id": "V9hwlz3nIxGx"
      },
      "execution_count": null,
      "outputs": []
    },
    {
      "cell_type": "markdown",
      "source": [
        "# ***numpy***\n"
      ],
      "metadata": {
        "id": "G5yOivWLNVlw"
      }
    },
    {
      "cell_type": "code",
      "source": [
        "import numpy as np\n",
        "\n",
        "# Define matrices\n",
        "A = np.array([[2, 3],\n",
        "              [1, 4]])\n",
        "B = np.array([[5, 6],\n",
        "              [7, 8]])\n",
        "\n",
        "# Addition, Subtraction\n",
        "print(\"A + B =\\n\", A + B)\n",
        "print(\"A - B =\\n\", A - B)\n",
        "\n",
        "# Matrix multiplication\n",
        "print(\"A * B (elementwise) =\\n\", A * B)\n",
        "\n",
        "print(\"A @ B (matrix product) =\\n\", A @ B)  # or np.dot(A,B)\n",
        "\n",
        "print (\"matrix product with np.dot =\\n\", np.dot(A,B))\n",
        "\n",
        "# Inverse & Determinant of a Matrix\n",
        "det = np.linalg.det(A)\n",
        "inv = np.linalg.inv(A)\n",
        "\n",
        "print(f\"Determinant = {det:.0f}\")\n",
        "print(\"Inverse =\\n\", inv)\n",
        "\n",
        "\n",
        "# Transpose\n",
        "print(\"A^T =\\n\", A.T)\n",
        "\n",
        "# Eigenvalues & Eigenvectors\n",
        "eigvals, eigvecs = np.linalg.eig(A)\n",
        "print(\"Eigenvalues =\", eigvals)\n",
        "print(\"Eigenvectors =\\n\", eigvecs)"
      ],
      "metadata": {
        "id": "yrkR7lQzYiC4",
        "colab": {
          "base_uri": "https://localhost:8080/"
        },
        "outputId": "c2e2ad49-655b-42b9-d3eb-c84eb92371e8"
      },
      "execution_count": null,
      "outputs": [
        {
          "output_type": "stream",
          "name": "stdout",
          "text": [
            "A + B =\n",
            " [[ 7  9]\n",
            " [ 8 12]]\n",
            "A - B =\n",
            " [[-3 -3]\n",
            " [-6 -4]]\n",
            "A * B (elementwise) =\n",
            " [[10 18]\n",
            " [ 7 32]]\n",
            "A @ B (matrix product) =\n",
            " [[31 36]\n",
            " [33 38]]\n",
            "matrix product with np.dot =\n",
            " [[31 36]\n",
            " [33 38]]\n",
            "Determinant = 5\n",
            "Inverse =\n",
            " [[ 0.8 -0.6]\n",
            " [-0.2  0.4]]\n",
            "A^T =\n",
            " [[2 1]\n",
            " [3 4]]\n",
            "Eigenvalues = [1. 5.]\n",
            "Eigenvectors =\n",
            " [[-0.9486833  -0.70710678]\n",
            " [ 0.31622777 -0.70710678]]\n"
          ]
        }
      ]
    },
    {
      "cell_type": "code",
      "source": [
        "# Solving Linear Equations\n",
        "# 2x+3y=8\n",
        "# x+4y=7\n",
        "\n",
        "A = np.array([[2, 3], [1, 4]])\n",
        "b = np.array([8, 7])\n",
        "\n",
        "solution = np.linalg.solve(A, b)\n",
        "print(\"Solution [x, y] =\", solution)\n"
      ],
      "metadata": {
        "colab": {
          "base_uri": "https://localhost:8080/"
        },
        "id": "e67LjxrbZqyw",
        "outputId": "07ade207-1e45-449c-d5e7-dbe069a1bca9"
      },
      "execution_count": null,
      "outputs": [
        {
          "output_type": "stream",
          "name": "stdout",
          "text": [
            "Solution [x, y] = [2.2 1.2]\n"
          ]
        }
      ]
    },
    {
      "cell_type": "code",
      "source": [
        "# Finding Roots of a Polynomial\n",
        "# p(x) = x^3−6x^2+11x−6\n",
        "\n",
        "coeff = [1, -6, 11, -6]   # coefficients\n",
        "roots = np.roots(coeff)\n",
        "print(\"Roots =\", roots)\n",
        "\n",
        "# Polynomial Evaluation\n",
        "# Check p(3.5):\n",
        "val = np.polyval(coeff, 3.5)\n",
        "print(\"p(2.5) =\", val)"
      ],
      "metadata": {
        "colab": {
          "base_uri": "https://localhost:8080/"
        },
        "id": "TBhKhxA0aP-A",
        "outputId": "57440072-9f51-41ba-b27e-6b8dce0fea14"
      },
      "execution_count": null,
      "outputs": [
        {
          "output_type": "stream",
          "name": "stdout",
          "text": [
            "Roots = [3. 2. 1.]\n",
            "p(2.5) = 1.875\n"
          ]
        }
      ]
    },
    {
      "cell_type": "code",
      "source": [
        "# Random 3×3 matrix (values between 0 and 1)\n",
        "rand  = np.random.rand(3,3)\n",
        "print(rand)\n",
        "# Zero / Ones / Identity\n",
        "zeros = np.zeros((3,3))\n",
        "ones  = np.ones((3,3))\n",
        "I     = np.eye(3)\n",
        "\n",
        "print(zeros)\n",
        "print(ones)\n",
        "print(I)"
      ],
      "metadata": {
        "colab": {
          "base_uri": "https://localhost:8080/"
        },
        "id": "njSOnp6capFX",
        "outputId": "2595129a-082e-4785-ce9d-298e72cfae6a"
      },
      "execution_count": null,
      "outputs": [
        {
          "output_type": "stream",
          "name": "stdout",
          "text": [
            "[[0.37793337 0.5405439  0.63653127]\n",
            " [0.87193482 0.47124128 0.57204795]\n",
            " [0.78356794 0.68449915 0.657059  ]]\n",
            "[[0. 0. 0.]\n",
            " [0. 0. 0.]\n",
            " [0. 0. 0.]]\n",
            "[[1. 1. 1.]\n",
            " [1. 1. 1.]\n",
            " [1. 1. 1.]]\n",
            "[[1. 0. 0.]\n",
            " [0. 1. 0.]\n",
            " [0. 0. 1.]]\n"
          ]
        }
      ]
    },
    {
      "cell_type": "code",
      "source": [
        "# array creation\n",
        "import numpy as np\n",
        "\n",
        "# 1D array\n",
        "a = np.array([1, 2, 3])\n",
        "print(a)\n",
        "\n",
        "print(a.shape)       # tuple: dimensions\n",
        "print(a.size)        # total number of elements\n",
        "print(a.ndim)        # number of dimensions\n",
        "print(a.dtype)       # type of elements"
      ],
      "metadata": {
        "colab": {
          "base_uri": "https://localhost:8080/"
        },
        "id": "fDVwnD6_x_8U",
        "outputId": "e4140739-26ae-41a4-993b-9bf6d50463c6"
      },
      "execution_count": null,
      "outputs": [
        {
          "output_type": "stream",
          "name": "stdout",
          "text": [
            "[1 2 3]\n",
            "(3,)\n",
            "3\n",
            "1\n",
            "int64\n"
          ]
        }
      ]
    },
    {
      "cell_type": "code",
      "source": [
        "# 2D array\n",
        "import numpy as np\n",
        "b = np.array([[1, 2, 3], [4, 5, 6]])\n",
        "print(b)\n",
        "\n",
        "print(b.shape)       # tuple: dimensions\n",
        "print(b.size)        # total number of elements\n",
        "print(b.ndim)        # number of dimensions\n",
        "print(b.dtype)       # type of elements"
      ],
      "metadata": {
        "colab": {
          "base_uri": "https://localhost:8080/"
        },
        "id": "Y9MuKQip0UHM",
        "outputId": "482433b2-2824-432e-cfa9-4b14211fd54e"
      },
      "execution_count": null,
      "outputs": [
        {
          "output_type": "stream",
          "name": "stdout",
          "text": [
            "[[1 2 3]\n",
            " [4 5 6]]\n",
            "(2, 3)\n",
            "6\n",
            "2\n",
            "int64\n"
          ]
        }
      ]
    },
    {
      "cell_type": "code",
      "source": [
        "# 2D array\n",
        "import numpy as np\n",
        "c = np.array([[1, 2, 3], [4, 5, 6], [6, 7, 8]])\n",
        "print(c)\n",
        "\n",
        "print(c.shape)       # tuple: dimensions\n",
        "print(c.size)        # total number of elements\n",
        "print(c.ndim)        # number of dimensions\n",
        "print(c.dtype)       # type of elements\n",
        "\n",
        "\n",
        "# Printing slices\n",
        "print(\"First element:\", c[0,0])\n",
        "print(\"First row:\", c[0,:])\n",
        "print(\"Last row):\", c[-1,:])\n",
        "print(\"First column:\", c[:, 0])\n",
        "print(\"Second row:\", c[1, :])\n",
        "print(\"Submatrix from row 1 and column 1 onwards:\\n\", c[1:, 1:])\n",
        "\n",
        "# Reshape to 1 row, 9 columns\n",
        "c_reshaped = c.reshape(1, 9)\n",
        "print(\"Reshaped to (1,9):\\n\", c_reshaped)\n",
        "\n",
        "# Reshape to 9 rows, 1 column\n",
        "c_reshaped2 = c.reshape(9, 1)\n",
        "print(\"Reshaped to (9,1):\\n\", c_reshaped2)"
      ],
      "metadata": {
        "colab": {
          "base_uri": "https://localhost:8080/"
        },
        "id": "HcoUj-4n0eX5",
        "outputId": "e0996de4-9586-4036-9625-d2f25466f1ce"
      },
      "execution_count": null,
      "outputs": [
        {
          "output_type": "stream",
          "name": "stdout",
          "text": [
            "[[1 2 3]\n",
            " [4 5 6]\n",
            " [6 7 8]]\n",
            "(3, 3)\n",
            "9\n",
            "2\n",
            "int64\n",
            "First element: 1\n",
            "First row: [1 2 3]\n",
            "Last row): [6 7 8]\n",
            "First column: [1 4 6]\n",
            "Second row: [4 5 6]\n",
            "Submatrix from row 1 and column 1 onwards:\n",
            " [[5 6]\n",
            " [7 8]]\n",
            "Reshaped to (1,9):\n",
            " [[1 2 3 4 5 6 6 7 8]]\n",
            "Reshaped to (9,1):\n",
            " [[1]\n",
            " [2]\n",
            " [3]\n",
            " [4]\n",
            " [5]\n",
            " [6]\n",
            " [6]\n",
            " [7]\n",
            " [8]]\n"
          ]
        }
      ]
    },
    {
      "cell_type": "code",
      "source": [
        "# 2D array\n",
        "import numpy as np\n",
        "c = np.array([[1, 2, 3], [4, 5, 6], [7, 8, 9], [10, 11, 12]])\n",
        "print(c)\n",
        "\n",
        "\n",
        "# Reshape to 13 row, 4 columns\n",
        "c_reshaped = c.reshape(3, 4)\n",
        "print(\"Reshaped to (3,4):\\n\", c_reshaped)\n",
        "\n",
        "# Reshape to 6 rows, 2 column\n",
        "c_reshaped2 = c.reshape(6, 2)\n",
        "print(\"Reshaped to (6,2):\\n\", c_reshaped2)"
      ],
      "metadata": {
        "colab": {
          "base_uri": "https://localhost:8080/"
        },
        "id": "S_uPu03O26Mj",
        "outputId": "0baab1df-812a-45b2-83b5-46d79cb3a3c5"
      },
      "execution_count": null,
      "outputs": [
        {
          "output_type": "stream",
          "name": "stdout",
          "text": [
            "[[ 1  2  3]\n",
            " [ 4  5  6]\n",
            " [ 7  8  9]\n",
            " [10 11 12]]\n",
            "Reshaped to (3,4):\n",
            " [[ 1  2  3  4]\n",
            " [ 5  6  7  8]\n",
            " [ 9 10 11 12]]\n",
            "Reshaped to (6,2):\n",
            " [[ 1  2]\n",
            " [ 3  4]\n",
            " [ 5  6]\n",
            " [ 7  8]\n",
            " [ 9 10]\n",
            " [11 12]]\n"
          ]
        }
      ]
    },
    {
      "cell_type": "code",
      "source": [
        "# correct way with numpy\n",
        "\n",
        "import numpy as np\n",
        "\n",
        "velocities = np.array([50, 60, 70])   # Convert list to numpy array\n",
        "q = 0.5 * velocities**2\n",
        "print(q)\n"
      ],
      "metadata": {
        "colab": {
          "base_uri": "https://localhost:8080/"
        },
        "id": "5gHq3pCANYiH",
        "outputId": "0107912d-ba07-4d3a-d596-ed9c212df6fd"
      },
      "execution_count": null,
      "outputs": [
        {
          "output_type": "stream",
          "name": "stdout",
          "text": [
            "[1250. 1800. 2450.]\n"
          ]
        }
      ]
    },
    {
      "cell_type": "code",
      "source": [
        "# list\n",
        "velocities = [50, 60, 70]\n",
        "print(velocities * 2)     # Here, *2 means repetition (concatenation),\n",
        "                          # not multiplication.\n",
        "\n",
        "# numpy array\n",
        "import numpy as np\n",
        "\n",
        "velocities = np.array([50, 60, 70])\n",
        "print(velocities * 2)   # Here, *2 means element-wise multiplication"
      ],
      "metadata": {
        "colab": {
          "base_uri": "https://localhost:8080/"
        },
        "id": "kGT1qYxpOKa4",
        "outputId": "12a7b3b3-fd0c-4564-923e-82d88efbd4a4"
      },
      "execution_count": null,
      "outputs": [
        {
          "output_type": "stream",
          "name": "stdout",
          "text": [
            "[50, 60, 70, 50, 60, 70]\n",
            "[100 120 140]\n"
          ]
        }
      ]
    },
    {
      "cell_type": "code",
      "source": [
        "# Case 1: ρ and V have same length (pairwise calculation)\n",
        "import numpy as np\n",
        "\n",
        "rho = np.array([1.2, 1.1, 1.0])    # densities\n",
        "V   = 50       # velocities\n",
        "S = 20     # wing area (m²)\n",
        "CL = 0.5   # lift coefficient\n",
        "\n",
        "L = 0.5 * rho * V**2 * S * CL\n",
        "print(L)\n"
      ],
      "metadata": {
        "id": "wCPr221bkw6C",
        "outputId": "30957355-0748-4408-d36c-12fe72ca13e9",
        "colab": {
          "base_uri": "https://localhost:8080/"
        }
      },
      "execution_count": 6,
      "outputs": [
        {
          "output_type": "stream",
          "name": "stdout",
          "text": [
            "[15000. 13750. 12500.]\n"
          ]
        }
      ]
    },
    {
      "cell_type": "code",
      "source": [
        "# Case 2: ρ and V have same length (pairwise calculation)\n",
        "import numpy as np\n",
        "\n",
        "rho = np.array([1.2, 1.1, 1.0])    # densities\n",
        "V   = np.array([50, 60, 70])       # velocities\n",
        "S = 20     # wing area (m²)\n",
        "CL = 0.5   # lift coefficient\n",
        "\n",
        "L = 0.5 * rho * V**2 * S * CL\n",
        "print(L)\n"
      ],
      "metadata": {
        "colab": {
          "base_uri": "https://localhost:8080/"
        },
        "id": "CkhZFAqgP8N5",
        "outputId": "bc3f38d3-aa40-48e2-9040-e74363232fec"
      },
      "execution_count": null,
      "outputs": [
        {
          "output_type": "stream",
          "name": "stdout",
          "text": [
            "[15000. 19800. 24500.]\n"
          ]
        }
      ]
    },
    {
      "cell_type": "code",
      "source": [
        "# Case 3: All combinations of ρ and V (reshaping)\n",
        "rho = np.array([1.2, 1.1, 1.0])   # 3 densities\n",
        "V   = np.array([50, 60, 70])      # 3 velocities\n",
        "S = 20\n",
        "CL = 0.5\n",
        "\n",
        "# Broadcasting: convert rho to column vector\n",
        "L = 0.5 * rho.reshape(3, 1) * V**2 * S * CL  # or use rho[:, np.newaxis]\n",
        "print(L)\n",
        "\n",
        "# NumPy will happily give you a matrix of Lift values for all combinations of ρ and  V, but it won’t automatically label which value belongs to which pair\n"
      ],
      "metadata": {
        "colab": {
          "base_uri": "https://localhost:8080/"
        },
        "id": "JjVw825lVRRw",
        "outputId": "078b09f6-b4e9-45dd-ad06-48e99df52dae"
      },
      "execution_count": 7,
      "outputs": [
        {
          "output_type": "stream",
          "name": "stdout",
          "text": [
            "[[15000. 21600. 29400.]\n",
            " [13750. 19800. 26950.]\n",
            " [12500. 18000. 24500.]]\n"
          ]
        }
      ]
    },
    {
      "cell_type": "code",
      "source": [
        "# Case 4: for loop with NumPy arrays\n",
        "\n",
        "import numpy as np\n",
        "\n",
        "rho = np.array([1.2, 1.1, 1.0])\n",
        "V   = np.array([50, 60, 70])\n",
        "S = 20\n",
        "CL = 0.5\n",
        "\n",
        "for r in rho:\n",
        "    for v in V:\n",
        "        L = 0.5 * r * v**2 * S * CL\n",
        "        print(f\"rho={r}, V={v}, Lift={L:.0f}\")\n",
        "# This code will also work using only for loops, without NumPy, by treating rho and V as Python lists."
      ],
      "metadata": {
        "colab": {
          "base_uri": "https://localhost:8080/"
        },
        "id": "qNNoRjTBVkfX",
        "outputId": "883dea9c-eba2-4509-e5f5-cb43bcfb73e3"
      },
      "execution_count": null,
      "outputs": [
        {
          "output_type": "stream",
          "name": "stdout",
          "text": [
            "rho=1.2, V=50, Lift=15000\n",
            "rho=1.2, V=60, Lift=21600\n",
            "rho=1.2, V=70, Lift=29400\n",
            "rho=1.1, V=50, Lift=13750\n",
            "rho=1.1, V=60, Lift=19800\n",
            "rho=1.1, V=70, Lift=26950\n",
            "rho=1.0, V=50, Lift=12500\n",
            "rho=1.0, V=60, Lift=18000\n",
            "rho=1.0, V=70, Lift=24500\n"
          ]
        }
      ]
    },
    {
      "cell_type": "markdown",
      "source": [
        "# ***matplotlib***"
      ],
      "metadata": {
        "id": "5YqEyxy27pHx"
      }
    },
    {
      "cell_type": "code",
      "source": [
        "import numpy as np\n",
        "x = np.linspace(0,10,100)\n",
        "print(x)\n",
        "y = np.arange(0,10,0.1)\n",
        "print(y)"
      ],
      "metadata": {
        "id": "indXw1m77mjr",
        "outputId": "522c9690-cdba-4e10-a16d-b22925432f78",
        "colab": {
          "base_uri": "https://localhost:8080/"
        }
      },
      "execution_count": null,
      "outputs": [
        {
          "output_type": "stream",
          "name": "stdout",
          "text": [
            "[ 0.          0.1010101   0.2020202   0.3030303   0.4040404   0.50505051\n",
            "  0.60606061  0.70707071  0.80808081  0.90909091  1.01010101  1.11111111\n",
            "  1.21212121  1.31313131  1.41414141  1.51515152  1.61616162  1.71717172\n",
            "  1.81818182  1.91919192  2.02020202  2.12121212  2.22222222  2.32323232\n",
            "  2.42424242  2.52525253  2.62626263  2.72727273  2.82828283  2.92929293\n",
            "  3.03030303  3.13131313  3.23232323  3.33333333  3.43434343  3.53535354\n",
            "  3.63636364  3.73737374  3.83838384  3.93939394  4.04040404  4.14141414\n",
            "  4.24242424  4.34343434  4.44444444  4.54545455  4.64646465  4.74747475\n",
            "  4.84848485  4.94949495  5.05050505  5.15151515  5.25252525  5.35353535\n",
            "  5.45454545  5.55555556  5.65656566  5.75757576  5.85858586  5.95959596\n",
            "  6.06060606  6.16161616  6.26262626  6.36363636  6.46464646  6.56565657\n",
            "  6.66666667  6.76767677  6.86868687  6.96969697  7.07070707  7.17171717\n",
            "  7.27272727  7.37373737  7.47474747  7.57575758  7.67676768  7.77777778\n",
            "  7.87878788  7.97979798  8.08080808  8.18181818  8.28282828  8.38383838\n",
            "  8.48484848  8.58585859  8.68686869  8.78787879  8.88888889  8.98989899\n",
            "  9.09090909  9.19191919  9.29292929  9.39393939  9.49494949  9.5959596\n",
            "  9.6969697   9.7979798   9.8989899  10.        ]\n",
            "[0.  0.1 0.2 0.3 0.4 0.5 0.6 0.7 0.8 0.9 1.  1.1 1.2 1.3 1.4 1.5 1.6 1.7\n",
            " 1.8 1.9 2.  2.1 2.2 2.3 2.4 2.5 2.6 2.7 2.8 2.9 3.  3.1 3.2 3.3 3.4 3.5\n",
            " 3.6 3.7 3.8 3.9 4.  4.1 4.2 4.3 4.4 4.5 4.6 4.7 4.8 4.9 5.  5.1 5.2 5.3\n",
            " 5.4 5.5 5.6 5.7 5.8 5.9 6.  6.1 6.2 6.3 6.4 6.5 6.6 6.7 6.8 6.9 7.  7.1\n",
            " 7.2 7.3 7.4 7.5 7.6 7.7 7.8 7.9 8.  8.1 8.2 8.3 8.4 8.5 8.6 8.7 8.8 8.9\n",
            " 9.  9.1 9.2 9.3 9.4 9.5 9.6 9.7 9.8 9.9]\n"
          ]
        }
      ]
    },
    {
      "cell_type": "code",
      "source": [
        "import numpy as np\n",
        "import matplotlib.pyplot as plt\n",
        "\n",
        "# Parameters\n",
        "rho = 1.225\n",
        "S = 20\n",
        "CL = 0.5\n",
        "V = np.linspace(10, 100, 20)\n",
        "L = 0.5 * rho * V**2 * S * CL\n",
        "\n",
        "# Figure 1: Line plot\n",
        "plt.figure(1)  # figure number 1\n",
        "plt.plot(V, L, color='blue', linewidth=2)\n",
        "plt.xlabel(\"Velocity (m/s)\")\n",
        "plt.ylabel(\"Lift (N)\")\n",
        "plt.title(\"Lift vs Velocity (Line)\")\n",
        "plt.grid(True)\n"
      ],
      "metadata": {
        "colab": {
          "base_uri": "https://localhost:8080/",
          "height": 472
        },
        "id": "7_EXFZRj59Dr",
        "outputId": "58e7c994-5497-4cd9-91f2-2b82ba24b371"
      },
      "execution_count": null,
      "outputs": [
        {
          "output_type": "display_data",
          "data": {
            "text/plain": [
              "<Figure size 640x480 with 1 Axes>"
            ],
            "image/png": "[encoded data removed]"
          },
          "metadata": {}
        }
      ]
    },
    {
      "cell_type": "code",
      "source": [
        "import numpy as np\n",
        "import matplotlib.pyplot as plt\n",
        "\n",
        "# Parameters\n",
        "rho = 1.225\n",
        "S = 20\n",
        "CL = 0.5\n",
        "V = np.linspace(10, 100, 20)\n",
        "L = 0.5 * rho * V**2 * S * CL\n",
        "\n",
        "# Figure 1: Line plot\n",
        "plt.figure(1)  # figure number 1\n",
        "plt.plot(V, L, color='blue', linewidth=2)\n",
        "plt.xlabel(\"Velocity (m/s)\")\n",
        "plt.ylabel(\"Lift (N)\")\n",
        "plt.title(\"Lift vs Velocity (Line)\")\n",
        "plt.grid(True)\n",
        "\n",
        "# Figure 2: Scatter plot\n",
        "plt.figure(2)  # figure number 2\n",
        "plt.scatter(V, L, color='red', s=50)\n",
        "plt.xlabel(\"Velocity (m/s)\")\n",
        "plt.ylabel(\"Lift (N)\")\n",
        "plt.title(\"Lift vs Velocity (Scatter)\")\n",
        "plt.grid(True)\n",
        "\n",
        "plt.show()  # displays both figures\n",
        "\n"
      ],
      "metadata": {
        "colab": {
          "base_uri": "https://localhost:8080/",
          "height": 927
        },
        "id": "6Otfq8nfPHIf",
        "outputId": "ad0bc42d-4b00-4974-e9be-d56be57db779"
      },
      "execution_count": null,
      "outputs": [
        {
          "output_type": "display_data",
          "data": {
            "text/plain": [
              "<Figure size 640x480 with 1 Axes>"
            ],
            "image/png": "[encoded data removed]"
          },
          "metadata": {}
        },
        {
          "output_type": "display_data",
          "data": {
            "text/plain": [
              "<Figure size 640x480 with 1 Axes>"
            ],
            "image/png": "[encoded data removed]"
          },
          "metadata": {}
        }
      ]
    },
    {
      "cell_type": "code",
      "source": [
        "# subplot\n",
        "import numpy as np\n",
        "import matplotlib.pyplot as plt\n",
        "\n",
        "# Parameters\n",
        "rho = 1.225\n",
        "S = 20\n",
        "CL = 0.5\n",
        "V = np.linspace(10, 100, 20)\n",
        "L = 0.5 * rho * V**2 * S * CL\n",
        "\n",
        "# Create a figure\n",
        "plt.figure(figsize=(12,5))  # width, height\n",
        "\n",
        "# First subplot: Line plot\n",
        "plt.subplot(1, 2, 1)  # 1 row, 2 columns, subplot 1\n",
        "plt.plot(V, L, color='blue', linewidth=2)\n",
        "plt.xlabel(\"Velocity (m/s)\")\n",
        "plt.ylabel(\"Lift (N)\")\n",
        "plt.title(\"Lift vs Velocity (Line)\")\n",
        "plt.grid(True)\n",
        "\n",
        "# Second subplot: Scatter plot\n",
        "plt.subplot(1, 2, 2)  # 1 row, 2 columns, subplot 2\n",
        "plt.scatter(V, L, color='red', s=50)\n",
        "plt.xlabel(\"Velocity (m/s)\")\n",
        "plt.ylabel(\"Lift (N)\")\n",
        "plt.title(\"Lift vs Velocity (Scatter)\")\n",
        "plt.grid(True)\n",
        "\n",
        "plt.tight_layout()  # adjusts spacing so labels don't overlap\n",
        "plt.show()\n"
      ],
      "metadata": {
        "colab": {
          "base_uri": "https://localhost:8080/",
          "height": 507
        },
        "id": "98kyY0HSRMkP",
        "outputId": "065cf57c-2da2-4316-f768-7c5180ea5345"
      },
      "execution_count": null,
      "outputs": [
        {
          "output_type": "display_data",
          "data": {
            "text/plain": [
              "<Figure size 1200x500 with 2 Axes>"
            ],
            "image/png": "[encoded data removed]"
          },
          "metadata": {}
        }
      ]
    },
    {
      "cell_type": "code",
      "source": [
        "# overlay plot\n",
        "import numpy as np\n",
        "import matplotlib.pyplot as plt\n",
        "\n",
        "# Parameters\n",
        "rho = 1.225\n",
        "S = 20\n",
        "CL = 0.5\n",
        "V = np.linspace(10, 100, 20)\n",
        "L = 0.5 * rho * V**2 * S * CL\n",
        "\n",
        "\n",
        "plt.figure(1)  # figure number\n",
        "\n",
        "plt.plot(V, L, color='blue', linewidth=2)# Line plot\n",
        "\n",
        "plt.scatter(V, L, color='red', s=50) # Scatter plot\n",
        "\n",
        "CL = 1.0\n",
        "L = 0.5 * rho * V**2 * S * CL\n",
        "plt.plot(V, L, color='blue', linewidth=2)# Line plot\n",
        "\n",
        "plt.xlabel(\"Velocity (m/s)\")\n",
        "plt.ylabel(\"Lift (N)\")\n",
        "plt.title(\"Lift vs Velocity (Scatter)\")\n",
        "plt.grid(True)\n",
        "\n",
        "plt.show()  # displays both figures"
      ],
      "metadata": {
        "colab": {
          "base_uri": "https://localhost:8080/",
          "height": 472
        },
        "id": "itJCjSkzSvlu",
        "outputId": "b9c13bff-da4c-4b62-b652-bb2f20e34ff2"
      },
      "execution_count": null,
      "outputs": [
        {
          "output_type": "display_data",
          "data": {
            "text/plain": [
              "<Figure size 640x480 with 1 Axes>"
            ],
            "image/png": "[encoded data removed]"
          },
          "metadata": {}
        }
      ]
    },
    {
      "cell_type": "code",
      "source": [
        "import numpy as np\n",
        "import matplotlib.pyplot as plt\n",
        "\n",
        "# Parameters\n",
        "rho = np.array([1.0, 1.1, 1.2])  # air densities (kg/m^3)\n",
        "S = 20\n",
        "CL = 0.5\n",
        "V = np.linspace(10, 100, 20)     # velocity array\n",
        "\n",
        "# Figure 1: Line plot\n",
        "plt.figure(1)\n",
        "\n",
        "for r in rho:\n",
        "    L = 0.5 * r * V**2 * S * CL\n",
        "    plt.plot(V, L, linewidth=2, label=f\"rho={r} kg/m^3\")\n",
        "\n",
        "plt.xlabel(\"Velocity (m/s)\")\n",
        "plt.ylabel(\"Lift (N)\")\n",
        "plt.title(\"Lift vs Velocity for different Air Densities\")\n",
        "plt.grid(True)\n",
        "plt.legend()\n",
        "plt.show()\n"
      ],
      "metadata": {
        "colab": {
          "base_uri": "https://localhost:8080/",
          "height": 472
        },
        "id": "bsSG6VKTUISI",
        "outputId": "0f6e886f-0528-4ea7-904b-80321d09809f"
      },
      "execution_count": null,
      "outputs": [
        {
          "output_type": "display_data",
          "data": {
            "text/plain": [
              "<Figure size 640x480 with 1 Axes>"
            ],
            "image/png": "[encoded data removed]"
          },
          "metadata": {}
        }
      ]
    },
    {
      "cell_type": "code",
      "source": [
        "import numpy as np\n",
        "import matplotlib.pyplot as plt\n",
        "\n",
        "rho = np.array([1.0, 1.2, 1.4])\n",
        "CL  = np.array([0.1, 0.2])\n",
        "S = 20\n",
        "V = np.linspace(10, 100, 20)\n",
        "\n",
        "# NESTED LOOP\n",
        "for r in rho:\n",
        "    for cl in CL:\n",
        "        L = 0.5 * r * V**2 * S * cl\n",
        "        plt.plot(V, L, label=f\"rho={r}, CL={cl}\")\n",
        "\n",
        "plt.xlabel(\"Velocity (m/s)\")\n",
        "plt.ylabel(\"Lift (N)\")\n",
        "plt.title(\"Lift vs Velocity for multiple rho and CL\")\n",
        "plt.grid(True)\n",
        "plt.legend()\n",
        "plt.show()\n",
        "\n"
      ],
      "metadata": {
        "colab": {
          "base_uri": "https://localhost:8080/",
          "height": 472
        },
        "id": "u7-5u3lFXrGw",
        "outputId": "dd12ef1d-8a15-4bc2-8b2f-959b792b25c8"
      },
      "execution_count": null,
      "outputs": [
        {
          "output_type": "display_data",
          "data": {
            "text/plain": [
              "<Figure size 640x480 with 1 Axes>"
            ],
            "image/png": "[encoded data removed]"
          },
          "metadata": {}
        }
      ]
    },
    {
      "cell_type": "code",
      "source": [
        "import numpy as np\n",
        "import matplotlib.pyplot as plt\n",
        "\n",
        "# Parameters\n",
        "rho = 1.225  # air density kg/m^3\n",
        "mu = 1.8e-5  # dynamic viscosity kg/m/s\n",
        "D = np.array([0.01, 0.02, 0.05, 0.1])  # pipe diameter (m)\n",
        "V = np.linspace(0.1, 10, 100)          # velocity m/s\n",
        "\n",
        "# Compute Reynolds number: Re = rho * V * D / mu\n",
        "plt.figure(figsize=(6,4))\n",
        "for d in D:\n",
        "    Re = rho * V * d / mu\n",
        "    plt.plot(V, Re, label=f'D={d} m')\n",
        "\n",
        "plt.xlabel(\"Velocity (m/s)\")\n",
        "plt.ylabel(\"Reynolds Number\")\n",
        "plt.title(\"Reynolds Number vs Velocity\")\n",
        "plt.grid(True)\n",
        "plt.legend()\n",
        "plt.show()\n"
      ],
      "metadata": {
        "colab": {
          "base_uri": "https://localhost:8080/",
          "height": 410
        },
        "id": "FDQxyGiCOYa4",
        "outputId": "e83493b6-25f0-4263-82e4-3f6e2a1a4963"
      },
      "execution_count": null,
      "outputs": [
        {
          "output_type": "display_data",
          "data": {
            "text/plain": [
              "<Figure size 600x400 with 1 Axes>"
            ],
            "image/png": "[encoded data removed]"
          },
          "metadata": {}
        }
      ]
    },
    {
      "cell_type": "markdown",
      "source": [
        "# ***pandas***"
      ],
      "metadata": {
        "id": "2lxLyYsMz3V3"
      }
    },
    {
      "cell_type": "code",
      "source": [
        "import pandas as pd\n",
        "\n",
        "# Sample data\n",
        "data = {\n",
        "    'Altitude_m': [0, 1000, 2000],\n",
        "    'Pressure_Pa': [101325, 89875, 79495],\n",
        "    'Temperature_C': [15, 8.5, 2]\n",
        "}\n",
        "\n",
        "# Create DataFrame\n",
        "df = pd.DataFrame(data)\n",
        "print(df)\n",
        "\n",
        "# 1. View top or bottom rows\n",
        "print(\"First 5 rows (default):\")\n",
        "print(df.head())         # top 5 rows\n",
        "print(\"\\nFirst 2 rows:\")\n",
        "print(df.head(2))        # top 2 rows\n",
        "print(\"\\nLast 2 rows:\")\n",
        "print(df.tail(2))        # last 2 rows\n",
        "\n",
        "# 2. Basic info about DataFrame\n",
        "print(\"\\nDataFrame info:\")\n",
        "print(df.info())          # shows column names, dtype, non-null count\n",
        "\n",
        "\n",
        "# 3. Summary statistics\n",
        "print(\"\\n3.Summary statistics:\")\n",
        "print(df.describe())      # mean, std, min, max, quartiles for numeric columns\n",
        "\n",
        "\n",
        "# 4. Access columns\n",
        "\n",
        "print(\"\\n4.Pressure column (Series):\")\n",
        "print(df['Pressure_Pa'])  # single column\n",
        "\n",
        "print(\"\\n4.1Altitude and Temperature columns (DataFrame):\")\n",
        "print(df[['Altitude_m', 'Temperature_C']])  # multiple columns\n",
        "\n",
        "# 5. Access rows\n",
        "\n",
        "print(\"\\n5.Second row (index 1):\")\n",
        "print(df.iloc[1])          # by integer location index\n",
        "print(\"\\n5.1Rows where Altitude > 1000:\")\n",
        "print(df[df['Altitude_m'] > 1000])  # conditional filtering\n",
        "\n",
        "# 6. Add new column\n",
        "# Example: convert Temperature to Kelvin\n",
        "df['Temperature_K'] = df['Temperature_C'] + 273.15\n",
        "print(\"\\n6.DataFrame with Temperature in Kelvin:\")\n",
        "print(df)\n",
        "\n",
        "# 7. Get column names\n",
        "print(\"\\n7.Column names:\")\n",
        "print(df.columns)\n",
        "\n",
        "\n",
        "# 8. Rename columns\n",
        "df_rename = df.rename(columns={'Pressure_Pa':'Pressure (Pa)'})\n",
        "print(\"\\n8.DataFrame with renamed column:\")\n",
        "print(df_rename)"
      ],
      "metadata": {
        "id": "_LxaX1i740_-",
        "outputId": "88684d2f-526c-44c2-d2fe-7ef9ca868340",
        "colab": {
          "base_uri": "https://localhost:8080/"
        }
      },
      "execution_count": null,
      "outputs": [
        {
          "output_type": "stream",
          "name": "stdout",
          "text": [
            "   Altitude_m  Pressure_Pa  Temperature_C\n",
            "0           0       101325           15.0\n",
            "1        1000        89875            8.5\n",
            "2        2000        79495            2.0\n",
            "First 5 rows (default):\n",
            "   Altitude_m  Pressure_Pa  Temperature_C\n",
            "0           0       101325           15.0\n",
            "1        1000        89875            8.5\n",
            "2        2000        79495            2.0\n",
            "\n",
            "First 2 rows:\n",
            "   Altitude_m  Pressure_Pa  Temperature_C\n",
            "0           0       101325           15.0\n",
            "1        1000        89875            8.5\n",
            "\n",
            "Last 2 rows:\n",
            "   Altitude_m  Pressure_Pa  Temperature_C\n",
            "1        1000        89875            8.5\n",
            "2        2000        79495            2.0\n",
            "\n",
            "DataFrame info:\n",
            "<class 'pandas.core.frame.DataFrame'>\n",
            "RangeIndex: 3 entries, 0 to 2\n",
            "Data columns (total 3 columns):\n",
            " #   Column         Non-Null Count  Dtype  \n",
            "---  ------         --------------  -----  \n",
            " 0   Altitude_m     3 non-null      int64  \n",
            " 1   Pressure_Pa    3 non-null      int64  \n",
            " 2   Temperature_C  3 non-null      float64\n",
            "dtypes: float64(1), int64(2)\n",
            "memory usage: 204.0 bytes\n",
            "None\n",
            "\n",
            "3.Summary statistics:\n",
            "       Altitude_m    Pressure_Pa  Temperature_C\n",
            "count         3.0       3.000000           3.00\n",
            "mean       1000.0   90231.666667           8.50\n",
            "std        1000.0   10919.369640           6.50\n",
            "min           0.0   79495.000000           2.00\n",
            "25%         500.0   84685.000000           5.25\n",
            "50%        1000.0   89875.000000           8.50\n",
            "75%        1500.0   95600.000000          11.75\n",
            "max        2000.0  101325.000000          15.00\n",
            "\n",
            "4.Pressure column (Series):\n",
            "0    101325\n",
            "1     89875\n",
            "2     79495\n",
            "Name: Pressure_Pa, dtype: int64\n",
            "\n",
            "4.1Altitude and Temperature columns (DataFrame):\n",
            "   Altitude_m  Temperature_C\n",
            "0           0           15.0\n",
            "1        1000            8.5\n",
            "2        2000            2.0\n",
            "\n",
            "5.Second row (index 1):\n",
            "Altitude_m        1000.0\n",
            "Pressure_Pa      89875.0\n",
            "Temperature_C        8.5\n",
            "Name: 1, dtype: float64\n",
            "\n",
            "5.1Rows where Altitude > 1000:\n",
            "   Altitude_m  Pressure_Pa  Temperature_C\n",
            "2        2000        79495            2.0\n",
            "\n",
            "6.DataFrame with Temperature in Kelvin:\n",
            "   Altitude_m  Pressure_Pa  Temperature_C  Temperature_K\n",
            "0           0       101325           15.0         288.15\n",
            "1        1000        89875            8.5         281.65\n",
            "2        2000        79495            2.0         275.15\n",
            "\n",
            "7.Column names:\n",
            "Index(['Altitude_m', 'Pressure_Pa', 'Temperature_C', 'Temperature_K'], dtype='object')\n",
            "\n",
            "8.DataFrame with renamed column:\n",
            "   Altitude_m  Pressure (Pa)  Temperature_C  Temperature_K\n",
            "0           0         101325           15.0         288.15\n",
            "1        1000          89875            8.5         281.65\n",
            "2        2000          79495            2.0         275.15\n"
          ]
        }
      ]
    },
    {
      "cell_type": "code",
      "source": [
        "# can also create DataFrame from other structures\n",
        "# List of lists → each inner list = row\n",
        "\n",
        "data = [[0, 101325, 15],[1000, 89875, 8.5],[2000,79495, 2]]\n",
        "df = pd.DataFrame(data, columns=['Altitude_m','Pressure_Pa', 'Temperature_C'])\n",
        "print(df)"
      ],
      "metadata": {
        "id": "liBnSz-a0cCe",
        "outputId": "8cccaa0b-0b6e-4d77-cc20-ea3ac2db1e55",
        "colab": {
          "base_uri": "https://localhost:8080/"
        }
      },
      "execution_count": null,
      "outputs": [
        {
          "output_type": "stream",
          "name": "stdout",
          "text": [
            "   Altitude_m  Pressure_Pa  Temperature_C\n",
            "0           0       101325           15.0\n",
            "1        1000        89875            8.5\n",
            "2        2000        79495            2.0\n"
          ]
        }
      ]
    },
    {
      "cell_type": "markdown",
      "source": [
        "## ***upload csv file from local desktop***"
      ],
      "metadata": {
        "id": "4UwWBtAI7c0E"
      }
    },
    {
      "cell_type": "code",
      "source": [
        "import pandas as pd\n",
        "from google.colab import files\n",
        "\n",
        "uploaded = files.upload()\n",
        "\n",
        "filename = list(uploaded.keys())[0] # this will automaticall will take file name\n",
        "print(\"Reading file:\", filename)\n",
        "\n",
        "df_csv = pd.read_csv(filename)\n",
        "df_csv.head()\n"
      ],
      "metadata": {
        "id": "bFFcdbvg6LB8",
        "outputId": "c474c6a2-4220-4d60-de7d-9dcd1b5a9973",
        "colab": {
          "base_uri": "https://localhost:8080/",
          "height": 280
        }
      },
      "execution_count": null,
      "outputs": [
        {
          "output_type": "display_data",
          "data": {
            "text/plain": [
              "<IPython.core.display.HTML object>"
            ],
            "text/html": [
              "\n",
              "     <input type=\"file\" id=\"files-7214cec9-78ef-4061-8c95-fe423bfa1ccf\" name=\"files[]\" multiple disabled\n",
              "        style=\"border:none\" />\n",
              "     <output id=\"result-7214cec9-78ef-4061-8c95-fe423bfa1ccf\">\n",
              "      Upload widget is only available when the cell has been executed in the\n",
              "      current browser session. Please rerun this cell to enable.\n",
              "      </output>\n",
              "      <script>// Copyright 2017 Google LLC\n",
              "//\n",
              "// Licensed under the Apache License, Version 2.0 (the \"License\");\n",
              "// you may not use this file except in compliance with the License.\n",
              "// You may obtain a copy of the License at\n",
              "//\n",
              "//      http://www.apache.org/licenses/LICENSE-2.0\n",
              "//\n",
              "// Unless required by applicable law or agreed to in writing, software\n",
              "// distributed under the License is distributed on an \"AS IS\" BASIS,\n",
              "// WITHOUT WARRANTIES OR CONDITIONS OF ANY KIND, either express or implied.\n",
              "// See the License for the specific language governing permissions and\n",
              "// limitations under the License.\n",
              "\n",
              "/**\n",
              " * @fileoverview Helpers for google.colab Python module.\n",
              " */\n",
              "(function(scope) {\n",
              "function span(text, styleAttributes = {}) {\n",
              "  const element = document.createElement('span');\n",
              "  element.textContent = text;\n",
              "  for (const key of Object.keys(styleAttributes)) {\n",
              "    element.style[key] = styleAttributes[key];\n",
              "  }\n",
              "  return element;\n",
              "}\n",
              "\n",
              "// Max number of bytes which will be uploaded at a time.\n",
              "const MAX_PAYLOAD_SIZE = 100 * 1024;\n",
              "\n",
              "function _uploadFiles(inputId, outputId) {\n",
              "  const steps = uploadFilesStep(inputId, outputId);\n",
              "  const outputElement = document.getElementById(outputId);\n",
              "  // Cache steps on the outputElement to make it available for the next call\n",
              "  // to uploadFilesContinue from Python.\n",
              "  outputElement.steps = steps;\n",
              "\n",
              "  return _uploadFilesContinue(outputId);\n",
              "}\n",
              "\n",
              "// This is roughly an async generator (not supported in the browser yet),\n",
              "// where there are multiple asynchronous steps and the Python side is going\n",
              "// to poll for completion of each step.\n",
              "// This uses a Promise to block the python side on completion of each step,\n",
              "// then passes the result of the previous step as the input to the next step.\n",
              "function _uploadFilesContinue(outputId) {\n",
              "  const outputElement = document.getElementById(outputId);\n",
              "  const steps = outputElement.steps;\n",
              "\n",
              "  const next = steps.next(outputElement.lastPromiseValue);\n",
              "  return Promise.resolve(next.value.promise).then((value) => {\n",
              "    // Cache the last promise value to make it available to the next\n",
              "    // step of the generator.\n",
              "    outputElement.lastPromiseValue = value;\n",
              "    return next.value.response;\n",
              "  });\n",
              "}\n",
              "\n",
              "/**\n",
              " * Generator function which is called between each async step of the upload\n",
              " * process.\n",
              " * @param {string} inputId Element ID of the input file picker element.\n",
              " * @param {string} outputId Element ID of the output display.\n",
              " * @return {!Iterable<!Object>} Iterable of next steps.\n",
              " */\n",
              "function* uploadFilesStep(inputId, outputId) {\n",
              "  const inputElement = document.getElementById(inputId);\n",
              "  inputElement.disabled = false;\n",
              "\n",
              "  const outputElement = document.getElementById(outputId);\n",
              "  outputElement.innerHTML = '';\n",
              "\n",
              "  const pickedPromise = new Promise((resolve) => {\n",
              "    inputElement.addEventListener('change', (e) => {\n",
              "      resolve(e.target.files);\n",
              "    });\n",
              "  });\n",
              "\n",
              "  const cancel = document.createElement('button');\n",
              "  inputElement.parentElement.appendChild(cancel);\n",
              "  cancel.textContent = 'Cancel upload';\n",
              "  const cancelPromise = new Promise((resolve) => {\n",
              "    cancel.onclick = () => {\n",
              "      resolve(null);\n",
              "    };\n",
              "  });\n",
              "\n",
              "  // Wait for the user to pick the files.\n",
              "  const files = yield {\n",
              "    promise: Promise.race([pickedPromise, cancelPromise]),\n",
              "    response: {\n",
              "      action: 'starting',\n",
              "    }\n",
              "  };\n",
              "\n",
              "  cancel.remove();\n",
              "\n",
              "  // Disable the input element since further picks are not allowed.\n",
              "  inputElement.disabled = true;\n",
              "\n",
              "  if (!files) {\n",
              "    return {\n",
              "      response: {\n",
              "        action: 'complete',\n",
              "      }\n",
              "    };\n",
              "  }\n",
              "\n",
              "  for (const file of files) {\n",
              "    const li = document.createElement('li');\n",
              "    li.append(span(file.name, {fontWeight: 'bold'}));\n",
              "    li.append(span(\n",
              "        `(${file.type || 'n/a'}) - ${file.size} bytes, ` +\n",
              "        `last modified: ${\n",
              "            file.lastModifiedDate ? file.lastModifiedDate.toLocaleDateString() :\n",
              "                                    'n/a'} - `));\n",
              "    const percent = span('0% done');\n",
              "    li.appendChild(percent);\n",
              "\n",
              "    outputElement.appendChild(li);\n",
              "\n",
              "    const fileDataPromise = new Promise((resolve) => {\n",
              "      const reader = new FileReader();\n",
              "      reader.onload = (e) => {\n",
              "        resolve(e.target.result);\n",
              "      };\n",
              "      reader.readAsArrayBuffer(file);\n",
              "    });\n",
              "    // Wait for the data to be ready.\n",
              "    let fileData = yield {\n",
              "      promise: fileDataPromise,\n",
              "      response: {\n",
              "        action: 'continue',\n",
              "      }\n",
              "    };\n",
              "\n",
              "    // Use a chunked sending to avoid message size limits. See b/62115660.\n",
              "    let position = 0;\n",
              "    do {\n",
              "      const length = Math.min(fileData.byteLength - position, MAX_PAYLOAD_SIZE);\n",
              "      const chunk = new Uint8Array(fileData, position, length);\n",
              "      position += length;\n",
              "\n",
              "      const base64 = btoa(String.fromCharCode.apply(null, chunk));\n",
              "      yield {\n",
              "        response: {\n",
              "          action: 'append',\n",
              "          file: file.name,\n",
              "          data: base64,\n",
              "        },\n",
              "      };\n",
              "\n",
              "      let percentDone = fileData.byteLength === 0 ?\n",
              "          100 :\n",
              "          Math.round((position / fileData.byteLength) * 100);\n",
              "      percent.textContent = `${percentDone}% done`;\n",
              "\n",
              "    } while (position < fileData.byteLength);\n",
              "  }\n",
              "\n",
              "  // All done.\n",
              "  yield {\n",
              "    response: {\n",
              "      action: 'complete',\n",
              "    }\n",
              "  };\n",
              "}\n",
              "\n",
              "scope.google = scope.google || {};\n",
              "scope.google.colab = scope.google.colab || {};\n",
              "scope.google.colab._files = {\n",
              "  _uploadFiles,\n",
              "  _uploadFilesContinue,\n",
              "};\n",
              "})(self);\n",
              "</script> "
            ]
          },
          "metadata": {}
        },
        {
          "output_type": "stream",
          "name": "stdout",
          "text": [
            "Saving sat_data.csv to sat_data (3).csv\n",
            "Reading file: sat_data (3).csv\n"
          ]
        },
        {
          "output_type": "execute_result",
          "data": {
            "text/plain": [
              "   Time_days  Altitude_km\n",
              "0          1         5000\n",
              "1          2         4820\n",
              "2          3         4655\n",
              "3          4         4469\n",
              "4          5         4285"
            ],
            "text/html": [
              "\n",
              "  <div id=\"df-c25dc110-b377-443a-bc2f-5c9914089200\" class=\"colab-df-container\">\n",
              "    <div>\n",
              "<style scoped>\n",
              "    .dataframe tbody tr th:only-of-type {\n",
              "        vertical-align: middle;\n",
              "    }\n",
              "\n",
              "    .dataframe tbody tr th {\n",
              "        vertical-align: top;\n",
              "    }\n",
              "\n",
              "    .dataframe thead th {\n",
              "        text-align: right;\n",
              "    }\n",
              "</style>\n",
              "<table border=\"1\" class=\"dataframe\">\n",
              "  <thead>\n",
              "    <tr style=\"text-align: right;\">\n",
              "      <th></th>\n",
              "      <th>Time_days</th>\n",
              "      <th>Altitude_km</th>\n",
              "    </tr>\n",
              "  </thead>\n",
              "  <tbody>\n",
              "    <tr>\n",
              "      <th>0</th>\n",
              "      <td>1</td>\n",
              "      <td>5000</td>\n",
              "    </tr>\n",
              "    <tr>\n",
              "      <th>1</th>\n",
              "      <td>2</td>\n",
              "      <td>4820</td>\n",
              "    </tr>\n",
              "    <tr>\n",
              "      <th>2</th>\n",
              "      <td>3</td>\n",
              "      <td>4655</td>\n",
              "    </tr>\n",
              "    <tr>\n",
              "      <th>3</th>\n",
              "      <td>4</td>\n",
              "      <td>4469</td>\n",
              "    </tr>\n",
              "    <tr>\n",
              "      <th>4</th>\n",
              "      <td>5</td>\n",
              "      <td>4285</td>\n",
              "    </tr>\n",
              "  </tbody>\n",
              "</table>\n",
              "</div>\n",
              "    <div class=\"colab-df-buttons\">\n",
              "\n",
              "  <div class=\"colab-df-container\">\n",
              "    <button class=\"colab-df-convert\" onclick=\"convertToInteractive('df-c25dc110-b377-443a-bc2f-5c9914089200')\"\n",
              "            title=\"Convert this dataframe to an interactive table.\"\n",
              "            style=\"display:none;\">\n",
              "\n",
              "  <svg xmlns=\"http://www.w3.org/2000/svg\" height=\"24px\" viewBox=\"0 -960 960 960\">\n",
              "    <path d=\"M120-120v-720h720v720H120Zm60-500h600v-160H180v160Zm220 220h160v-160H400v160Zm0 220h160v-160H400v160ZM180-400h160v-160H180v160Zm440 0h160v-160H620v160ZM180-180h160v-160H180v160Zm440 0h160v-160H620v160Z\"/>\n",
              "  </svg>\n",
              "    </button>\n",
              "\n",
              "  <style>\n",
              "    .colab-df-container {\n",
              "      display:flex;\n",
              "      gap: 12px;\n",
              "    }\n",
              "\n",
              "    .colab-df-convert {\n",
              "      background-color: #E8F0FE;\n",
              "      border: none;\n",
              "      border-radius: 50%;\n",
              "      cursor: pointer;\n",
              "      display: none;\n",
              "      fill: #1967D2;\n",
              "      height: 32px;\n",
              "      padding: 0 0 0 0;\n",
              "      width: 32px;\n",
              "    }\n",
              "\n",
              "    .colab-df-convert:hover {\n",
              "      background-color: #E2EBFA;\n",
              "      box-shadow: 0px 1px 2px rgba(60, 64, 67, 0.3), 0px 1px 3px 1px rgba(60, 64, 67, 0.15);\n",
              "      fill: #174EA6;\n",
              "    }\n",
              "\n",
              "    .colab-df-buttons div {\n",
              "      margin-bottom: 4px;\n",
              "    }\n",
              "\n",
              "    [theme=dark] .colab-df-convert {\n",
              "      background-color: #3B4455;\n",
              "      fill: #D2E3FC;\n",
              "    }\n",
              "\n",
              "    [theme=dark] .colab-df-convert:hover {\n",
              "      background-color: #434B5C;\n",
              "      box-shadow: 0px 1px 3px 1px rgba(0, 0, 0, 0.15);\n",
              "      filter: drop-shadow(0px 1px 2px rgba(0, 0, 0, 0.3));\n",
              "      fill: #FFFFFF;\n",
              "    }\n",
              "  </style>\n",
              "\n",
              "    <script>\n",
              "      const buttonEl =\n",
              "        document.querySelector('#df-c25dc110-b377-443a-bc2f-5c9914089200 button.colab-df-convert');\n",
              "      buttonEl.style.display =\n",
              "        google.colab.kernel.accessAllowed ? 'block' : 'none';\n",
              "\n",
              "      async function convertToInteractive(key) {\n",
              "        const element = document.querySelector('#df-c25dc110-b377-443a-bc2f-5c9914089200');\n",
              "        const dataTable =\n",
              "          await google.colab.kernel.invokeFunction('convertToInteractive',\n",
              "                                                    [key], {});\n",
              "        if (!dataTable) return;\n",
              "\n",
              "        const docLinkHtml = 'Like what you see? Visit the ' +\n",
              "          '<a target=\"_blank\" href=https://colab.research.google.com/notebooks/data_table.ipynb>data table notebook</a>'\n",
              "          + ' to learn more about interactive tables.';\n",
              "        element.innerHTML = '';\n",
              "        dataTable['output_type'] = 'display_data';\n",
              "        await google.colab.output.renderOutput(dataTable, element);\n",
              "        const docLink = document.createElement('div');\n",
              "        docLink.innerHTML = docLinkHtml;\n",
              "        element.appendChild(docLink);\n",
              "      }\n",
              "    </script>\n",
              "  </div>\n",
              "\n",
              "\n",
              "    <div id=\"df-ce643623-269f-42d4-9a77-fc59f088e9d6\">\n",
              "      <button class=\"colab-df-quickchart\" onclick=\"quickchart('df-ce643623-269f-42d4-9a77-fc59f088e9d6')\"\n",
              "                title=\"Suggest charts\"\n",
              "                style=\"display:none;\">\n",
              "\n",
              "<svg xmlns=\"http://www.w3.org/2000/svg\" height=\"24px\"viewBox=\"0 0 24 24\"\n",
              "     width=\"24px\">\n",
              "    <g>\n",
              "        <path d=\"M19 3H5c-1.1 0-2 .9-2 2v14c0 1.1.9 2 2 2h14c1.1 0 2-.9 2-2V5c0-1.1-.9-2-2-2zM9 17H7v-7h2v7zm4 0h-2V7h2v10zm4 0h-2v-4h2v4z\"/>\n",
              "    </g>\n",
              "</svg>\n",
              "      </button>\n",
              "\n",
              "<style>\n",
              "  .colab-df-quickchart {\n",
              "      --bg-color: #E8F0FE;\n",
              "      --fill-color: #1967D2;\n",
              "      --hover-bg-color: #E2EBFA;\n",
              "      --hover-fill-color: #174EA6;\n",
              "      --disabled-fill-color: #AAA;\n",
              "      --disabled-bg-color: #DDD;\n",
              "  }\n",
              "\n",
              "  [theme=dark] .colab-df-quickchart {\n",
              "      --bg-color: #3B4455;\n",
              "      --fill-color: #D2E3FC;\n",
              "      --hover-bg-color: #434B5C;\n",
              "      --hover-fill-color: #FFFFFF;\n",
              "      --disabled-bg-color: #3B4455;\n",
              "      --disabled-fill-color: #666;\n",
              "  }\n",
              "\n",
              "  .colab-df-quickchart {\n",
              "    background-color: var(--bg-color);\n",
              "    border: none;\n",
              "    border-radius: 50%;\n",
              "    cursor: pointer;\n",
              "    display: none;\n",
              "    fill: var(--fill-color);\n",
              "    height: 32px;\n",
              "    padding: 0;\n",
              "    width: 32px;\n",
              "  }\n",
              "\n",
              "  .colab-df-quickchart:hover {\n",
              "    background-color: var(--hover-bg-color);\n",
              "    box-shadow: 0 1px 2px rgba(60, 64, 67, 0.3), 0 1px 3px 1px rgba(60, 64, 67, 0.15);\n",
              "    fill: var(--button-hover-fill-color);\n",
              "  }\n",
              "\n",
              "  .colab-df-quickchart-complete:disabled,\n",
              "  .colab-df-quickchart-complete:disabled:hover {\n",
              "    background-color: var(--disabled-bg-color);\n",
              "    fill: var(--disabled-fill-color);\n",
              "    box-shadow: none;\n",
              "  }\n",
              "\n",
              "  .colab-df-spinner {\n",
              "    border: 2px solid var(--fill-color);\n",
              "    border-color: transparent;\n",
              "    border-bottom-color: var(--fill-color);\n",
              "    animation:\n",
              "      spin 1s steps(1) infinite;\n",
              "  }\n",
              "\n",
              "  @keyframes spin {\n",
              "    0% {\n",
              "      border-color: transparent;\n",
              "      border-bottom-color: var(--fill-color);\n",
              "      border-left-color: var(--fill-color);\n",
              "    }\n",
              "    20% {\n",
              "      border-color: transparent;\n",
              "      border-left-color: var(--fill-color);\n",
              "      border-top-color: var(--fill-color);\n",
              "    }\n",
              "    30% {\n",
              "      border-color: transparent;\n",
              "      border-left-color: var(--fill-color);\n",
              "      border-top-color: var(--fill-color);\n",
              "      border-right-color: var(--fill-color);\n",
              "    }\n",
              "    40% {\n",
              "      border-color: transparent;\n",
              "      border-right-color: var(--fill-color);\n",
              "      border-top-color: var(--fill-color);\n",
              "    }\n",
              "    60% {\n",
              "      border-color: transparent;\n",
              "      border-right-color: var(--fill-color);\n",
              "    }\n",
              "    80% {\n",
              "      border-color: transparent;\n",
              "      border-right-color: var(--fill-color);\n",
              "      border-bottom-color: var(--fill-color);\n",
              "    }\n",
              "    90% {\n",
              "      border-color: transparent;\n",
              "      border-bottom-color: var(--fill-color);\n",
              "    }\n",
              "  }\n",
              "</style>\n",
              "\n",
              "      <script>\n",
              "        async function quickchart(key) {\n",
              "          const quickchartButtonEl =\n",
              "            document.querySelector('#' + key + ' button');\n",
              "          quickchartButtonEl.disabled = true;  // To prevent multiple clicks.\n",
              "          quickchartButtonEl.classList.add('colab-df-spinner');\n",
              "          try {\n",
              "            const charts = await google.colab.kernel.invokeFunction(\n",
              "                'suggestCharts', [key], {});\n",
              "          } catch (error) {\n",
              "            console.error('Error during call to suggestCharts:', error);\n",
              "          }\n",
              "          quickchartButtonEl.classList.remove('colab-df-spinner');\n",
              "          quickchartButtonEl.classList.add('colab-df-quickchart-complete');\n",
              "        }\n",
              "        (() => {\n",
              "          let quickchartButtonEl =\n",
              "            document.querySelector('#df-ce643623-269f-42d4-9a77-fc59f088e9d6 button');\n",
              "          quickchartButtonEl.style.display =\n",
              "            google.colab.kernel.accessAllowed ? 'block' : 'none';\n",
              "        })();\n",
              "      </script>\n",
              "    </div>\n",
              "\n",
              "    </div>\n",
              "  </div>\n"
            ],
            "application/vnd.google.colaboratory.intrinsic+json": {
              "type": "dataframe",
              "variable_name": "df_csv",
              "summary": "{\n  \"name\": \"df_csv\",\n  \"rows\": 20,\n  \"fields\": [\n    {\n      \"column\": \"Time_days\",\n      \"properties\": {\n        \"dtype\": \"number\",\n        \"std\": 5,\n        \"min\": 1,\n        \"max\": 20,\n        \"num_unique_values\": 20,\n        \"samples\": [\n          1,\n          18,\n          16\n        ],\n        \"semantic_type\": \"\",\n        \"description\": \"\"\n      }\n    },\n    {\n      \"column\": \"Altitude_km\",\n      \"properties\": {\n        \"dtype\": \"number\",\n        \"std\": 1036,\n        \"min\": 1730,\n        \"max\": 5000,\n        \"num_unique_values\": 20,\n        \"samples\": [\n          5000,\n          2057,\n          2300\n        ],\n        \"semantic_type\": \"\",\n        \"description\": \"\"\n      }\n    }\n  ]\n}"
            }
          },
          "metadata": {},
          "execution_count": 27
        }
      ]
    },
    {
      "cell_type": "code",
      "source": [
        "# CSV from GitHub\n",
        "url = \"https://raw.githubusercontent.com/cmvigneswaranaero-gif/space_lab/refs/heads/main/sat_data.csv\"\n",
        "df_csv = pd.read_csv(url)\n",
        "df_csv.head()\n",
        "\n",
        "# Excel from GitHub\n",
        "#url = \"https://github.com/username/repo/raw/main/data.xlsx\"\n",
        "#df_xlsx = pd.read_excel(url)\n"
      ],
      "metadata": {
        "id": "a46CEshy8vpN",
        "outputId": "40278473-cbfc-4f79-ac43-9f64c8a60116",
        "colab": {
          "base_uri": "https://localhost:8080/",
          "height": 206
        }
      },
      "execution_count": null,
      "outputs": [
        {
          "output_type": "execute_result",
          "data": {
            "text/plain": [
              "   Time_days  Altitude_km\n",
              "0          1         5000\n",
              "1          2         4820\n",
              "2          3         4655\n",
              "3          4         4469\n",
              "4          5         4285"
            ],
            "text/html": [
              "\n",
              "  <div id=\"df-cbd9d707-0748-4e81-9b33-9d27e1a0b74f\" class=\"colab-df-container\">\n",
              "    <div>\n",
              "<style scoped>\n",
              "    .dataframe tbody tr th:only-of-type {\n",
              "        vertical-align: middle;\n",
              "    }\n",
              "\n",
              "    .dataframe tbody tr th {\n",
              "        vertical-align: top;\n",
              "    }\n",
              "\n",
              "    .dataframe thead th {\n",
              "        text-align: right;\n",
              "    }\n",
              "</style>\n",
              "<table border=\"1\" class=\"dataframe\">\n",
              "  <thead>\n",
              "    <tr style=\"text-align: right;\">\n",
              "      <th></th>\n",
              "      <th>Time_days</th>\n",
              "      <th>Altitude_km</th>\n",
              "    </tr>\n",
              "  </thead>\n",
              "  <tbody>\n",
              "    <tr>\n",
              "      <th>0</th>\n",
              "      <td>1</td>\n",
              "      <td>5000</td>\n",
              "    </tr>\n",
              "    <tr>\n",
              "      <th>1</th>\n",
              "      <td>2</td>\n",
              "      <td>4820</td>\n",
              "    </tr>\n",
              "    <tr>\n",
              "      <th>2</th>\n",
              "      <td>3</td>\n",
              "      <td>4655</td>\n",
              "    </tr>\n",
              "    <tr>\n",
              "      <th>3</th>\n",
              "      <td>4</td>\n",
              "      <td>4469</td>\n",
              "    </tr>\n",
              "    <tr>\n",
              "      <th>4</th>\n",
              "      <td>5</td>\n",
              "      <td>4285</td>\n",
              "    </tr>\n",
              "  </tbody>\n",
              "</table>\n",
              "</div>\n",
              "    <div class=\"colab-df-buttons\">\n",
              "\n",
              "  <div class=\"colab-df-container\">\n",
              "    <button class=\"colab-df-convert\" onclick=\"convertToInteractive('df-cbd9d707-0748-4e81-9b33-9d27e1a0b74f')\"\n",
              "            title=\"Convert this dataframe to an interactive table.\"\n",
              "            style=\"display:none;\">\n",
              "\n",
              "  <svg xmlns=\"http://www.w3.org/2000/svg\" height=\"24px\" viewBox=\"0 -960 960 960\">\n",
              "    <path d=\"M120-120v-720h720v720H120Zm60-500h600v-160H180v160Zm220 220h160v-160H400v160Zm0 220h160v-160H400v160ZM180-400h160v-160H180v160Zm440 0h160v-160H620v160ZM180-180h160v-160H180v160Zm440 0h160v-160H620v160Z\"/>\n",
              "  </svg>\n",
              "    </button>\n",
              "\n",
              "  <style>\n",
              "    .colab-df-container {\n",
              "      display:flex;\n",
              "      gap: 12px;\n",
              "    }\n",
              "\n",
              "    .colab-df-convert {\n",
              "      background-color: #E8F0FE;\n",
              "      border: none;\n",
              "      border-radius: 50%;\n",
              "      cursor: pointer;\n",
              "      display: none;\n",
              "      fill: #1967D2;\n",
              "      height: 32px;\n",
              "      padding: 0 0 0 0;\n",
              "      width: 32px;\n",
              "    }\n",
              "\n",
              "    .colab-df-convert:hover {\n",
              "      background-color: #E2EBFA;\n",
              "      box-shadow: 0px 1px 2px rgba(60, 64, 67, 0.3), 0px 1px 3px 1px rgba(60, 64, 67, 0.15);\n",
              "      fill: #174EA6;\n",
              "    }\n",
              "\n",
              "    .colab-df-buttons div {\n",
              "      margin-bottom: 4px;\n",
              "    }\n",
              "\n",
              "    [theme=dark] .colab-df-convert {\n",
              "      background-color: #3B4455;\n",
              "      fill: #D2E3FC;\n",
              "    }\n",
              "\n",
              "    [theme=dark] .colab-df-convert:hover {\n",
              "      background-color: #434B5C;\n",
              "      box-shadow: 0px 1px 3px 1px rgba(0, 0, 0, 0.15);\n",
              "      filter: drop-shadow(0px 1px 2px rgba(0, 0, 0, 0.3));\n",
              "      fill: #FFFFFF;\n",
              "    }\n",
              "  </style>\n",
              "\n",
              "    <script>\n",
              "      const buttonEl =\n",
              "        document.querySelector('#df-cbd9d707-0748-4e81-9b33-9d27e1a0b74f button.colab-df-convert');\n",
              "      buttonEl.style.display =\n",
              "        google.colab.kernel.accessAllowed ? 'block' : 'none';\n",
              "\n",
              "      async function convertToInteractive(key) {\n",
              "        const element = document.querySelector('#df-cbd9d707-0748-4e81-9b33-9d27e1a0b74f');\n",
              "        const dataTable =\n",
              "          await google.colab.kernel.invokeFunction('convertToInteractive',\n",
              "                                                    [key], {});\n",
              "        if (!dataTable) return;\n",
              "\n",
              "        const docLinkHtml = 'Like what you see? Visit the ' +\n",
              "          '<a target=\"_blank\" href=https://colab.research.google.com/notebooks/data_table.ipynb>data table notebook</a>'\n",
              "          + ' to learn more about interactive tables.';\n",
              "        element.innerHTML = '';\n",
              "        dataTable['output_type'] = 'display_data';\n",
              "        await google.colab.output.renderOutput(dataTable, element);\n",
              "        const docLink = document.createElement('div');\n",
              "        docLink.innerHTML = docLinkHtml;\n",
              "        element.appendChild(docLink);\n",
              "      }\n",
              "    </script>\n",
              "  </div>\n",
              "\n",
              "\n",
              "    <div id=\"df-89665459-f698-4476-9ece-d0bf7b9c4c62\">\n",
              "      <button class=\"colab-df-quickchart\" onclick=\"quickchart('df-89665459-f698-4476-9ece-d0bf7b9c4c62')\"\n",
              "                title=\"Suggest charts\"\n",
              "                style=\"display:none;\">\n",
              "\n",
              "<svg xmlns=\"http://www.w3.org/2000/svg\" height=\"24px\"viewBox=\"0 0 24 24\"\n",
              "     width=\"24px\">\n",
              "    <g>\n",
              "        <path d=\"M19 3H5c-1.1 0-2 .9-2 2v14c0 1.1.9 2 2 2h14c1.1 0 2-.9 2-2V5c0-1.1-.9-2-2-2zM9 17H7v-7h2v7zm4 0h-2V7h2v10zm4 0h-2v-4h2v4z\"/>\n",
              "    </g>\n",
              "</svg>\n",
              "      </button>\n",
              "\n",
              "<style>\n",
              "  .colab-df-quickchart {\n",
              "      --bg-color: #E8F0FE;\n",
              "      --fill-color: #1967D2;\n",
              "      --hover-bg-color: #E2EBFA;\n",
              "      --hover-fill-color: #174EA6;\n",
              "      --disabled-fill-color: #AAA;\n",
              "      --disabled-bg-color: #DDD;\n",
              "  }\n",
              "\n",
              "  [theme=dark] .colab-df-quickchart {\n",
              "      --bg-color: #3B4455;\n",
              "      --fill-color: #D2E3FC;\n",
              "      --hover-bg-color: #434B5C;\n",
              "      --hover-fill-color: #FFFFFF;\n",
              "      --disabled-bg-color: #3B4455;\n",
              "      --disabled-fill-color: #666;\n",
              "  }\n",
              "\n",
              "  .colab-df-quickchart {\n",
              "    background-color: var(--bg-color);\n",
              "    border: none;\n",
              "    border-radius: 50%;\n",
              "    cursor: pointer;\n",
              "    display: none;\n",
              "    fill: var(--fill-color);\n",
              "    height: 32px;\n",
              "    padding: 0;\n",
              "    width: 32px;\n",
              "  }\n",
              "\n",
              "  .colab-df-quickchart:hover {\n",
              "    background-color: var(--hover-bg-color);\n",
              "    box-shadow: 0 1px 2px rgba(60, 64, 67, 0.3), 0 1px 3px 1px rgba(60, 64, 67, 0.15);\n",
              "    fill: var(--button-hover-fill-color);\n",
              "  }\n",
              "\n",
              "  .colab-df-quickchart-complete:disabled,\n",
              "  .colab-df-quickchart-complete:disabled:hover {\n",
              "    background-color: var(--disabled-bg-color);\n",
              "    fill: var(--disabled-fill-color);\n",
              "    box-shadow: none;\n",
              "  }\n",
              "\n",
              "  .colab-df-spinner {\n",
              "    border: 2px solid var(--fill-color);\n",
              "    border-color: transparent;\n",
              "    border-bottom-color: var(--fill-color);\n",
              "    animation:\n",
              "      spin 1s steps(1) infinite;\n",
              "  }\n",
              "\n",
              "  @keyframes spin {\n",
              "    0% {\n",
              "      border-color: transparent;\n",
              "      border-bottom-color: var(--fill-color);\n",
              "      border-left-color: var(--fill-color);\n",
              "    }\n",
              "    20% {\n",
              "      border-color: transparent;\n",
              "      border-left-color: var(--fill-color);\n",
              "      border-top-color: var(--fill-color);\n",
              "    }\n",
              "    30% {\n",
              "      border-color: transparent;\n",
              "      border-left-color: var(--fill-color);\n",
              "      border-top-color: var(--fill-color);\n",
              "      border-right-color: var(--fill-color);\n",
              "    }\n",
              "    40% {\n",
              "      border-color: transparent;\n",
              "      border-right-color: var(--fill-color);\n",
              "      border-top-color: var(--fill-color);\n",
              "    }\n",
              "    60% {\n",
              "      border-color: transparent;\n",
              "      border-right-color: var(--fill-color);\n",
              "    }\n",
              "    80% {\n",
              "      border-color: transparent;\n",
              "      border-right-color: var(--fill-color);\n",
              "      border-bottom-color: var(--fill-color);\n",
              "    }\n",
              "    90% {\n",
              "      border-color: transparent;\n",
              "      border-bottom-color: var(--fill-color);\n",
              "    }\n",
              "  }\n",
              "</style>\n",
              "\n",
              "      <script>\n",
              "        async function quickchart(key) {\n",
              "          const quickchartButtonEl =\n",
              "            document.querySelector('#' + key + ' button');\n",
              "          quickchartButtonEl.disabled = true;  // To prevent multiple clicks.\n",
              "          quickchartButtonEl.classList.add('colab-df-spinner');\n",
              "          try {\n",
              "            const charts = await google.colab.kernel.invokeFunction(\n",
              "                'suggestCharts', [key], {});\n",
              "          } catch (error) {\n",
              "            console.error('Error during call to suggestCharts:', error);\n",
              "          }\n",
              "          quickchartButtonEl.classList.remove('colab-df-spinner');\n",
              "          quickchartButtonEl.classList.add('colab-df-quickchart-complete');\n",
              "        }\n",
              "        (() => {\n",
              "          let quickchartButtonEl =\n",
              "            document.querySelector('#df-89665459-f698-4476-9ece-d0bf7b9c4c62 button');\n",
              "          quickchartButtonEl.style.display =\n",
              "            google.colab.kernel.accessAllowed ? 'block' : 'none';\n",
              "        })();\n",
              "      </script>\n",
              "    </div>\n",
              "\n",
              "    </div>\n",
              "  </div>\n"
            ],
            "application/vnd.google.colaboratory.intrinsic+json": {
              "type": "dataframe",
              "summary": "{\n  \"name\": \"#df_xlsx = pd\",\n  \"rows\": 5,\n  \"fields\": [\n    {\n      \"column\": \"Time_days\",\n      \"properties\": {\n        \"dtype\": \"number\",\n        \"std\": 1,\n        \"min\": 1,\n        \"max\": 5,\n        \"num_unique_values\": 5,\n        \"samples\": [\n          2,\n          5,\n          3\n        ],\n        \"semantic_type\": \"\",\n        \"description\": \"\"\n      }\n    },\n    {\n      \"column\": \"Altitude_km\",\n      \"properties\": {\n        \"dtype\": \"number\",\n        \"std\": 281,\n        \"min\": 4285,\n        \"max\": 5000,\n        \"num_unique_values\": 5,\n        \"samples\": [\n          4820,\n          4285,\n          4655\n        ],\n        \"semantic_type\": \"\",\n        \"description\": \"\"\n      }\n    }\n  ]\n}"
            }
          },
          "metadata": {},
          "execution_count": 37
        }
      ]
    },
    {
      "cell_type": "code",
      "source": [
        "import pandas as pd\n",
        "import matplotlib.pyplot as plt\n",
        "\n",
        "# 1Read the CSV file from GitHub\n",
        "url = \"https://raw.githubusercontent.com/cmvigneswaranaero-gif/space_lab/refs/heads/main/sat_data.csv\"\n",
        "df = pd.read_csv(url)\n",
        "\n",
        "# 2 Inspect first rows\n",
        "print(df.head())\n",
        "\n",
        "#  Plot Time vs Altitude\n",
        "plt.figure(figsize=(8,5))\n",
        "plt.plot(df['Time_days'], df['Altitude_km'], marker='o', linestyle='-', color='b')\n",
        "\n",
        "# 4Add labels and title\n",
        "plt.xlabel(\"Time (days)\")\n",
        "plt.ylabel(\"Altitude (km)\")\n",
        "plt.title(\"Satellite Altitude vs Time\")\n",
        "plt.grid(True)\n",
        "\n",
        "#  Show plot\n",
        "plt.show()\n"
      ],
      "metadata": {
        "id": "2Jt4hF8B9uTl",
        "outputId": "686c4670-f257-4f6f-bfaa-4528467980aa",
        "colab": {
          "base_uri": "https://localhost:8080/",
          "height": 597
        }
      },
      "execution_count": null,
      "outputs": [
        {
          "output_type": "stream",
          "name": "stdout",
          "text": [
            "   Time_days  Altitude_km\n",
            "0          1         5000\n",
            "1          2         4820\n",
            "2          3         4655\n",
            "3          4         4469\n",
            "4          5         4285\n"
          ]
        },
        {
          "output_type": "display_data",
          "data": {
            "text/plain": [
              "<Figure size 800x500 with 1 Axes>"
            ],
            "image/png": "[encoded data removed]"
          },
          "metadata": {}
        }
      ]
    },
    {
      "cell_type": "code",
      "source": [
        "\n",
        "\n",
        "import pandas as pd\n",
        "import matplotlib.pyplot as plt\n",
        "\n",
        "#  Read CSV from GitHub (replace with your raw file URL)\n",
        "url = \"https://raw.githubusercontent.com/username/repo/main/yourfile.csv\"\n",
        "df = pd.read_csv(url)\n",
        "\n",
        "#  Inspect first rows\n",
        "print(\"Data from CSV:\")\n",
        "print(df.head())\n",
        "\n",
        "#  Compute Lift\n",
        "Lift_N = 0.5 * df['rho'] * df['v']**2 * df['S'] * df['CL']\n",
        "print(\"\\nCalculated Lift values (separate variable):\")\n",
        "print(Lift_N)\n",
        "\n",
        "#  Add the Lift column to the DataFrame\n",
        "df['Lift_N'] = Lift_N\n",
        "\n",
        "#  OR, we can do directly\n",
        "# df['Lift_N'] = 0.5 * df['rho'] * df['v']**2 * df['S'] * df['CL']\n",
        "\n",
        "#  Display updated DataFrame\n",
        "print(\"\\nData with Lift calculated:\")\n",
        "print(df)\n",
        "\n",
        "# 5️⃣ Plot Lift vs Velocity\n",
        "plt.figure(figsize=(8,5))\n",
        "plt.plot(df['v'], df['Lift_N'], marker='o', linestyle='-', color='b')\n",
        "plt.xlabel(\"Velocity (m/s)\")\n",
        "plt.ylabel(\"Lift (N)\")\n",
        "plt.title(\"Lift vs Velocity (Vectorized)\")\n",
        "plt.grid(True)\n",
        "plt.show()\n"
      ],
      "metadata": {
        "id": "5aLwMEdu_VPt",
        "outputId": "1dab9f98-2de7-4173-e74a-59fca31a1cb2",
        "colab": {
          "base_uri": "https://localhost:8080/",
          "height": 371
        }
      },
      "execution_count": null,
      "outputs": [
        {
          "output_type": "error",
          "ename": "HTTPError",
          "evalue": "HTTP Error 404: Not Found",
          "traceback": [
            "\u001b[0;31m---------------------------------------------------------------------------\u001b[0m",
            "\u001b[0;31mHTTPError\u001b[0m                                 Traceback (most recent call last)",
            "\u001b[0;32m/tmp/ipython-input-2142860982.py\u001b[0m in \u001b[0;36m<cell line: 0>\u001b[0;34m()\u001b[0m\n\u001b[1;32m      4\u001b[0m \u001b[0;31m#  Read CSV from GitHub (replace with your raw file URL)\u001b[0m\u001b[0;34m\u001b[0m\u001b[0;34m\u001b[0m\u001b[0m\n\u001b[1;32m      5\u001b[0m \u001b[0murl\u001b[0m \u001b[0;34m=\u001b[0m \u001b[0;34m\"https://raw.githubusercontent.com/username/repo/main/yourfile.csv\"\u001b[0m\u001b[0;34m\u001b[0m\u001b[0;34m\u001b[0m\u001b[0m\n\u001b[0;32m----> 6\u001b[0;31m \u001b[0mdf\u001b[0m \u001b[0;34m=\u001b[0m \u001b[0mpd\u001b[0m\u001b[0;34m.\u001b[0m\u001b[0mread_csv\u001b[0m\u001b[0;34m(\u001b[0m\u001b[0murl\u001b[0m\u001b[0;34m)\u001b[0m\u001b[0;34m\u001b[0m\u001b[0;34m\u001b[0m\u001b[0m\n\u001b[0m\u001b[1;32m      7\u001b[0m \u001b[0;34m\u001b[0m\u001b[0m\n\u001b[1;32m      8\u001b[0m \u001b[0;31m#  Inspect first rows\u001b[0m\u001b[0;34m\u001b[0m\u001b[0;34m\u001b[0m\u001b[0m\n",
            "\u001b[0;32m/usr/local/lib/python3.12/dist-packages/pandas/io/parsers/readers.py\u001b[0m in \u001b[0;36mread_csv\u001b[0;34m(filepath_or_buffer, sep, delimiter, header, names, index_col, usecols, dtype, engine, converters, true_values, false_values, skipinitialspace, skiprows, skipfooter, nrows, na_values, keep_default_na, na_filter, verbose, skip_blank_lines, parse_dates, infer_datetime_format, keep_date_col, date_parser, date_format, dayfirst, cache_dates, iterator, chunksize, compression, thousands, decimal, lineterminator, quotechar, quoting, doublequote, escapechar, comment, encoding, encoding_errors, dialect, on_bad_lines, delim_whitespace, low_memory, memory_map, float_precision, storage_options, dtype_backend)\u001b[0m\n\u001b[1;32m   1024\u001b[0m     \u001b[0mkwds\u001b[0m\u001b[0;34m.\u001b[0m\u001b[0mupdate\u001b[0m\u001b[0;34m(\u001b[0m\u001b[0mkwds_defaults\u001b[0m\u001b[0;34m)\u001b[0m\u001b[0;34m\u001b[0m\u001b[0;34m\u001b[0m\u001b[0m\n\u001b[1;32m   1025\u001b[0m \u001b[0;34m\u001b[0m\u001b[0m\n\u001b[0;32m-> 1026\u001b[0;31m     \u001b[0;32mreturn\u001b[0m \u001b[0m_read\u001b[0m\u001b[0;34m(\u001b[0m\u001b[0mfilepath_or_buffer\u001b[0m\u001b[0;34m,\u001b[0m \u001b[0mkwds\u001b[0m\u001b[0;34m)\u001b[0m\u001b[0;34m\u001b[0m\u001b[0;34m\u001b[0m\u001b[0m\n\u001b[0m\u001b[1;32m   1027\u001b[0m \u001b[0;34m\u001b[0m\u001b[0m\n\u001b[1;32m   1028\u001b[0m \u001b[0;34m\u001b[0m\u001b[0m\n",
            "\u001b[0;32m/usr/local/lib/python3.12/dist-packages/pandas/io/parsers/readers.py\u001b[0m in \u001b[0;36m_read\u001b[0;34m(filepath_or_buffer, kwds)\u001b[0m\n\u001b[1;32m    618\u001b[0m \u001b[0;34m\u001b[0m\u001b[0m\n\u001b[1;32m    619\u001b[0m     \u001b[0;31m# Create the parser.\u001b[0m\u001b[0;34m\u001b[0m\u001b[0;34m\u001b[0m\u001b[0m\n\u001b[0;32m--> 620\u001b[0;31m     \u001b[0mparser\u001b[0m \u001b[0;34m=\u001b[0m \u001b[0mTextFileReader\u001b[0m\u001b[0;34m(\u001b[0m\u001b[0mfilepath_or_buffer\u001b[0m\u001b[0;34m,\u001b[0m \u001b[0;34m**\u001b[0m\u001b[0mkwds\u001b[0m\u001b[0;34m)\u001b[0m\u001b[0;34m\u001b[0m\u001b[0;34m\u001b[0m\u001b[0m\n\u001b[0m\u001b[1;32m    621\u001b[0m \u001b[0;34m\u001b[0m\u001b[0m\n\u001b[1;32m    622\u001b[0m     \u001b[0;32mif\u001b[0m \u001b[0mchunksize\u001b[0m \u001b[0;32mor\u001b[0m \u001b[0miterator\u001b[0m\u001b[0;34m:\u001b[0m\u001b[0;34m\u001b[0m\u001b[0;34m\u001b[0m\u001b[0m\n",
            "\u001b[0;32m/usr/local/lib/python3.12/dist-packages/pandas/io/parsers/readers.py\u001b[0m in \u001b[0;36m__init__\u001b[0;34m(self, f, engine, **kwds)\u001b[0m\n\u001b[1;32m   1618\u001b[0m \u001b[0;34m\u001b[0m\u001b[0m\n\u001b[1;32m   1619\u001b[0m         \u001b[0mself\u001b[0m\u001b[0;34m.\u001b[0m\u001b[0mhandles\u001b[0m\u001b[0;34m:\u001b[0m \u001b[0mIOHandles\u001b[0m \u001b[0;34m|\u001b[0m \u001b[0;32mNone\u001b[0m \u001b[0;34m=\u001b[0m \u001b[0;32mNone\u001b[0m\u001b[0;34m\u001b[0m\u001b[0;34m\u001b[0m\u001b[0m\n\u001b[0;32m-> 1620\u001b[0;31m         \u001b[0mself\u001b[0m\u001b[0;34m.\u001b[0m\u001b[0m_engine\u001b[0m \u001b[0;34m=\u001b[0m \u001b[0mself\u001b[0m\u001b[0;34m.\u001b[0m\u001b[0m_make_engine\u001b[0m\u001b[0;34m(\u001b[0m\u001b[0mf\u001b[0m\u001b[0;34m,\u001b[0m \u001b[0mself\u001b[0m\u001b[0;34m.\u001b[0m\u001b[0mengine\u001b[0m\u001b[0;34m)\u001b[0m\u001b[0;34m\u001b[0m\u001b[0;34m\u001b[0m\u001b[0m\n\u001b[0m\u001b[1;32m   1621\u001b[0m \u001b[0;34m\u001b[0m\u001b[0m\n\u001b[1;32m   1622\u001b[0m     \u001b[0;32mdef\u001b[0m \u001b[0mclose\u001b[0m\u001b[0;34m(\u001b[0m\u001b[0mself\u001b[0m\u001b[0;34m)\u001b[0m \u001b[0;34m->\u001b[0m \u001b[0;32mNone\u001b[0m\u001b[0;34m:\u001b[0m\u001b[0;34m\u001b[0m\u001b[0;34m\u001b[0m\u001b[0m\n",
            "\u001b[0;32m/usr/local/lib/python3.12/dist-packages/pandas/io/parsers/readers.py\u001b[0m in \u001b[0;36m_make_engine\u001b[0;34m(self, f, engine)\u001b[0m\n\u001b[1;32m   1878\u001b[0m                 \u001b[0;32mif\u001b[0m \u001b[0;34m\"b\"\u001b[0m \u001b[0;32mnot\u001b[0m \u001b[0;32min\u001b[0m \u001b[0mmode\u001b[0m\u001b[0;34m:\u001b[0m\u001b[0;34m\u001b[0m\u001b[0;34m\u001b[0m\u001b[0m\n\u001b[1;32m   1879\u001b[0m                     \u001b[0mmode\u001b[0m \u001b[0;34m+=\u001b[0m \u001b[0;34m\"b\"\u001b[0m\u001b[0;34m\u001b[0m\u001b[0;34m\u001b[0m\u001b[0m\n\u001b[0;32m-> 1880\u001b[0;31m             self.handles = get_handle(\n\u001b[0m\u001b[1;32m   1881\u001b[0m                 \u001b[0mf\u001b[0m\u001b[0;34m,\u001b[0m\u001b[0;34m\u001b[0m\u001b[0;34m\u001b[0m\u001b[0m\n\u001b[1;32m   1882\u001b[0m                 \u001b[0mmode\u001b[0m\u001b[0;34m,\u001b[0m\u001b[0;34m\u001b[0m\u001b[0;34m\u001b[0m\u001b[0m\n",
            "\u001b[0;32m/usr/local/lib/python3.12/dist-packages/pandas/io/common.py\u001b[0m in \u001b[0;36mget_handle\u001b[0;34m(path_or_buf, mode, encoding, compression, memory_map, is_text, errors, storage_options)\u001b[0m\n\u001b[1;32m    726\u001b[0m \u001b[0;34m\u001b[0m\u001b[0m\n\u001b[1;32m    727\u001b[0m     \u001b[0;31m# open URLs\u001b[0m\u001b[0;34m\u001b[0m\u001b[0;34m\u001b[0m\u001b[0m\n\u001b[0;32m--> 728\u001b[0;31m     ioargs = _get_filepath_or_buffer(\n\u001b[0m\u001b[1;32m    729\u001b[0m         \u001b[0mpath_or_buf\u001b[0m\u001b[0;34m,\u001b[0m\u001b[0;34m\u001b[0m\u001b[0;34m\u001b[0m\u001b[0m\n\u001b[1;32m    730\u001b[0m         \u001b[0mencoding\u001b[0m\u001b[0;34m=\u001b[0m\u001b[0mencoding\u001b[0m\u001b[0;34m,\u001b[0m\u001b[0;34m\u001b[0m\u001b[0;34m\u001b[0m\u001b[0m\n",
            "\u001b[0;32m/usr/local/lib/python3.12/dist-packages/pandas/io/common.py\u001b[0m in \u001b[0;36m_get_filepath_or_buffer\u001b[0;34m(filepath_or_buffer, encoding, compression, mode, storage_options)\u001b[0m\n\u001b[1;32m    382\u001b[0m         \u001b[0;31m# assuming storage_options is to be interpreted as headers\u001b[0m\u001b[0;34m\u001b[0m\u001b[0;34m\u001b[0m\u001b[0m\n\u001b[1;32m    383\u001b[0m         \u001b[0mreq_info\u001b[0m \u001b[0;34m=\u001b[0m \u001b[0murllib\u001b[0m\u001b[0;34m.\u001b[0m\u001b[0mrequest\u001b[0m\u001b[0;34m.\u001b[0m\u001b[0mRequest\u001b[0m\u001b[0;34m(\u001b[0m\u001b[0mfilepath_or_buffer\u001b[0m\u001b[0;34m,\u001b[0m \u001b[0mheaders\u001b[0m\u001b[0;34m=\u001b[0m\u001b[0mstorage_options\u001b[0m\u001b[0;34m)\u001b[0m\u001b[0;34m\u001b[0m\u001b[0;34m\u001b[0m\u001b[0m\n\u001b[0;32m--> 384\u001b[0;31m         \u001b[0;32mwith\u001b[0m \u001b[0murlopen\u001b[0m\u001b[0;34m(\u001b[0m\u001b[0mreq_info\u001b[0m\u001b[0;34m)\u001b[0m \u001b[0;32mas\u001b[0m \u001b[0mreq\u001b[0m\u001b[0;34m:\u001b[0m\u001b[0;34m\u001b[0m\u001b[0;34m\u001b[0m\u001b[0m\n\u001b[0m\u001b[1;32m    385\u001b[0m             \u001b[0mcontent_encoding\u001b[0m \u001b[0;34m=\u001b[0m \u001b[0mreq\u001b[0m\u001b[0;34m.\u001b[0m\u001b[0mheaders\u001b[0m\u001b[0;34m.\u001b[0m\u001b[0mget\u001b[0m\u001b[0;34m(\u001b[0m\u001b[0;34m\"Content-Encoding\"\u001b[0m\u001b[0;34m,\u001b[0m \u001b[0;32mNone\u001b[0m\u001b[0;34m)\u001b[0m\u001b[0;34m\u001b[0m\u001b[0;34m\u001b[0m\u001b[0m\n\u001b[1;32m    386\u001b[0m             \u001b[0;32mif\u001b[0m \u001b[0mcontent_encoding\u001b[0m \u001b[0;34m==\u001b[0m \u001b[0;34m\"gzip\"\u001b[0m\u001b[0;34m:\u001b[0m\u001b[0;34m\u001b[0m\u001b[0;34m\u001b[0m\u001b[0m\n",
            "\u001b[0;32m/usr/local/lib/python3.12/dist-packages/pandas/io/common.py\u001b[0m in \u001b[0;36murlopen\u001b[0;34m(*args, **kwargs)\u001b[0m\n\u001b[1;32m    287\u001b[0m     \u001b[0;32mimport\u001b[0m \u001b[0murllib\u001b[0m\u001b[0;34m.\u001b[0m\u001b[0mrequest\u001b[0m\u001b[0;34m\u001b[0m\u001b[0;34m\u001b[0m\u001b[0m\n\u001b[1;32m    288\u001b[0m \u001b[0;34m\u001b[0m\u001b[0m\n\u001b[0;32m--> 289\u001b[0;31m     \u001b[0;32mreturn\u001b[0m \u001b[0murllib\u001b[0m\u001b[0;34m.\u001b[0m\u001b[0mrequest\u001b[0m\u001b[0;34m.\u001b[0m\u001b[0murlopen\u001b[0m\u001b[0;34m(\u001b[0m\u001b[0;34m*\u001b[0m\u001b[0margs\u001b[0m\u001b[0;34m,\u001b[0m \u001b[0;34m**\u001b[0m\u001b[0mkwargs\u001b[0m\u001b[0;34m)\u001b[0m\u001b[0;34m\u001b[0m\u001b[0;34m\u001b[0m\u001b[0m\n\u001b[0m\u001b[1;32m    290\u001b[0m \u001b[0;34m\u001b[0m\u001b[0m\n\u001b[1;32m    291\u001b[0m \u001b[0;34m\u001b[0m\u001b[0m\n",
            "\u001b[0;32m/usr/lib/python3.12/urllib/request.py\u001b[0m in \u001b[0;36murlopen\u001b[0;34m(url, data, timeout, cafile, capath, cadefault, context)\u001b[0m\n\u001b[1;32m    213\u001b[0m     \u001b[0;32melse\u001b[0m\u001b[0;34m:\u001b[0m\u001b[0;34m\u001b[0m\u001b[0;34m\u001b[0m\u001b[0m\n\u001b[1;32m    214\u001b[0m         \u001b[0mopener\u001b[0m \u001b[0;34m=\u001b[0m \u001b[0m_opener\u001b[0m\u001b[0;34m\u001b[0m\u001b[0;34m\u001b[0m\u001b[0m\n\u001b[0;32m--> 215\u001b[0;31m     \u001b[0;32mreturn\u001b[0m \u001b[0mopener\u001b[0m\u001b[0;34m.\u001b[0m\u001b[0mopen\u001b[0m\u001b[0;34m(\u001b[0m\u001b[0murl\u001b[0m\u001b[0;34m,\u001b[0m \u001b[0mdata\u001b[0m\u001b[0;34m,\u001b[0m \u001b[0mtimeout\u001b[0m\u001b[0;34m)\u001b[0m\u001b[0;34m\u001b[0m\u001b[0;34m\u001b[0m\u001b[0m\n\u001b[0m\u001b[1;32m    216\u001b[0m \u001b[0;34m\u001b[0m\u001b[0m\n\u001b[1;32m    217\u001b[0m \u001b[0;32mdef\u001b[0m \u001b[0minstall_opener\u001b[0m\u001b[0;34m(\u001b[0m\u001b[0mopener\u001b[0m\u001b[0;34m)\u001b[0m\u001b[0;34m:\u001b[0m\u001b[0;34m\u001b[0m\u001b[0;34m\u001b[0m\u001b[0m\n",
            "\u001b[0;32m/usr/lib/python3.12/urllib/request.py\u001b[0m in \u001b[0;36mopen\u001b[0;34m(self, fullurl, data, timeout)\u001b[0m\n\u001b[1;32m    519\u001b[0m         \u001b[0;32mfor\u001b[0m \u001b[0mprocessor\u001b[0m \u001b[0;32min\u001b[0m \u001b[0mself\u001b[0m\u001b[0;34m.\u001b[0m\u001b[0mprocess_response\u001b[0m\u001b[0;34m.\u001b[0m\u001b[0mget\u001b[0m\u001b[0;34m(\u001b[0m\u001b[0mprotocol\u001b[0m\u001b[0;34m,\u001b[0m \u001b[0;34m[\u001b[0m\u001b[0;34m]\u001b[0m\u001b[0;34m)\u001b[0m\u001b[0;34m:\u001b[0m\u001b[0;34m\u001b[0m\u001b[0;34m\u001b[0m\u001b[0m\n\u001b[1;32m    520\u001b[0m             \u001b[0mmeth\u001b[0m \u001b[0;34m=\u001b[0m \u001b[0mgetattr\u001b[0m\u001b[0;34m(\u001b[0m\u001b[0mprocessor\u001b[0m\u001b[0;34m,\u001b[0m \u001b[0mmeth_name\u001b[0m\u001b[0;34m)\u001b[0m\u001b[0;34m\u001b[0m\u001b[0;34m\u001b[0m\u001b[0m\n\u001b[0;32m--> 521\u001b[0;31m             \u001b[0mresponse\u001b[0m \u001b[0;34m=\u001b[0m \u001b[0mmeth\u001b[0m\u001b[0;34m(\u001b[0m\u001b[0mreq\u001b[0m\u001b[0;34m,\u001b[0m \u001b[0mresponse\u001b[0m\u001b[0;34m)\u001b[0m\u001b[0;34m\u001b[0m\u001b[0;34m\u001b[0m\u001b[0m\n\u001b[0m\u001b[1;32m    522\u001b[0m \u001b[0;34m\u001b[0m\u001b[0m\n\u001b[1;32m    523\u001b[0m         \u001b[0;32mreturn\u001b[0m \u001b[0mresponse\u001b[0m\u001b[0;34m\u001b[0m\u001b[0;34m\u001b[0m\u001b[0m\n",
            "\u001b[0;32m/usr/lib/python3.12/urllib/request.py\u001b[0m in \u001b[0;36mhttp_response\u001b[0;34m(self, request, response)\u001b[0m\n\u001b[1;32m    628\u001b[0m         \u001b[0;31m# request was successfully received, understood, and accepted.\u001b[0m\u001b[0;34m\u001b[0m\u001b[0;34m\u001b[0m\u001b[0m\n\u001b[1;32m    629\u001b[0m         \u001b[0;32mif\u001b[0m \u001b[0;32mnot\u001b[0m \u001b[0;34m(\u001b[0m\u001b[0;36m200\u001b[0m \u001b[0;34m<=\u001b[0m \u001b[0mcode\u001b[0m \u001b[0;34m<\u001b[0m \u001b[0;36m300\u001b[0m\u001b[0;34m)\u001b[0m\u001b[0;34m:\u001b[0m\u001b[0;34m\u001b[0m\u001b[0;34m\u001b[0m\u001b[0m\n\u001b[0;32m--> 630\u001b[0;31m             response = self.parent.error(\n\u001b[0m\u001b[1;32m    631\u001b[0m                 'http', request, response, code, msg, hdrs)\n\u001b[1;32m    632\u001b[0m \u001b[0;34m\u001b[0m\u001b[0m\n",
            "\u001b[0;32m/usr/lib/python3.12/urllib/request.py\u001b[0m in \u001b[0;36merror\u001b[0;34m(self, proto, *args)\u001b[0m\n\u001b[1;32m    557\u001b[0m         \u001b[0;32mif\u001b[0m \u001b[0mhttp_err\u001b[0m\u001b[0;34m:\u001b[0m\u001b[0;34m\u001b[0m\u001b[0;34m\u001b[0m\u001b[0m\n\u001b[1;32m    558\u001b[0m             \u001b[0margs\u001b[0m \u001b[0;34m=\u001b[0m \u001b[0;34m(\u001b[0m\u001b[0mdict\u001b[0m\u001b[0;34m,\u001b[0m \u001b[0;34m'default'\u001b[0m\u001b[0;34m,\u001b[0m \u001b[0;34m'http_error_default'\u001b[0m\u001b[0;34m)\u001b[0m \u001b[0;34m+\u001b[0m \u001b[0morig_args\u001b[0m\u001b[0;34m\u001b[0m\u001b[0;34m\u001b[0m\u001b[0m\n\u001b[0;32m--> 559\u001b[0;31m             \u001b[0;32mreturn\u001b[0m \u001b[0mself\u001b[0m\u001b[0;34m.\u001b[0m\u001b[0m_call_chain\u001b[0m\u001b[0;34m(\u001b[0m\u001b[0;34m*\u001b[0m\u001b[0margs\u001b[0m\u001b[0;34m)\u001b[0m\u001b[0;34m\u001b[0m\u001b[0;34m\u001b[0m\u001b[0m\n\u001b[0m\u001b[1;32m    560\u001b[0m \u001b[0;34m\u001b[0m\u001b[0m\n\u001b[1;32m    561\u001b[0m \u001b[0;31m# XXX probably also want an abstract factory that knows when it makes\u001b[0m\u001b[0;34m\u001b[0m\u001b[0;34m\u001b[0m\u001b[0m\n",
            "\u001b[0;32m/usr/lib/python3.12/urllib/request.py\u001b[0m in \u001b[0;36m_call_chain\u001b[0;34m(self, chain, kind, meth_name, *args)\u001b[0m\n\u001b[1;32m    490\u001b[0m         \u001b[0;32mfor\u001b[0m \u001b[0mhandler\u001b[0m \u001b[0;32min\u001b[0m \u001b[0mhandlers\u001b[0m\u001b[0;34m:\u001b[0m\u001b[0;34m\u001b[0m\u001b[0;34m\u001b[0m\u001b[0m\n\u001b[1;32m    491\u001b[0m             \u001b[0mfunc\u001b[0m \u001b[0;34m=\u001b[0m \u001b[0mgetattr\u001b[0m\u001b[0;34m(\u001b[0m\u001b[0mhandler\u001b[0m\u001b[0;34m,\u001b[0m \u001b[0mmeth_name\u001b[0m\u001b[0;34m)\u001b[0m\u001b[0;34m\u001b[0m\u001b[0;34m\u001b[0m\u001b[0m\n\u001b[0;32m--> 492\u001b[0;31m             \u001b[0mresult\u001b[0m \u001b[0;34m=\u001b[0m \u001b[0mfunc\u001b[0m\u001b[0;34m(\u001b[0m\u001b[0;34m*\u001b[0m\u001b[0margs\u001b[0m\u001b[0;34m)\u001b[0m\u001b[0;34m\u001b[0m\u001b[0;34m\u001b[0m\u001b[0m\n\u001b[0m\u001b[1;32m    493\u001b[0m             \u001b[0;32mif\u001b[0m \u001b[0mresult\u001b[0m \u001b[0;32mis\u001b[0m \u001b[0;32mnot\u001b[0m \u001b[0;32mNone\u001b[0m\u001b[0;34m:\u001b[0m\u001b[0;34m\u001b[0m\u001b[0;34m\u001b[0m\u001b[0m\n\u001b[1;32m    494\u001b[0m                 \u001b[0;32mreturn\u001b[0m \u001b[0mresult\u001b[0m\u001b[0;34m\u001b[0m\u001b[0;34m\u001b[0m\u001b[0m\n",
            "\u001b[0;32m/usr/lib/python3.12/urllib/request.py\u001b[0m in \u001b[0;36mhttp_error_default\u001b[0;34m(self, req, fp, code, msg, hdrs)\u001b[0m\n\u001b[1;32m    637\u001b[0m \u001b[0;32mclass\u001b[0m \u001b[0mHTTPDefaultErrorHandler\u001b[0m\u001b[0;34m(\u001b[0m\u001b[0mBaseHandler\u001b[0m\u001b[0;34m)\u001b[0m\u001b[0;34m:\u001b[0m\u001b[0;34m\u001b[0m\u001b[0;34m\u001b[0m\u001b[0m\n\u001b[1;32m    638\u001b[0m     \u001b[0;32mdef\u001b[0m \u001b[0mhttp_error_default\u001b[0m\u001b[0;34m(\u001b[0m\u001b[0mself\u001b[0m\u001b[0;34m,\u001b[0m \u001b[0mreq\u001b[0m\u001b[0;34m,\u001b[0m \u001b[0mfp\u001b[0m\u001b[0;34m,\u001b[0m \u001b[0mcode\u001b[0m\u001b[0;34m,\u001b[0m \u001b[0mmsg\u001b[0m\u001b[0;34m,\u001b[0m \u001b[0mhdrs\u001b[0m\u001b[0;34m)\u001b[0m\u001b[0;34m:\u001b[0m\u001b[0;34m\u001b[0m\u001b[0;34m\u001b[0m\u001b[0m\n\u001b[0;32m--> 639\u001b[0;31m         \u001b[0;32mraise\u001b[0m \u001b[0mHTTPError\u001b[0m\u001b[0;34m(\u001b[0m\u001b[0mreq\u001b[0m\u001b[0;34m.\u001b[0m\u001b[0mfull_url\u001b[0m\u001b[0;34m,\u001b[0m \u001b[0mcode\u001b[0m\u001b[0;34m,\u001b[0m \u001b[0mmsg\u001b[0m\u001b[0;34m,\u001b[0m \u001b[0mhdrs\u001b[0m\u001b[0;34m,\u001b[0m \u001b[0mfp\u001b[0m\u001b[0;34m)\u001b[0m\u001b[0;34m\u001b[0m\u001b[0;34m\u001b[0m\u001b[0m\n\u001b[0m\u001b[1;32m    640\u001b[0m \u001b[0;34m\u001b[0m\u001b[0m\n\u001b[1;32m    641\u001b[0m \u001b[0;32mclass\u001b[0m \u001b[0mHTTPRedirectHandler\u001b[0m\u001b[0;34m(\u001b[0m\u001b[0mBaseHandler\u001b[0m\u001b[0;34m)\u001b[0m\u001b[0;34m:\u001b[0m\u001b[0;34m\u001b[0m\u001b[0;34m\u001b[0m\u001b[0m\n",
            "\u001b[0;31mHTTPError\u001b[0m: HTTP Error 404: Not Found"
          ]
        }
      ]
    }
  ]
}