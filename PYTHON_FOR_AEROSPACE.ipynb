{
  "nbformat": 4,
  "nbformat_minor": 0,
  "metadata": {
    "colab": {
      "provenance": [],
      "authorship_tag": "ABX9TyM2xPvevEBxpDc7poknAzD2",
      "include_colab_link": true
    },
    "kernelspec": {
      "name": "python3",
      "display_name": "Python 3"
    },
    "language_info": {
      "name": "python"
    }
  },
  "cells": [
    {
      "cell_type": "markdown",
      "metadata": {
        "id": "view-in-github",
        "colab_type": "text"
      },
      "source": [
        "<a href=\"https://colab.research.google.com/github/cmvigneswaranaero-gif/space_lab/blob/main/PYTHON_FOR_AEROSPACE.ipynb\" target=\"_parent\"><img src=\"https://colab.research.google.com/assets/colab-badge.svg\" alt=\"Open In Colab\"/></a>"
      ]
    },
    {
      "cell_type": "markdown",
      "source": [
        "# **PYTHON FOR AEROSPACE**\n",
        "\n",
        "# ***DEFINING VARIABLES***\n",
        "\n"
      ],
      "metadata": {
        "id": "2Jpgr5zkNOgg"
      }
    },
    {
      "cell_type": "code",
      "source": [
        "# Define variables\n",
        "velocity = 30\n",
        "pressure = 1250.567\n",
        "\n",
        "print(velocity)\n",
        "print (pressure)\n",
        "\n",
        "# Check datatypes\n",
        "print(type(velocity))\n",
        "print(type(pressure))\n",
        "\n",
        "# Print with labels\n",
        "print(\"Velocity - datatype:\", type(velocity))\n",
        "print(\"Pressure - datatype:\", type(pressure))"
      ],
      "metadata": {
        "colab": {
          "base_uri": "https://localhost:8080/"
        },
        "id": "S2uB-4o2NPDe",
        "outputId": "216a81d6-8bc9-42d0-b1b1-294d98671059"
      },
      "execution_count": null,
      "outputs": [
        {
          "output_type": "stream",
          "name": "stdout",
          "text": [
            "30\n",
            "1250.567\n",
            "<class 'int'>\n",
            "<class 'float'>\n",
            "Velocity - datatype: <class 'int'>\n",
            "Pressure - datatype: <class 'float'>\n"
          ]
        }
      ]
    },
    {
      "cell_type": "code",
      "source": [
        "# Defining fluid properties for air\n",
        "air_density = 1.225       # Air density in kg/m^3\n",
        "air_viscosity = 1.81e-5   # Air viscosity in Pa.s\n",
        "\n",
        "# Printing the results\n",
        "print(\"Air density:\", air_density, \"kg/m^3\")\n",
        "print(\"Air viscosity:\", air_viscosity, \"Pa.s\")\n"
      ],
      "metadata": {
        "colab": {
          "base_uri": "https://localhost:8080/"
        },
        "id": "gQHM_gXo_R0Y",
        "outputId": "c31078ea-cfb3-4b56-c87a-07ccff6383d6"
      },
      "execution_count": null,
      "outputs": [
        {
          "output_type": "stream",
          "name": "stdout",
          "text": [
            "Air density: 1.225 kg/m^3\n",
            "Air viscosity: 1.81e-05 Pa.s\n"
          ]
        }
      ]
    },
    {
      "cell_type": "markdown",
      "source": [
        "# ***STRING***"
      ],
      "metadata": {
        "id": "SYx9S1qoNonY"
      }
    },
    {
      "cell_type": "code",
      "source": [
        "# Defining a string\n",
        "AIRCRAFT = \"BOEING_747\"\n",
        "print(AIRCRAFT)\n",
        "\n",
        "# Accessing characters and substrings\n",
        "print(AIRCRAFT[0])      # First character\n",
        "print(AIRCRAFT[0:3])    # Characters from index 0 to 2\n",
        "print(AIRCRAFT[3:8])    # Characters from index 3 to 7\n",
        "print(AIRCRAFT[3:4])    # Character at index 3"
      ],
      "metadata": {
        "colab": {
          "base_uri": "https://localhost:8080/"
        },
        "id": "ZG-m37BLpUNV",
        "outputId": "92c84085-dd59-4cbb-f8b2-72bd7dad87f2"
      },
      "execution_count": null,
      "outputs": [
        {
          "output_type": "stream",
          "name": "stdout",
          "text": [
            "BOEING_747\n",
            "B\n",
            "BOE\n",
            "ING_7\n",
            "I\n"
          ]
        }
      ]
    },
    {
      "cell_type": "code",
      "source": [
        "# Defining a string\n",
        "message = \"Python for Aerospace Engineering\"\n",
        "print(message)\n",
        "\n",
        "# Accessing part of the string\n",
        "print(message[0:6])     # Characters from index 0 to 5\n",
        "\n",
        "# Length of the string\n",
        "print(len(message))\n"
      ],
      "metadata": {
        "colab": {
          "base_uri": "https://localhost:8080/"
        },
        "id": "s9exrkm0q5QS",
        "outputId": "d22d38f8-bef3-493c-d16d-0953e20a6708"
      },
      "execution_count": null,
      "outputs": [
        {
          "output_type": "stream",
          "name": "stdout",
          "text": [
            "Python for Aerospace Engineering\n",
            "Python\n",
            "32\n"
          ]
        }
      ]
    },
    {
      "cell_type": "code",
      "source": [
        "# Defining strings\n",
        "First_name = \"Aerospace\"\n",
        "Last_name = \"Engineering\"\n",
        "\n",
        "# Concatenation without space\n",
        "Name = First_name + Last_name\n",
        "print(Name)\n",
        "\n",
        "# Concatenation with space\n",
        "Name_new = First_name + \" \" + Last_name\n",
        "print(Name_new)\n",
        "\n",
        "# Repetition\n",
        "print(Name_new * 3)\n",
        "\n",
        "# Repetition with space\n",
        "print((Name_new + \" \") * 3)\n"
      ],
      "metadata": {
        "colab": {
          "base_uri": "https://localhost:8080/"
        },
        "id": "I8kAk01q77mS",
        "outputId": "2abdfddb-9c72-4f82-98ed-3916a97cedc8"
      },
      "execution_count": null,
      "outputs": [
        {
          "output_type": "stream",
          "name": "stdout",
          "text": [
            "AerospaceEngineering\n",
            "Aerospace Engineering\n",
            "Aerospace EngineeringAerospace EngineeringAerospace Engineering\n",
            "Aerospace Engineering Aerospace Engineering Aerospace Engineering \n"
          ]
        }
      ]
    },
    {
      "cell_type": "markdown",
      "source": [
        "# **Boolean**"
      ],
      "metadata": {
        "id": "hz0zTl1vN3Pv"
      }
    },
    {
      "cell_type": "code",
      "source": [
        "# Check if velocity exceeds speed of sound\n",
        "velocity = 250     # m/s\n",
        "speed_of_sound = 343  # m/s at sea level\n",
        "\n",
        "a = velocity > speed_of_sound   # Boolean condition\n",
        "print(a)                        # Prints True/False\n",
        "print(type(a))                  # Prints datatype\n"
      ],
      "metadata": {
        "colab": {
          "base_uri": "https://localhost:8080/"
        },
        "id": "JNbuL-GW9frq",
        "outputId": "24c480df-517f-4f49-b9ed-75d4df82511d"
      },
      "execution_count": null,
      "outputs": [
        {
          "output_type": "stream",
          "name": "stdout",
          "text": [
            "False\n",
            "<class 'bool'>\n"
          ]
        }
      ]
    },
    {
      "cell_type": "code",
      "source": [
        "# Example: Check if aircraft is supersonic\n",
        "velocity = 250        # m/s\n",
        "speed_of_sound = 343  # m/s at sea level\n",
        "a = velocity > speed_of_sound\n",
        "if a:\n",
        "    print(\"Supersonic\")\n",
        "else:\n",
        "    print(\"Subsonic\")\n"
      ],
      "metadata": {
        "colab": {
          "base_uri": "https://localhost:8080/"
        },
        "id": "_DrC9GgQ_qYg",
        "outputId": "444640f5-6c17-44fa-8223-a2e45a8464c4"
      },
      "execution_count": null,
      "outputs": [
        {
          "output_type": "stream",
          "name": "stdout",
          "text": [
            "Subsonic\n"
          ]
        }
      ]
    },
    {
      "cell_type": "markdown",
      "source": [
        "# **LIST**"
      ],
      "metadata": {
        "id": "8C1Vo58XOCEX"
      }
    },
    {
      "cell_type": "code",
      "source": [
        "# Creating lists for aircraft and max speeds\n",
        "aircraft = [\"Boeing_747\", \"Airbus_A320\", \"Cessna_172\"]\n",
        "max_speed = [920, 840, 302]   # speeds in km/h\n",
        "\n",
        "# Printing the lists\n",
        "print(aircraft)\n",
        "print(max_speed)\n",
        "\n",
        "# Accessing list elements\n",
        "print(aircraft[0])    # First aircraft\n",
        "print(max_speed[1])   # Max speed of second aircraft"
      ],
      "metadata": {
        "colab": {
          "base_uri": "https://localhost:8080/"
        },
        "id": "RSFyo32rBYJp",
        "outputId": "05a80b2d-3392-48e7-cb82-28247dc65a35"
      },
      "execution_count": null,
      "outputs": [
        {
          "output_type": "stream",
          "name": "stdout",
          "text": [
            "['Boeing_747', 'Airbus_A320', 'Cessna_172']\n",
            "[920, 840, 302]\n",
            "Boeing_747\n",
            "840\n"
          ]
        }
      ]
    },
    {
      "cell_type": "code",
      "source": [
        "# Adding more aircraft\n",
        "new_aircraft = [\"F-16\", \"Concorde\"]\n",
        "all_aircraft = aircraft + new_aircraft\n",
        "print(all_aircraft)\n",
        "print(len(all_aircraft))   # Total number of aircraft\n",
        "\n",
        "# Appending a new aircraft\n",
        "all_aircraft.append(\"SR-71\")\n",
        "print(all_aircraft)\n",
        "\n",
        "# Deleting an aircraft\n",
        "del all_aircraft[2]   # Deletes \"Cessna_172\"\n",
        "print(all_aircraft)"
      ],
      "metadata": {
        "colab": {
          "base_uri": "https://localhost:8080/"
        },
        "id": "jxIbILDcB0Sw",
        "outputId": "e014eec5-77b4-457c-a84f-aabe065a8fe3"
      },
      "execution_count": null,
      "outputs": [
        {
          "output_type": "stream",
          "name": "stdout",
          "text": [
            "['Boeing_747', 'Airbus_A320', 'Cessna_172', 'F-16', 'Concorde']\n",
            "5\n",
            "['Boeing_747', 'Airbus_A320', 'Cessna_172', 'F-16', 'Concorde', 'SR-71']\n",
            "['Boeing_747', 'Airbus_A320', 'F-16', 'Concorde', 'SR-71']\n"
          ]
        }
      ]
    },
    {
      "cell_type": "code",
      "source": [
        "# Creating lists for aircraft and max speeds\n",
        "aircraft = [\"Boeing_747\", \"Airbus_A320\", \"Cessna_172\"]\n",
        "max_speed = [920, 840, 302]   # speeds in km/h\n",
        "\n",
        "# Accessing elements using negative index\n",
        "print(\"Last aircraft:\", aircraft[-1])         # Cessna_172\n",
        "print(\"Second last aircraft:\", aircraft[-2])  # Airbus_A320\n",
        "print(\"Last speed:\", max_speed[-1])           # 302\n",
        "print(\"Second last speed:\", max_speed[-2])    # 840\n",
        "\n",
        "# Adding new aircraft and using negative index\n",
        "new_aircraft = [\"F-16\", \"Concorde\"]\n",
        "all_aircraft = aircraft + new_aircraft\n",
        "print(\"Last aircraft in combined list:\", all_aircraft[-1])   # Concorde\n",
        "print(\"Second last aircraft in combined list:\", all_aircraft[-2])  # F-16"
      ],
      "metadata": {
        "colab": {
          "base_uri": "https://localhost:8080/"
        },
        "id": "C1s-CND2Di1B",
        "outputId": "701bc84f-a447-4a0d-cd79-eb6bc33b5725"
      },
      "execution_count": null,
      "outputs": [
        {
          "output_type": "stream",
          "name": "stdout",
          "text": [
            "Last aircraft: Cessna_172\n",
            "Second last aircraft: Airbus_A320\n",
            "Last speed: 302\n",
            "Second last speed: 840\n",
            "Last aircraft in combined list: Concorde\n",
            "Second last aircraft in combined list: F-16\n"
          ]
        }
      ]
    },
    {
      "cell_type": "code",
      "source": [
        "# LIST WITH MIXED DATA\n",
        "# List of integer velocities (m/s)\n",
        "velocities = [250, 340, 120]  # int type elements\n",
        "print(\"Velocities:\", velocities)\n",
        "\n",
        "# List of float pressures (Pa)\n",
        "pressures = [101325.0, 100800.5, 100500.2]  # float type elements\n",
        "print(\"Pressures:\", pressures)\n",
        "\n",
        "# List of flow types\n",
        "flow_types = [\"laminar\", \"turbulent\", \"transitional\"]  # str type elements\n",
        "print(\"Flow types:\", flow_types)\n",
        "\n",
        "# List with mixed data types (example: sensor reading, fluid type, pressure)\n",
        "mixed_data = [3.5, \"air\", 101325]  # float, str, int\n",
        "print(\"Mixed data:\", mixed_data)\n"
      ],
      "metadata": {
        "colab": {
          "base_uri": "https://localhost:8080/"
        },
        "id": "TJRCLB9GGk6K",
        "outputId": "897311ff-7a95-4180-ce18-7c49ec3b55bb"
      },
      "execution_count": null,
      "outputs": [
        {
          "output_type": "stream",
          "name": "stdout",
          "text": [
            "Velocities: [250, 340, 120]\n",
            "Pressures: [101325.0, 100800.5, 100500.2]\n",
            "Flow types: ['laminar', 'turbulent', 'transitional']\n",
            "Mixed data: [3.5, 'air', 101325]\n"
          ]
        }
      ]
    },
    {
      "cell_type": "markdown",
      "source": [
        "# **TUPLE**"
      ],
      "metadata": {
        "id": "BHikyLNmOFrn"
      }
    },
    {
      "cell_type": "code",
      "source": [
        "# --- Tuple Example (Immutable Data) ---\n",
        "# Aircraft properties: (wing_span,fuselage_length,takeoff_weight )\n",
        "aircraft_properties = (60.3, 70.6, 396890)  # fixed and constant\n",
        "print(\"Aircraft Properties (Tuple):\", aircraft_properties)\n",
        "\n",
        "# You cannot change tuple elements\n",
        "# aircraft_properties[0] = 61.0  # ❌ This will cause an error\n"
      ],
      "metadata": {
        "colab": {
          "base_uri": "https://localhost:8080/"
        },
        "id": "RMf4f0VhIz-R",
        "outputId": "c9b98c63-405f-423d-d348-d537ff7d905c"
      },
      "execution_count": null,
      "outputs": [
        {
          "output_type": "stream",
          "name": "stdout",
          "text": [
            "Aircraft Properties (Tuple): (60.3, 70.6, 396890)\n"
          ]
        }
      ]
    },
    {
      "cell_type": "code",
      "source": [
        "# --- Tuple Example (Immutable Data) ---\n",
        "# Pipe properties: (diameter in m, length in m, roughness in mm)\n",
        "pipe_properties = (0.5, 10, 0.05)  # fixed and constant\n",
        "print(\"Pipe Properties (Tuple):\", pipe_properties)\n",
        "\n",
        "# Accessing individual elements\n",
        "print(\"Diameter (m):\", pipe_properties[0])\n",
        "print(\"Length (m):\", pipe_properties[1])\n",
        "print(\"Roughness (mm):\", pipe_properties[2])\n",
        "\n",
        "# Trying to modify a tuple element will cause an error\n",
        "# pipe_properties[0] = 0.6  # ❌ Not allowed, tuples are immutable\n"
      ],
      "metadata": {
        "colab": {
          "base_uri": "https://localhost:8080/"
        },
        "id": "0hHKiAfZJWnw",
        "outputId": "73172248-338a-4076-e59c-540bb2206428"
      },
      "execution_count": null,
      "outputs": [
        {
          "output_type": "stream",
          "name": "stdout",
          "text": [
            "Pipe Properties (Tuple): (0.5, 10, 0.05)\n",
            "Diameter (m): 0.5\n",
            "Length (m): 10\n",
            "Roughness (mm): 0.05\n"
          ]
        }
      ]
    },
    {
      "cell_type": "markdown",
      "source": [
        "# **Dictionary**"
      ],
      "metadata": {
        "id": "jIeOC_SXONJP"
      }
    },
    {
      "cell_type": "code",
      "source": [
        "# Defining a dictionary for air properties\n",
        "air_properties = {\n",
        "    \"density\": 1.225,        # kg/m^3\n",
        "    \"viscosity\": 1.81e-5,    # Pa.s\n",
        "    \"specific_heat\": 1005     # J/(kg·K)\n",
        "}\n",
        "\n",
        "# Accessing values using keys\n",
        "print(\"Air density:\", air_properties[\"density\"], \"kg/m^3\")\n",
        "print(\"Air viscosity:\", air_properties[\"viscosity\"], \"Pa.s\")\n",
        "print(\"Specific heat:\", air_properties[\"specific_heat\"], \"J/(kg·K)\")\n",
        "\n",
        "# Adding a new property\n",
        "air_properties[\"pressure\"] = 101325\n",
        "print(\"Updated Air Properties:\", air_properties)\n"
      ],
      "metadata": {
        "colab": {
          "base_uri": "https://localhost:8080/"
        },
        "id": "Ii8U-io6KsdI",
        "outputId": "b72d0444-f5d1-43b9-a025-75a79c5f739d"
      },
      "execution_count": null,
      "outputs": [
        {
          "output_type": "stream",
          "name": "stdout",
          "text": [
            "Air density: 1.225 kg/m^3\n",
            "Air viscosity: 1.81e-05 Pa.s\n",
            "Specific heat: 1005 J/(kg·K)\n",
            "Updated Air Properties: {'density': 1.225, 'viscosity': 1.81e-05, 'specific_heat': 1005, 'pressure': 101325}\n"
          ]
        }
      ]
    },
    {
      "cell_type": "code",
      "source": [
        "# Define dictionary for air properties\n",
        "air_properties = {\n",
        "    \"density\": 1.225,\n",
        "    \"viscosity\": 1.81e-5,\n",
        "    \"specific_heat\": 1005\n",
        "}\n",
        "\n",
        "#  Change the value of an existing key\n",
        "air_properties[\"density\"] = 1.2   # Updated density\n",
        "print(\"Updated density:\", air_properties[\"density\"])\n",
        "\n",
        "#  Add a new key-value pair\n",
        "air_properties[\"pressure\"] = 101325\n",
        "print(\"Added pressure:\", air_properties[\"pressure\"])\n",
        "\n",
        "#  Change a key (create new key and delete old one)\n",
        "air_properties[\"air_density\"] = air_properties.pop(\"density\")\n",
        "print(\"Changed key from 'density' to 'air_density':\", air_properties)\n"
      ],
      "metadata": {
        "colab": {
          "base_uri": "https://localhost:8080/"
        },
        "id": "1iYl1ppVMAo4",
        "outputId": "74fb18b4-9ba6-48fc-9642-99c4ceb1498c"
      },
      "execution_count": null,
      "outputs": [
        {
          "output_type": "stream",
          "name": "stdout",
          "text": [
            "Updated density: 1.2\n",
            "Added pressure: 101325\n",
            "Changed key from 'density' to 'air_density': {'viscosity': 1.81e-05, 'specific_heat': 1005, 'pressure': 101325, 'air_density': 1.2}\n"
          ]
        }
      ]
    },
    {
      "cell_type": "markdown",
      "source": [
        "# ***Function***"
      ],
      "metadata": {
        "id": "yZqv_K3-_HAT"
      }
    },
    {
      "cell_type": "code",
      "source": [
        "# Function to calculate Lift Force\n",
        "def lift (density, velocity, wing_area, Cl):\n",
        "    \"\"\"\n",
        "    Calculates Lift Force using the formula:\n",
        "    L = 0.5 * density * velocity^2 * wing_area * Cl\n",
        "    \"\"\"\n",
        "    return 0.5 * density * velocity**2 * wing_area * Cl\n",
        "\n",
        "\"\"\"\n",
        "If the function call and print statement are on the same line as the return,\n",
        "which will cause an indentation error\n",
        "\"\"\"\n",
        "# Call the function\n",
        "lift_force = lift(1, 200, 25, 1)\n",
        "print(\"Lift Force (N):\", lift_force)\n"
      ],
      "metadata": {
        "colab": {
          "base_uri": "https://localhost:8080/"
        },
        "id": "q_CZYq7KSI-n",
        "outputId": "4e6c83e3-1f62-4f71-d81d-824a525be0e1"
      },
      "execution_count": null,
      "outputs": [
        {
          "output_type": "stream",
          "name": "stdout",
          "text": [
            "Lift Force (N): 500000.0\n"
          ]
        }
      ]
    },
    {
      "cell_type": "code",
      "source": [
        "# Function to calculate Reynolds Number\n",
        "def reynolds_number(rho, V, L, mu):\n",
        "    return (rho * V * L) / mu\n",
        "\n",
        "# Function to calculate Dynamic Pressure\n",
        "def dynamic_pressure(rho, V):\n",
        "    return 0.5 * rho * V**2\n",
        "\n",
        "\n",
        "# Call the functions\n",
        "Re = reynolds_number(1.225,50, 0.5, 1.81e-5)\n",
        "q = dynamic_pressure(1.225, 50)\n",
        "\n",
        "# Print results\n",
        "print(\"Reynolds Number:\", Re)\n",
        "print(\"Dynamic Pressure (Pa):\", q)\n"
      ],
      "metadata": {
        "colab": {
          "base_uri": "https://localhost:8080/"
        },
        "id": "WgnWiXZXUdmO",
        "outputId": "faf884ff-1312-4359-e4dd-b5725c2ae23f"
      },
      "execution_count": null,
      "outputs": [
        {
          "output_type": "stream",
          "name": "stdout",
          "text": [
            "Reynolds Number: 1691988.9502762433\n",
            "Dynamic Pressure (Pa): 1531.25\n"
          ]
        }
      ]
    },
    {
      "cell_type": "markdown",
      "source": [
        "# ***if-else***"
      ],
      "metadata": {
        "id": "UnqwMYxi_NYL"
      }
    },
    {
      "cell_type": "code",
      "source": [
        "Mach = 0.6   # Example Mach number\n",
        "\n",
        "if Mach < 1:\n",
        "    print(\"Subsonic flow\")"
      ],
      "metadata": {
        "colab": {
          "base_uri": "https://localhost:8080/"
        },
        "id": "lYXv7m2RXsGE",
        "outputId": "adf49bc0-d2d1-4dba-caed-ea3327d3a54a"
      },
      "execution_count": null,
      "outputs": [
        {
          "output_type": "stream",
          "name": "stdout",
          "text": [
            "Subsonic flow\n"
          ]
        }
      ]
    },
    {
      "cell_type": "code",
      "source": [
        "Mach = 1.2\n",
        "\n",
        "if Mach < 1:\n",
        "    print(\"Subsonic flow\")\n",
        "else:\n",
        "    print(\"Supersonic flow\")\n"
      ],
      "metadata": {
        "colab": {
          "base_uri": "https://localhost:8080/"
        },
        "id": "A0rTJCDlWwq2",
        "outputId": "281fa06a-0aa0-4f53-872a-6a1acb4ffb48"
      },
      "execution_count": null,
      "outputs": [
        {
          "output_type": "stream",
          "name": "stdout",
          "text": [
            "Supersonic flow\n"
          ]
        }
      ]
    },
    {
      "cell_type": "code",
      "source": [
        "Mach = 2\n",
        "\n",
        "if Mach < 1:\n",
        "    print(\"Subsonic flow\")\n",
        "elif Mach == 1:\n",
        "    print(\"Sonic flow\")\n",
        "else:\n",
        "    print(\"Supersonic flow\")"
      ],
      "metadata": {
        "colab": {
          "base_uri": "https://localhost:8080/"
        },
        "id": "jxRA1R4rW8t1",
        "outputId": "87053407-3a18-42f7-df3a-407f6c274cb6"
      },
      "execution_count": null,
      "outputs": [
        {
          "output_type": "stream",
          "name": "stdout",
          "text": [
            "Supersonic flow\n"
          ]
        }
      ]
    },
    {
      "cell_type": "code",
      "source": [
        "Mach = 1.2\n",
        "\n",
        "if Mach < 0.8:\n",
        "    print(\"Subsonic flow\")\n",
        "elif Mach >= 0.8 and Mach < 1.2:\n",
        "    print(\"Transonic flow\")\n",
        "elif Mach >= 1.2 and Mach < 5:\n",
        "    print(\"Supersonic flow\")\n",
        "else:\n",
        "    print(\"Hypersonic flow\")\n"
      ],
      "metadata": {
        "colab": {
          "base_uri": "https://localhost:8080/"
        },
        "id": "COxbr-XZXaae",
        "outputId": "06a668b9-ca79-4b21-f555-bb0c53fb9320"
      },
      "execution_count": null,
      "outputs": [
        {
          "output_type": "stream",
          "name": "stdout",
          "text": [
            "Supersonic flow\n"
          ]
        }
      ]
    },
    {
      "cell_type": "code",
      "source": [
        "Mach = 300000\n",
        "if Re < 5e5:\n",
        "    print(\"Flow is Laminar\")\n",
        "else:\n",
        "    print(\"Flow is Turbulent\")"
      ],
      "metadata": {
        "colab": {
          "base_uri": "https://localhost:8080/"
        },
        "id": "ffjhfkTsXFVl",
        "outputId": "79741245-e59c-4e4c-cbc2-b6067ccee13b"
      },
      "execution_count": null,
      "outputs": [
        {
          "output_type": "stream",
          "name": "stdout",
          "text": [
            "Flow is Turbulent\n"
          ]
        }
      ]
    },
    {
      "cell_type": "markdown",
      "source": [
        "# **for loop**"
      ],
      "metadata": {
        "id": "qBqK_I-1_YAr"
      }
    },
    {
      "cell_type": "code",
      "source": [
        "velocities = [10, 20, 30]\n",
        "\n",
        "# 1. Basic for ... in list\n",
        "for V in velocities:\n",
        "    print(f\"Velocity = {V} m/s\")\n",
        "\n",
        "# 2. Using enumerate() (index + value)\n",
        "for i, V in enumerate(velocities):\n",
        "    print(f\"Case {i+1}: Velocity = {V} m/s\")\n",
        "\n",
        "# 3. Using range(start, stop, step)\n",
        "for V in range(10, 40, 10):   # from 10 to 30 with step 10\n",
        "    print(f\"Velocity = {V} m/s\")\n"
      ],
      "metadata": {
        "colab": {
          "base_uri": "https://localhost:8080/"
        },
        "id": "dM401-hQRcLZ",
        "outputId": "9cac4921-41cf-4810-8e9b-96096a201cf0"
      },
      "execution_count": null,
      "outputs": [
        {
          "output_type": "stream",
          "name": "stdout",
          "text": [
            "Velocity = 10 m/s\n",
            "Velocity = 20 m/s\n",
            "Velocity = 30 m/s\n",
            "Case 1: Velocity = 10 m/s\n",
            "Case 2: Velocity = 20 m/s\n",
            "Case 3: Velocity = 30 m/s\n",
            "Velocity = 10 m/s\n",
            "Velocity = 20 m/s\n",
            "Velocity = 30 m/s\n"
          ]
        }
      ]
    },
    {
      "cell_type": "code",
      "source": [
        "#  Lift Calculation with different velocities\n",
        "\n",
        "# Constants\n",
        "rho = 1.225   # air density (kg/m^3) at sea level\n",
        "S = 20.0      # wing area (m^2)\n",
        "CL = 0.5      # lift coefficient\n",
        "\n",
        "# Velocity range (in m/s)\n",
        "velocities = [30, 40, 50, 60, 70, 80]\n",
        "\n",
        "# Calculate lift for each velocity using for loop\n",
        "for V in velocities:\n",
        "    L = 0.5 * rho * V**2 * S * CL\n",
        "    print(f\"Velocity: {V} m/s --> Lift: {L:.2f} N\")\n",
        "#f-string (formatted string literal).\n",
        "#It allows us to insert variable values directly inside a string by writing them in curly braces { }."
      ],
      "metadata": {
        "colab": {
          "base_uri": "https://localhost:8080/"
        },
        "id": "TLyEHh3L_bgr",
        "outputId": "bb15964b-af0c-495f-cc3d-e98b6853755f"
      },
      "execution_count": null,
      "outputs": [
        {
          "output_type": "stream",
          "name": "stdout",
          "text": [
            "Velocity: 30 m/s --> Lift: 5512.50 N\n",
            "Velocity: 40 m/s --> Lift: 9800.00 N\n",
            "Velocity: 50 m/s --> Lift: 15312.50 N\n",
            "Velocity: 60 m/s --> Lift: 22050.00 N\n",
            "Velocity: 70 m/s --> Lift: 30012.50 N\n",
            "Velocity: 80 m/s --> Lift: 39200.00 N\n"
          ]
        }
      ]
    },
    {
      "cell_type": "code",
      "source": [
        "# Reynolds number calculation\n",
        "V = 2.0          # velocity (m/s)\n",
        "D = 0.05         # pipe diameter (m)\n",
        "mu = 0.001       # viscosity of water (Pa·s)\n",
        "\n",
        "# Different fluid densities (kg/m^3)\n",
        "densities = [800, 900, 1000, 1100, 1200]\n",
        "\n",
        "# Calculate Reynolds number for each density\n",
        "# Don’t reuse the same name for the list and the loop variable. Use something like for r in rho:\n",
        "for rho in densities:\n",
        "    Re = (rho * V * D) / mu\n",
        "    print(f\"Density: {rho} kg/m^3 --> Reynolds Number: {Re:.0f}\")\n"
      ],
      "metadata": {
        "colab": {
          "base_uri": "https://localhost:8080/"
        },
        "id": "5Gp8jfUwO8K7",
        "outputId": "285e8ad7-23a6-44c8-e334-d3dba57f71fc"
      },
      "execution_count": null,
      "outputs": [
        {
          "output_type": "stream",
          "name": "stdout",
          "text": [
            "Density: 800 kg/m^3 --> Reynolds Number: 80000\n",
            "Density: 900 kg/m^3 --> Reynolds Number: 90000\n",
            "Density: 1000 kg/m^3 --> Reynolds Number: 100000\n",
            "Density: 1100 kg/m^3 --> Reynolds Number: 110000\n",
            "Density: 1200 kg/m^3 --> Reynolds Number: 120000\n"
          ]
        }
      ]
    },
    {
      "cell_type": "markdown",
      "source": [
        "***Looping over two lists with zip()***"
      ],
      "metadata": {
        "id": "EAfFmyzoVXq6"
      }
    },
    {
      "cell_type": "code",
      "source": [
        "rho = [1.2, 1.1, 1.0]        # densities\n",
        "V   = [50, 60, 70]           # velocities\n",
        "\n",
        "for r, v in zip(rho, V):\n",
        "    print(f\"Density = {r}, Velocity = {v}\")\n"
      ],
      "metadata": {
        "colab": {
          "base_uri": "https://localhost:8080/"
        },
        "id": "RR850tToU1PK",
        "outputId": "089000db-de38-4284-ba8b-95a8df89304c"
      },
      "execution_count": null,
      "outputs": [
        {
          "output_type": "stream",
          "name": "stdout",
          "text": [
            "Density = 1.2, Velocity = 50\n",
            "Density = 1.1, Velocity = 60\n",
            "Density = 1.0, Velocity = 70\n"
          ]
        }
      ]
    },
    {
      "cell_type": "code",
      "source": [
        "# Looping over two lists without zip()\n",
        "\n",
        "rho = [1.2, 1.1, 1.0]        # densities\n",
        "V   = [50, 60, 70]           # velocities\n",
        "\n",
        "for i in range(len(rho)):\n",
        "    print(f\"Density = {rho[i]}, Velocity = {V[i]}\")\n"
      ],
      "metadata": {
        "colab": {
          "base_uri": "https://localhost:8080/"
        },
        "id": "mur8A_o-VJ2Z",
        "outputId": "bf4c9200-7959-4fb6-f99e-3e4872eddd38"
      },
      "execution_count": null,
      "outputs": [
        {
          "output_type": "stream",
          "name": "stdout",
          "text": [
            "Density = 1.2, Velocity = 50\n",
            "Density = 1.1, Velocity = 60\n",
            "Density = 1.0, Velocity = 70\n"
          ]
        }
      ]
    },
    {
      "cell_type": "code",
      "source": [
        "densities = [1.2, 1.1, 1.0]        # densities\n",
        "velocities  = [50, 60, 70]           # velocities\n",
        "S = 20     # wing area in m^2\n",
        "CL = 0.5   # lift coefficient\n",
        "\n",
        "for rho, V in zip(densities, velocities):\n",
        "    L = 0.5 * rho * V**2 * S * CL\n",
        "    print(f\"Density = {rho}, Velocity: {V} m/s --> Lift: {L:.0f} N\")\n"
      ],
      "metadata": {
        "colab": {
          "base_uri": "https://localhost:8080/"
        },
        "id": "3Cbmw21cQg9i",
        "outputId": "73d01535-4d78-44f4-df39-0dce6312a11b"
      },
      "execution_count": null,
      "outputs": [
        {
          "output_type": "stream",
          "name": "stdout",
          "text": [
            "Density = 1.2, Velocity: 50 m/s --> Lift: 15000 N\n",
            "Density = 1.1, Velocity: 60 m/s --> Lift: 19800 N\n",
            "Density = 1.0, Velocity: 70 m/s --> Lift: 24500 N\n"
          ]
        }
      ]
    },
    {
      "cell_type": "markdown",
      "source": [
        "# ***NESTED LOOP***"
      ],
      "metadata": {
        "id": "JpN5PsD5ZIs4"
      }
    },
    {
      "cell_type": "code",
      "source": [
        "# Constants\n",
        "S = 20     # wing area in m^2\n",
        "CL = 0.5   # lift coefficient\n",
        "\n",
        "densities = [1.2, 1.1, 1.0]        # densities\n",
        "velocities = [50, 60, 70]          # velocities\n",
        "\n",
        "# Nested loop: each density with all velocities\n",
        "for rho in densities:\n",
        "    for V in velocities:\n",
        "        L = 0.5 * rho * V**2 * S * CL\n",
        "        print(f\"Density = {rho}, Velocity = {V} m/s --> Lift: {L:.0f} N\")\n"
      ],
      "metadata": {
        "colab": {
          "base_uri": "https://localhost:8080/"
        },
        "id": "vOFNefPTXvbe",
        "outputId": "028d3cea-9414-499b-ff59-bff3f2768b2d"
      },
      "execution_count": null,
      "outputs": [
        {
          "output_type": "stream",
          "name": "stdout",
          "text": [
            "Density = 1.2, Velocity = 50 m/s --> Lift: 15000 N\n",
            "Density = 1.2, Velocity = 60 m/s --> Lift: 21600 N\n",
            "Density = 1.2, Velocity = 70 m/s --> Lift: 29400 N\n",
            "Density = 1.1, Velocity = 50 m/s --> Lift: 13750 N\n",
            "Density = 1.1, Velocity = 60 m/s --> Lift: 19800 N\n",
            "Density = 1.1, Velocity = 70 m/s --> Lift: 26950 N\n",
            "Density = 1.0, Velocity = 50 m/s --> Lift: 12500 N\n",
            "Density = 1.0, Velocity = 60 m/s --> Lift: 18000 N\n",
            "Density = 1.0, Velocity = 70 m/s --> Lift: 24500 N\n"
          ]
        }
      ]
    },
    {
      "cell_type": "code",
      "source": [
        "# Constants\n",
        "S = 20     # wing area in m^2\n",
        "CL = 0.5   # lift coefficient\n",
        "\n",
        "densities = [1.2, 1.1, 1.0]        # densities\n",
        "velocities = [50, 60, 70]          # velocities\n",
        "\n",
        "# Nested loop with enumerate to number cases\n",
        "\n",
        "for i, rho in enumerate(densities):      # outer loop over densities\n",
        "    for j, V in enumerate(velocities):   # inner loop over velocities\n",
        "        L = 0.5 * rho * V**2 * S * CL\n",
        "        print(f\" Density = {rho}, Velocity = {V} m/s --> Lift: {L:.0f} N\")\n",
        "\n"
      ],
      "metadata": {
        "colab": {
          "base_uri": "https://localhost:8080/"
        },
        "id": "tOHRrPDSXrjR",
        "outputId": "1f759d7c-41e3-4cd0-a056-9da54315b57a"
      },
      "execution_count": null,
      "outputs": [
        {
          "output_type": "stream",
          "name": "stdout",
          "text": [
            " Density = 1.2, Velocity = 50 m/s --> Lift: 15000 N\n",
            " Density = 1.2, Velocity = 60 m/s --> Lift: 21600 N\n",
            " Density = 1.2, Velocity = 70 m/s --> Lift: 29400 N\n",
            " Density = 1.1, Velocity = 50 m/s --> Lift: 13750 N\n",
            " Density = 1.1, Velocity = 60 m/s --> Lift: 19800 N\n",
            " Density = 1.1, Velocity = 70 m/s --> Lift: 26950 N\n",
            " Density = 1.0, Velocity = 50 m/s --> Lift: 12500 N\n",
            " Density = 1.0, Velocity = 60 m/s --> Lift: 18000 N\n",
            " Density = 1.0, Velocity = 70 m/s --> Lift: 24500 N\n"
          ]
        }
      ]
    },
    {
      "cell_type": "markdown",
      "source": [
        "# ***WHILE LOOP***"
      ],
      "metadata": {
        "id": "T5XUzAwSmJRm"
      }
    },
    {
      "cell_type": "code",
      "source": [
        "# Constants\n",
        "S = 20\n",
        "CL = 0.5\n",
        "rho = 1.2\n",
        "V = 50\n",
        "\n",
        "# Lift threshold\n",
        "threshold = 20000\n",
        "\n",
        "# While loop\n",
        "while True:\n",
        "    L = 0.5 * rho * V**2 * S * CL\n",
        "    print(f\"Velocity = {V} m/s --> Lift = {L:.0f} N\")\n",
        "\n",
        "    if L > threshold:\n",
        "        print(\"Lift exceeded threshold!\")\n",
        "        break  # exit the loop\n",
        "\n",
        "    V += 5   # increase velocity each iteration\n",
        "            # V = V + 5\n"
      ],
      "metadata": {
        "colab": {
          "base_uri": "https://localhost:8080/"
        },
        "id": "po3jSiuohpkA",
        "outputId": "53ff812e-6eaa-4bb3-a87d-02ed83e83274"
      },
      "execution_count": null,
      "outputs": [
        {
          "output_type": "stream",
          "name": "stdout",
          "text": [
            "Velocity = 50 m/s --> Lift = 15000 N\n",
            "Velocity = 55 m/s --> Lift = 18150 N\n",
            "Velocity = 60 m/s --> Lift = 21600 N\n",
            "Lift exceeded threshold!\n"
          ]
        }
      ]
    },
    {
      "cell_type": "code",
      "source": [
        "# Constants\n",
        "rho = 10        # water density, kg/m^3\n",
        "D = 0.05          # pipe diameter, m\n",
        "mu = 0.001        # viscosity, Pa.s\n",
        "\n",
        "# Initial velocity\n",
        "V = 1\n",
        "\n",
        "# While loop\n",
        "while True:\n",
        "    Re = (rho * V * D) / mu\n",
        "    print(f\"Velocity = {V} m/s --> Reynolds number = {Re:.0f}\")\n",
        "\n",
        "    if Re > 4000:\n",
        "        print(\"Flow has become turbulent!\")\n",
        "        break  # stop the loop\n",
        "\n",
        "    V += 1  # increment velocity\n"
      ],
      "metadata": {
        "colab": {
          "base_uri": "https://localhost:8080/"
        },
        "id": "9S-ro8-iiUt4",
        "outputId": "64776d56-0b70-41ab-b993-a6014c33118a"
      },
      "execution_count": null,
      "outputs": [
        {
          "output_type": "stream",
          "name": "stdout",
          "text": [
            "Velocity = 1 m/s --> Reynolds number = 500\n",
            "Velocity = 2 m/s --> Reynolds number = 1000\n",
            "Velocity = 3 m/s --> Reynolds number = 1500\n",
            "Velocity = 4 m/s --> Reynolds number = 2000\n",
            "Velocity = 5 m/s --> Reynolds number = 2500\n",
            "Velocity = 6 m/s --> Reynolds number = 3000\n",
            "Velocity = 7 m/s --> Reynolds number = 3500\n",
            "Velocity = 8 m/s --> Reynolds number = 4000\n",
            "Velocity = 9 m/s --> Reynolds number = 4500\n",
            "Flow has become turbulent!\n"
          ]
        }
      ]
    },
    {
      "cell_type": "code",
      "source": [
        "# Example: increase velocity until Re > 4000\n",
        "rho = 10\n",
        "D = 0.05\n",
        "mu = 0.001\n",
        "V = 1\n",
        "\n",
        "Re = (rho * V * D) / mu\n",
        "while Re <= 4000:\n",
        "    print(f\"Velocity = {V} m/s --> Re = {Re:.0f}\")\n",
        "    V += 1\n",
        "    Re = (rho * V * D) / mu\n"
      ],
      "metadata": {
        "colab": {
          "base_uri": "https://localhost:8080/"
        },
        "id": "zpNeD4VNl3xf",
        "outputId": "338b7796-21f8-44c4-b09a-b2f070d5e051"
      },
      "execution_count": null,
      "outputs": [
        {
          "output_type": "stream",
          "name": "stdout",
          "text": [
            "Velocity = 1 m/s --> Re = 500\n",
            "Velocity = 2 m/s --> Re = 1000\n",
            "Velocity = 3 m/s --> Re = 1500\n",
            "Velocity = 4 m/s --> Re = 2000\n",
            "Velocity = 5 m/s --> Re = 2500\n",
            "Velocity = 6 m/s --> Re = 3000\n",
            "Velocity = 7 m/s --> Re = 3500\n",
            "Velocity = 8 m/s --> Re = 4000\n"
          ]
        }
      ]
    },
    {
      "cell_type": "markdown",
      "source": [
        "# ***math package***"
      ],
      "metadata": {
        "id": "qUETcwPhA9Sa"
      }
    },
    {
      "cell_type": "code",
      "source": [
        "import math\n",
        "x = 5.0\n",
        "print(math.sqrt(x))     # Square root → 2.236...\n",
        "print(math.sin(math.radians(30)))   # Sine of 30° → 0.5\n",
        "print(math.log(x))     # Natural log\n",
        "print(math.exp(x))      # e^5\n",
        "print(math.pi)        # π = 3.14159...\n",
        "print(x * math.pi)"
      ],
      "metadata": {
        "colab": {
          "base_uri": "https://localhost:8080/"
        },
        "id": "S1dU9yrBCgKx",
        "outputId": "87305a7d-74a6-48f3-a4aa-886a4fd045a4"
      },
      "execution_count": 5,
      "outputs": [
        {
          "output_type": "stream",
          "name": "stdout",
          "text": [
            "2.23606797749979\n",
            "0.49999999999999994\n",
            "1.6094379124341003\n",
            "148.4131591025766\n",
            "3.141592653589793\n",
            "15.707963267948966\n"
          ]
        }
      ]
    },
    {
      "cell_type": "code",
      "source": [
        "velocities = [50, 60, 70]\n",
        "rho = 1.225\n",
        "for V in velocities:\n",
        "    q = 0.5 * rho * math.pow(V, 2)\n",
        "    print(f\"Velocity={V}, Dynamic Pressure={q}\")\n"
      ],
      "metadata": {
        "id": "f9jgYGArFrrA",
        "outputId": "8b727fb7-4cbd-47a4-8cf8-7221f7cc571d",
        "colab": {
          "base_uri": "https://localhost:8080/"
        }
      },
      "execution_count": 7,
      "outputs": [
        {
          "output_type": "stream",
          "name": "stdout",
          "text": [
            "Velocity=50, Dynamic Pressure=1531.25\n",
            "Velocity=60, Dynamic Pressure=2205.0\n",
            "Velocity=70, Dynamic Pressure=3001.25\n"
          ]
        }
      ]
    },
    {
      "cell_type": "code",
      "source": [
        "import math\n",
        "\n",
        "velocities = [50, 60, 70]\n",
        "q = 0.5 * math.pow(velocities, 2)   # ❌ ERROR\n"
      ],
      "metadata": {
        "id": "cQjbuwRbIVY5",
        "outputId": "d1936983-ff8c-4bde-918d-504607df2485",
        "colab": {
          "base_uri": "https://localhost:8080/",
          "height": 183
        }
      },
      "execution_count": 8,
      "outputs": [
        {
          "output_type": "error",
          "ename": "TypeError",
          "evalue": "must be real number, not list",
          "traceback": [
            "\u001b[0;31m---------------------------------------------------------------------------\u001b[0m",
            "\u001b[0;31mTypeError\u001b[0m                                 Traceback (most recent call last)",
            "\u001b[0;32m/tmp/ipython-input-1947399063.py\u001b[0m in \u001b[0;36m<cell line: 0>\u001b[0;34m()\u001b[0m\n\u001b[1;32m      2\u001b[0m \u001b[0;34m\u001b[0m\u001b[0m\n\u001b[1;32m      3\u001b[0m \u001b[0mvelocities\u001b[0m \u001b[0;34m=\u001b[0m \u001b[0;34m[\u001b[0m\u001b[0;36m50\u001b[0m\u001b[0;34m,\u001b[0m \u001b[0;36m60\u001b[0m\u001b[0;34m,\u001b[0m \u001b[0;36m70\u001b[0m\u001b[0;34m]\u001b[0m\u001b[0;34m\u001b[0m\u001b[0;34m\u001b[0m\u001b[0m\n\u001b[0;32m----> 4\u001b[0;31m \u001b[0mq\u001b[0m \u001b[0;34m=\u001b[0m \u001b[0;36m0.5\u001b[0m \u001b[0;34m*\u001b[0m \u001b[0mmath\u001b[0m\u001b[0;34m.\u001b[0m\u001b[0mpow\u001b[0m\u001b[0;34m(\u001b[0m\u001b[0mvelocities\u001b[0m\u001b[0;34m,\u001b[0m \u001b[0;36m2\u001b[0m\u001b[0;34m)\u001b[0m   \u001b[0;31m# ❌ ERROR\u001b[0m\u001b[0;34m\u001b[0m\u001b[0;34m\u001b[0m\u001b[0m\n\u001b[0m",
            "\u001b[0;31mTypeError\u001b[0m: must be real number, not list"
          ]
        }
      ]
    },
    {
      "cell_type": "code",
      "source": [
        "import math\n",
        "\n",
        "velocities = [50, 60, 70]\n",
        "\n",
        "for V in velocities:\n",
        "    q = 0.5 * math.pow(V, 2)\n",
        "    print(q)\n"
      ],
      "metadata": {
        "id": "V9hwlz3nIxGx",
        "outputId": "3cd517a3-c37f-49d3-a67e-5580c8c9193b",
        "colab": {
          "base_uri": "https://localhost:8080/"
        }
      },
      "execution_count": 15,
      "outputs": [
        {
          "output_type": "stream",
          "name": "stdout",
          "text": [
            "1250.0\n",
            "1800.0\n",
            "2450.0\n"
          ]
        }
      ]
    },
    {
      "cell_type": "markdown",
      "source": [
        "# ***numpy***\n"
      ],
      "metadata": {
        "id": "G5yOivWLNVlw"
      }
    },
    {
      "cell_type": "code",
      "source": [
        "# correct way with numpy\n",
        "\n",
        "import numpy as np\n",
        "\n",
        "velocities = np.array([50, 60, 70])   # Convert list to numpy array\n",
        "q = 0.5 * velocities**2\n",
        "print(q)\n"
      ],
      "metadata": {
        "id": "5gHq3pCANYiH",
        "outputId": "1c3481b3-019f-4374-a93f-6e07b47576ed",
        "colab": {
          "base_uri": "https://localhost:8080/"
        }
      },
      "execution_count": 12,
      "outputs": [
        {
          "output_type": "stream",
          "name": "stdout",
          "text": [
            "[1250. 1800. 2450.]\n"
          ]
        }
      ]
    },
    {
      "cell_type": "code",
      "source": [
        "# list\n",
        "velocities = [50, 60, 70]\n",
        "print(velocities * 2)     # Here, *2 means repetition (concatenation),\n",
        "                          # not multiplication.\n",
        "\n",
        "# numpy array\n",
        "import numpy as np\n",
        "\n",
        "velocities = np.array([50, 60, 70])\n",
        "print(velocities * 2)   # Here, *2 means element-wise multiplication"
      ],
      "metadata": {
        "id": "kGT1qYxpOKa4",
        "outputId": "14c69b2d-e73a-43d1-e985-7c5648c61478",
        "colab": {
          "base_uri": "https://localhost:8080/"
        }
      },
      "execution_count": 17,
      "outputs": [
        {
          "output_type": "stream",
          "name": "stdout",
          "text": [
            "[50, 60, 70, 50, 60, 70]\n",
            "[100 120 140]\n"
          ]
        }
      ]
    },
    {
      "cell_type": "code",
      "source": [],
      "metadata": {
        "id": "CkhZFAqgP8N5"
      },
      "execution_count": null,
      "outputs": []
    }
  ]
}