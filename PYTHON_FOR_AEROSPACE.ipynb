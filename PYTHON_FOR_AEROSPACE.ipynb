{
  "nbformat": 4,
  "nbformat_minor": 0,
  "metadata": {
    "colab": {
      "provenance": [],
      "authorship_tag": "ABX9TyPQYBma38V/JXB3Otpf3yML",
      "include_colab_link": true
    },
    "kernelspec": {
      "name": "python3",
      "display_name": "Python 3"
    },
    "language_info": {
      "name": "python"
    }
  },
  "cells": [
    {
      "cell_type": "markdown",
      "metadata": {
        "id": "view-in-github",
        "colab_type": "text"
      },
      "source": [
        "<a href=\"https://colab.research.google.com/github/cmvigneswaranaero-gif/space_lab/blob/main/PYTHON_FOR_AEROSPACE.ipynb\" target=\"_parent\"><img src=\"https://colab.research.google.com/assets/colab-badge.svg\" alt=\"Open In Colab\"/></a>"
      ]
    },
    {
      "cell_type": "markdown",
      "source": [
        "# **PYTHON FOR AEROSPACE**\n",
        "\n",
        "# ***DEFINING VARIABLES***\n",
        "\n"
      ],
      "metadata": {
        "id": "2Jpgr5zkNOgg"
      }
    },
    {
      "cell_type": "code",
      "source": [
        "# Define variables\n",
        "velocity = 30\n",
        "pressure = 1250.567\n",
        "\n",
        "print(velocity)\n",
        "print (pressure)\n",
        "\n",
        "# Check datatypes\n",
        "print(type(velocity))\n",
        "print(type(pressure))\n",
        "\n",
        "# Print with labels\n",
        "print(\"Velocity - datatype:\", type(velocity))\n",
        "print(\"Pressure - datatype:\", type(pressure))"
      ],
      "metadata": {
        "colab": {
          "base_uri": "https://localhost:8080/"
        },
        "id": "S2uB-4o2NPDe",
        "outputId": "718b828b-1efb-4ecc-bba6-650b640fa83e"
      },
      "execution_count": null,
      "outputs": [
        {
          "output_type": "stream",
          "name": "stdout",
          "text": [
            "30\n",
            "1250.567\n",
            "<class 'int'>\n",
            "<class 'float'>\n",
            "Velocity - datatype: <class 'int'>\n",
            "Pressure - datatype: <class 'float'>\n"
          ]
        }
      ]
    },
    {
      "cell_type": "code",
      "source": [
        "# Defining fluid properties for air\n",
        "air_density = 1.225       # Air density in kg/m^3\n",
        "air_viscosity = 1.81e-5   # Air viscosity in Pa.s\n",
        "\n",
        "# Printing the results\n",
        "print(\"Air density:\", air_density, \"kg/m^3\")\n",
        "print(\"Air viscosity:\", air_viscosity, \"Pa.s\")\n"
      ],
      "metadata": {
        "colab": {
          "base_uri": "https://localhost:8080/"
        },
        "id": "gQHM_gXo_R0Y",
        "outputId": "9b61954e-3fe1-4e2b-fb6e-3e19adcd9f33"
      },
      "execution_count": null,
      "outputs": [
        {
          "output_type": "stream",
          "name": "stdout",
          "text": [
            "Air density: 1.225 kg/m^3\n",
            "Air viscosity: 1.81e-05 Pa.s\n"
          ]
        }
      ]
    },
    {
      "cell_type": "markdown",
      "source": [
        "# ***STRING***"
      ],
      "metadata": {
        "id": "SYx9S1qoNonY"
      }
    },
    {
      "cell_type": "code",
      "source": [
        "# Defining a string\n",
        "AIRCRAFT = \"BOEING_747\"\n",
        "print(AIRCRAFT)\n",
        "\n",
        "# Accessing characters and substrings\n",
        "print(AIRCRAFT[0])      # First character\n",
        "print(AIRCRAFT[0:3])    # Characters from index 0 to 2\n",
        "print(AIRCRAFT[3:8])    # Characters from index 3 to 7\n",
        "print(AIRCRAFT[3:4])    # Character at index 3"
      ],
      "metadata": {
        "colab": {
          "base_uri": "https://localhost:8080/"
        },
        "id": "ZG-m37BLpUNV",
        "outputId": "7967b580-3c42-43cf-923a-2767d8a6c01f"
      },
      "execution_count": null,
      "outputs": [
        {
          "output_type": "stream",
          "name": "stdout",
          "text": [
            "BOEING_747\n",
            "B\n",
            "BOE\n",
            "ING_7\n",
            "I\n"
          ]
        }
      ]
    },
    {
      "cell_type": "code",
      "source": [
        "# Defining a string\n",
        "message = \"Python for Aerospace Engineering\"\n",
        "print(message)\n",
        "\n",
        "# Accessing part of the string\n",
        "print(message[0:6])     # Characters from index 0 to 5\n",
        "\n",
        "# Length of the string\n",
        "print(len(message))\n"
      ],
      "metadata": {
        "colab": {
          "base_uri": "https://localhost:8080/"
        },
        "id": "s9exrkm0q5QS",
        "outputId": "10896eca-6268-4a08-f9b3-304ea6b7c9b1"
      },
      "execution_count": null,
      "outputs": [
        {
          "output_type": "stream",
          "name": "stdout",
          "text": [
            "Python for Aerospace Engineering\n",
            "Python\n",
            "32\n"
          ]
        }
      ]
    },
    {
      "cell_type": "code",
      "source": [
        "# Defining strings\n",
        "First_name = \"Aerospace\"\n",
        "Last_name = \"Engineering\"\n",
        "\n",
        "# Concatenation without space\n",
        "Name = First_name + Last_name\n",
        "print(Name)\n",
        "\n",
        "# Concatenation with space\n",
        "Name_new = First_name + \" \" + Last_name\n",
        "print(Name_new)\n",
        "\n",
        "# Repetition\n",
        "print(Name_new * 3)\n",
        "\n",
        "# Repetition with space\n",
        "print((Name_new + \" \") * 3)\n"
      ],
      "metadata": {
        "colab": {
          "base_uri": "https://localhost:8080/"
        },
        "id": "I8kAk01q77mS",
        "outputId": "25c8e618-f4db-43a8-eba4-45e48db85741"
      },
      "execution_count": null,
      "outputs": [
        {
          "output_type": "stream",
          "name": "stdout",
          "text": [
            "AerospaceEngineering\n",
            "Aerospace Engineering\n",
            "Aerospace EngineeringAerospace EngineeringAerospace Engineering\n",
            "Aerospace Engineering Aerospace Engineering Aerospace Engineering \n"
          ]
        }
      ]
    },
    {
      "cell_type": "markdown",
      "source": [
        "# **Boolean**"
      ],
      "metadata": {
        "id": "hz0zTl1vN3Pv"
      }
    },
    {
      "cell_type": "code",
      "source": [
        "# Check if velocity exceeds speed of sound\n",
        "velocity = 250     # m/s\n",
        "speed_of_sound = 343  # m/s at sea level\n",
        "\n",
        "a = velocity > speed_of_sound   # Boolean condition\n",
        "print(a)                        # Prints True/False\n",
        "print(type(a))                  # Prints datatype\n"
      ],
      "metadata": {
        "colab": {
          "base_uri": "https://localhost:8080/"
        },
        "id": "JNbuL-GW9frq",
        "outputId": "7288679f-731a-419e-a19e-a05a0dfbffaa"
      },
      "execution_count": null,
      "outputs": [
        {
          "output_type": "stream",
          "name": "stdout",
          "text": [
            "False\n",
            "<class 'bool'>\n"
          ]
        }
      ]
    },
    {
      "cell_type": "code",
      "source": [
        "# Example: Check if aircraft is supersonic\n",
        "velocity = 250        # m/s\n",
        "speed_of_sound = 343  # m/s at sea level\n",
        "a = velocity > speed_of_sound\n",
        "print(a)"
      ],
      "metadata": {
        "colab": {
          "base_uri": "https://localhost:8080/"
        },
        "id": "_DrC9GgQ_qYg",
        "outputId": "6713dd20-218a-4df4-8105-b8e7922b63b5"
      },
      "execution_count": 3,
      "outputs": [
        {
          "output_type": "stream",
          "name": "stdout",
          "text": [
            "False\n"
          ]
        }
      ]
    },
    {
      "cell_type": "markdown",
      "source": [
        "# **LIST**"
      ],
      "metadata": {
        "id": "8C1Vo58XOCEX"
      }
    },
    {
      "cell_type": "code",
      "source": [
        "# Creating lists for aircraft and max speeds\n",
        "aircraft = [\"Boeing_747\", \"Airbus_A320\", \"Cessna_172\"]\n",
        "max_speed = [920, 840, 302]   # speeds in km/h\n",
        "\n",
        "# Printing the lists\n",
        "print(aircraft)\n",
        "print(max_speed)\n",
        "\n",
        "# Accessing list elements\n",
        "print(aircraft[0])    # First aircraft\n",
        "print(max_speed[1])   # Max speed of second aircraft"
      ],
      "metadata": {
        "colab": {
          "base_uri": "https://localhost:8080/"
        },
        "id": "RSFyo32rBYJp",
        "outputId": "248c8208-dd88-4c1f-edd9-9b4b2f956ef0"
      },
      "execution_count": null,
      "outputs": [
        {
          "output_type": "stream",
          "name": "stdout",
          "text": [
            "['Boeing_747', 'Airbus_A320', 'Cessna_172']\n",
            "[920, 840, 302]\n",
            "Boeing_747\n",
            "840\n"
          ]
        }
      ]
    },
    {
      "cell_type": "code",
      "source": [
        "# Adding more aircraft\n",
        "new_aircraft = [\"F-16\", \"Concorde\"]\n",
        "all_aircraft = aircraft + new_aircraft\n",
        "print(all_aircraft)\n",
        "print(len(all_aircraft))   # Total number of aircraft\n",
        "\n",
        "# Appending a new aircraft\n",
        "all_aircraft.append(\"SR-71\")\n",
        "print(all_aircraft)\n",
        "\n",
        "# Deleting an aircraft\n",
        "del all_aircraft[2]   # Deletes \"Cessna_172\"\n",
        "print(all_aircraft)"
      ],
      "metadata": {
        "colab": {
          "base_uri": "https://localhost:8080/"
        },
        "id": "jxIbILDcB0Sw",
        "outputId": "70d043eb-6ed5-4af7-ce5d-3c85db2b7652"
      },
      "execution_count": null,
      "outputs": [
        {
          "output_type": "stream",
          "name": "stdout",
          "text": [
            "['Boeing_747', 'Airbus_A320', 'Cessna_172', 'F-16', 'Concorde']\n",
            "5\n",
            "['Boeing_747', 'Airbus_A320', 'Cessna_172', 'F-16', 'Concorde', 'SR-71']\n",
            "['Boeing_747', 'Airbus_A320', 'F-16', 'Concorde', 'SR-71']\n"
          ]
        }
      ]
    },
    {
      "cell_type": "code",
      "source": [
        "# Creating lists for aircraft and max speeds\n",
        "aircraft = [\"Boeing_747\", \"Airbus_A320\", \"Cessna_172\"]\n",
        "max_speed = [920, 840, 302]   # speeds in km/h\n",
        "\n",
        "# Accessing elements using negative index\n",
        "print(\"Last aircraft:\", aircraft[-1])         # Cessna_172\n",
        "print(\"Second last aircraft:\", aircraft[-2])  # Airbus_A320\n",
        "print(\"Last speed:\", max_speed[-1])           # 302\n",
        "print(\"Second last speed:\", max_speed[-2])    # 840\n",
        "\n",
        "# Adding new aircraft and using negative index\n",
        "new_aircraft = [\"F-16\", \"Concorde\"]\n",
        "all_aircraft = aircraft + new_aircraft\n",
        "print(\"Last aircraft in combined list:\", all_aircraft[-1])   # Concorde\n",
        "print(\"Second last aircraft in combined list:\", all_aircraft[-2])  # F-16"
      ],
      "metadata": {
        "colab": {
          "base_uri": "https://localhost:8080/"
        },
        "id": "C1s-CND2Di1B",
        "outputId": "8a43067b-1ac9-4f3b-bcc7-5eb56ed060ee"
      },
      "execution_count": null,
      "outputs": [
        {
          "output_type": "stream",
          "name": "stdout",
          "text": [
            "Last aircraft: Cessna_172\n",
            "Second last aircraft: Airbus_A320\n",
            "Last speed: 302\n",
            "Second last speed: 840\n",
            "Last aircraft in combined list: Concorde\n",
            "Second last aircraft in combined list: F-16\n"
          ]
        }
      ]
    },
    {
      "cell_type": "code",
      "source": [
        "# LIST WITH MIXED DATA\n",
        "# List of integer velocities (m/s)\n",
        "velocities = [250, 340, 120]  # int type elements\n",
        "print(\"Velocities:\", velocities)\n",
        "\n",
        "# List of float pressures (Pa)\n",
        "pressures = [101325.0, 100800.5, 100500.2]  # float type elements\n",
        "print(\"Pressures:\", pressures)\n",
        "\n",
        "# List of flow types\n",
        "flow_types = [\"laminar\", \"turbulent\", \"transitional\"]  # str type elements\n",
        "print(\"Flow types:\", flow_types)\n",
        "\n",
        "# List with mixed data types (example: sensor reading, fluid type, pressure)\n",
        "mixed_data = [3.5, \"air\", 101325]  # float, str, int\n",
        "print(\"Mixed data:\", mixed_data)\n"
      ],
      "metadata": {
        "colab": {
          "base_uri": "https://localhost:8080/"
        },
        "id": "TJRCLB9GGk6K",
        "outputId": "64240bba-9d98-4f28-fb15-c62009a30e82"
      },
      "execution_count": null,
      "outputs": [
        {
          "output_type": "stream",
          "name": "stdout",
          "text": [
            "Velocities: [250, 340, 120]\n",
            "Pressures: [101325.0, 100800.5, 100500.2]\n",
            "Flow types: ['laminar', 'turbulent', 'transitional']\n",
            "Mixed data: [3.5, 'air', 101325]\n"
          ]
        }
      ]
    },
    {
      "cell_type": "markdown",
      "source": [
        "# **TUPLE**"
      ],
      "metadata": {
        "id": "BHikyLNmOFrn"
      }
    },
    {
      "cell_type": "code",
      "source": [
        "# --- Tuple Example (Immutable Data) ---\n",
        "# Aircraft properties: (wing_span,fuselage_length,takeoff_weight )\n",
        "aircraft_properties = (60.3, 70.6, 396890)  # fixed and constant\n",
        "print(\"Aircraft Properties (Tuple):\", aircraft_properties)\n",
        "\n",
        "# You cannot change tuple elements\n",
        "# aircraft_properties[0] = 61.0  # ❌ This will cause an error\n"
      ],
      "metadata": {
        "colab": {
          "base_uri": "https://localhost:8080/"
        },
        "id": "RMf4f0VhIz-R",
        "outputId": "8b563d3d-37fd-4471-e816-633a1fe2dc47"
      },
      "execution_count": null,
      "outputs": [
        {
          "output_type": "stream",
          "name": "stdout",
          "text": [
            "Aircraft Properties (Tuple): (60.3, 70.6, 396890)\n"
          ]
        }
      ]
    },
    {
      "cell_type": "code",
      "source": [
        "# --- Tuple Example (Immutable Data) ---\n",
        "# Pipe properties: (diameter in m, length in m, roughness in mm)\n",
        "pipe_properties = (0.5, 10, 0.05)  # fixed and constant\n",
        "print(\"Pipe Properties (Tuple):\", pipe_properties)\n",
        "\n",
        "# Accessing individual elements\n",
        "print(\"Diameter (m):\", pipe_properties[0])\n",
        "print(\"Length (m):\", pipe_properties[1])\n",
        "print(\"Roughness (mm):\", pipe_properties[2])\n",
        "\n",
        "# Trying to modify a tuple element will cause an error\n",
        "# pipe_properties[0] = 0.6  # ❌ Not allowed, tuples are immutable\n"
      ],
      "metadata": {
        "colab": {
          "base_uri": "https://localhost:8080/"
        },
        "id": "0hHKiAfZJWnw",
        "outputId": "d1f1eaa0-6b56-4df1-b220-b6edfddba1e7"
      },
      "execution_count": null,
      "outputs": [
        {
          "output_type": "stream",
          "name": "stdout",
          "text": [
            "Pipe Properties (Tuple): (0.5, 10, 0.05)\n",
            "Diameter (m): 0.5\n",
            "Length (m): 10\n",
            "Roughness (mm): 0.05\n"
          ]
        }
      ]
    },
    {
      "cell_type": "markdown",
      "source": [
        "# **Dictionary**"
      ],
      "metadata": {
        "id": "jIeOC_SXONJP"
      }
    },
    {
      "cell_type": "code",
      "source": [
        "# Defining a dictionary for air properties\n",
        "air_properties = {\n",
        "    \"density\": 1.225,        # kg/m^3\n",
        "    \"viscosity\": 1.81e-5,    # Pa.s\n",
        "    \"specific_heat\": 1005     # J/(kg·K)\n",
        "}\n",
        "\n",
        "# Accessing values using keys\n",
        "print(\"Air density:\", air_properties[\"density\"], \"kg/m^3\")\n",
        "print(\"Air viscosity:\", air_properties[\"viscosity\"], \"Pa.s\")\n",
        "print(\"Specific heat:\", air_properties[\"specific_heat\"], \"J/(kg·K)\")\n",
        "\n",
        "# Adding a new property\n",
        "air_properties[\"pressure\"] = 101325\n",
        "print(\"Updated Air Properties:\", air_properties)\n"
      ],
      "metadata": {
        "colab": {
          "base_uri": "https://localhost:8080/"
        },
        "id": "Ii8U-io6KsdI",
        "outputId": "b52d24d0-97c7-4948-88a2-489fa8c5e31c"
      },
      "execution_count": null,
      "outputs": [
        {
          "output_type": "stream",
          "name": "stdout",
          "text": [
            "Air density: 1.225 kg/m^3\n",
            "Air viscosity: 1.81e-05 Pa.s\n",
            "Specific heat: 1005 J/(kg·K)\n",
            "Updated Air Properties: {'density': 1.225, 'viscosity': 1.81e-05, 'specific_heat': 1005, 'pressure': 101325}\n"
          ]
        }
      ]
    },
    {
      "cell_type": "code",
      "source": [
        "# Define dictionary for air properties\n",
        "air_properties = {\n",
        "    \"density\": 1.225,\n",
        "    \"viscosity\": 1.81e-5,\n",
        "    \"specific_heat\": 1005\n",
        "}\n",
        "\n",
        "#  Change the value of an existing key\n",
        "air_properties[\"density\"] = 1.2   # Updated density\n",
        "print(\"Updated density:\", air_properties[\"density\"])\n",
        "\n",
        "#  Add a new key-value pair\n",
        "air_properties[\"pressure\"] = 101325\n",
        "print(\"Added pressure:\", air_properties[\"pressure\"])\n",
        "\n",
        "#  Change a key (create new key and delete old one)\n",
        "air_properties[\"air_density\"] = air_properties.pop(\"density\")\n",
        "print(\"Changed key from 'density' to 'air_density':\", air_properties)\n"
      ],
      "metadata": {
        "colab": {
          "base_uri": "https://localhost:8080/"
        },
        "id": "1iYl1ppVMAo4",
        "outputId": "f88caffe-c6d5-45b5-fb40-23d033fb499a"
      },
      "execution_count": null,
      "outputs": [
        {
          "output_type": "stream",
          "name": "stdout",
          "text": [
            "Updated density: 1.2\n",
            "Added pressure: 101325\n",
            "Changed key from 'density' to 'air_density': {'viscosity': 1.81e-05, 'specific_heat': 1005, 'pressure': 101325, 'air_density': 1.2}\n"
          ]
        }
      ]
    },
    {
      "cell_type": "markdown",
      "source": [
        "# ***Function***"
      ],
      "metadata": {
        "id": "yZqv_K3-_HAT"
      }
    },
    {
      "cell_type": "code",
      "source": [
        "# Function to calculate Lift Force\n",
        "def lift (density, velocity, wing_area, Cl):\n",
        "    \"\"\"\n",
        "    Calculates Lift Force using the formula:\n",
        "    L = 0.5 * density * velocity^2 * wing_area * Cl\n",
        "    \"\"\"\n",
        "    return 0.5 * density * velocity**2 * wing_area * Cl\n",
        "\n",
        "\"\"\"\n",
        "If the function call and print statement are on the same line as the return,\n",
        "which will cause an indentation error\n",
        "\"\"\"\n",
        "# Call the function\n",
        "lift_force = lift(1, 200, 25, 1)\n",
        "print(\"Lift Force (N):\", lift_force)\n"
      ],
      "metadata": {
        "colab": {
          "base_uri": "https://localhost:8080/"
        },
        "id": "q_CZYq7KSI-n",
        "outputId": "c497e323-9457-4618-d9cb-33cc3d1a2bd6"
      },
      "execution_count": null,
      "outputs": [
        {
          "output_type": "stream",
          "name": "stdout",
          "text": [
            "Lift Force (N): 500000.0\n"
          ]
        }
      ]
    },
    {
      "cell_type": "code",
      "source": [
        "# Function to calculate Reynolds Number\n",
        "def reynolds_number(rho, V, L, mu):\n",
        "    return (rho * V * L) / mu\n",
        "\n",
        "# Function to calculate Dynamic Pressure\n",
        "def dynamic_pressure(rho, V):\n",
        "    return 0.5 * rho * V**2\n",
        "\n",
        "\n",
        "# Call the functions\n",
        "Re = reynolds_number(1.225,50, 0.5, 1.81e-5)\n",
        "q = dynamic_pressure(1.225, 50)\n",
        "\n",
        "# Print results\n",
        "print(\"Reynolds Number:\", Re)\n",
        "print(\"Dynamic Pressure (Pa):\", q)\n"
      ],
      "metadata": {
        "colab": {
          "base_uri": "https://localhost:8080/"
        },
        "id": "WgnWiXZXUdmO",
        "outputId": "b27247e2-b228-43ae-ba22-6a954c194abe"
      },
      "execution_count": null,
      "outputs": [
        {
          "output_type": "stream",
          "name": "stdout",
          "text": [
            "Reynolds Number: 1691988.9502762433\n",
            "Dynamic Pressure (Pa): 1531.25\n"
          ]
        }
      ]
    },
    {
      "cell_type": "markdown",
      "source": [
        "# ***if-else***"
      ],
      "metadata": {
        "id": "UnqwMYxi_NYL"
      }
    },
    {
      "cell_type": "code",
      "source": [
        "# Example: Check if aircraft is supersonic\n",
        "velocity = 250        # m/s\n",
        "speed_of_sound = 343  # m/s at sea level\n",
        "a = velocity > speed_of_sound\n",
        "\n",
        "if a:\n",
        "    print(\"Supersonic\")\n",
        "else:\n",
        "    print(\"Subsonic\")"
      ],
      "metadata": {
        "colab": {
          "base_uri": "https://localhost:8080/"
        },
        "id": "bh7jQSJdhQ1y",
        "outputId": "37c0b00b-e241-434d-dbbb-56e62be51fae"
      },
      "execution_count": 2,
      "outputs": [
        {
          "output_type": "stream",
          "name": "stdout",
          "text": [
            "Subsonic\n"
          ]
        }
      ]
    },
    {
      "cell_type": "code",
      "source": [
        "Mach = 0.6   # Example Mach number\n",
        "\n",
        "if Mach < 1:\n",
        "    print(\"Subsonic flow\")"
      ],
      "metadata": {
        "colab": {
          "base_uri": "https://localhost:8080/"
        },
        "id": "lYXv7m2RXsGE",
        "outputId": "081445bd-562b-4b96-9ef5-cc10b74639c5"
      },
      "execution_count": null,
      "outputs": [
        {
          "output_type": "stream",
          "name": "stdout",
          "text": [
            "Subsonic flow\n"
          ]
        }
      ]
    },
    {
      "cell_type": "code",
      "source": [
        "Mach = 1.2\n",
        "\n",
        "if Mach < 1:\n",
        "    print(\"Subsonic flow\")\n",
        "else:\n",
        "    print(\"Supersonic flow\")\n"
      ],
      "metadata": {
        "colab": {
          "base_uri": "https://localhost:8080/"
        },
        "id": "A0rTJCDlWwq2",
        "outputId": "4df9fe9c-47a1-430b-f77d-8d3db3351246"
      },
      "execution_count": null,
      "outputs": [
        {
          "output_type": "stream",
          "name": "stdout",
          "text": [
            "Supersonic flow\n"
          ]
        }
      ]
    },
    {
      "cell_type": "code",
      "source": [
        "Mach = 2\n",
        "\n",
        "if Mach < 1:\n",
        "    print(\"Subsonic flow\")\n",
        "elif Mach == 1:\n",
        "    print(\"Sonic flow\")\n",
        "else:\n",
        "    print(\"Supersonic flow\")"
      ],
      "metadata": {
        "colab": {
          "base_uri": "https://localhost:8080/"
        },
        "id": "jxRA1R4rW8t1",
        "outputId": "6cabbd7b-92bd-46c8-b7c6-ded9dc5964f7"
      },
      "execution_count": null,
      "outputs": [
        {
          "output_type": "stream",
          "name": "stdout",
          "text": [
            "Supersonic flow\n"
          ]
        }
      ]
    },
    {
      "cell_type": "code",
      "source": [
        "Mach = 1.2\n",
        "\n",
        "if Mach < 0.8:\n",
        "    print(\"Subsonic flow\")\n",
        "elif Mach >= 0.8 and Mach < 1.2:\n",
        "    print(\"Transonic flow\")\n",
        "elif Mach >= 1.2 and Mach < 5:\n",
        "    print(\"Supersonic flow\")\n",
        "else:\n",
        "    print(\"Hypersonic flow\")\n"
      ],
      "metadata": {
        "colab": {
          "base_uri": "https://localhost:8080/"
        },
        "id": "COxbr-XZXaae",
        "outputId": "6610a8af-3584-4c60-8066-c14abd584e76"
      },
      "execution_count": null,
      "outputs": [
        {
          "output_type": "stream",
          "name": "stdout",
          "text": [
            "Supersonic flow\n"
          ]
        }
      ]
    },
    {
      "cell_type": "code",
      "source": [
        "Mach = 300000\n",
        "if Re < 5e5:\n",
        "    print(\"Flow is Laminar\")\n",
        "else:\n",
        "    print(\"Flow is Turbulent\")"
      ],
      "metadata": {
        "colab": {
          "base_uri": "https://localhost:8080/"
        },
        "id": "ffjhfkTsXFVl",
        "outputId": "7d2f5938-c871-4164-c4ae-c94825eada82"
      },
      "execution_count": null,
      "outputs": [
        {
          "output_type": "stream",
          "name": "stdout",
          "text": [
            "Flow is Turbulent\n"
          ]
        }
      ]
    },
    {
      "cell_type": "markdown",
      "source": [
        "# **for loop**"
      ],
      "metadata": {
        "id": "qBqK_I-1_YAr"
      }
    },
    {
      "cell_type": "code",
      "source": [
        "velocities = [10, 20, 30]\n",
        "\n",
        "# 1. Basic for ... in list\n",
        "for V in velocities:\n",
        "    print(f\"Velocity = {V} m/s\")\n",
        "\n",
        "# 2. Using enumerate() (index + value)\n",
        "for i, V in enumerate(velocities):\n",
        "    print(f\"Case {i+1}: Velocity = {V} m/s\")\n",
        "\n",
        "# 3. Using range(start, stop, step)\n",
        "for V in range(10, 40, 10):   # from 10 to 30 with step 10\n",
        "    print(f\"Velocity = {V} m/s\")\n",
        "\n",
        "\n",
        "# thumb rule\n",
        "# Only index → use range(len(list)) (most common).\n",
        "\n",
        "# Only value → for value in list:\n",
        "\n",
        "# Both index + value → enumerate\n",
        "\n"
      ],
      "metadata": {
        "colab": {
          "base_uri": "https://localhost:8080/"
        },
        "id": "dM401-hQRcLZ",
        "outputId": "ead628cc-98dd-4149-a314-4dd6309dedab"
      },
      "execution_count": 8,
      "outputs": [
        {
          "output_type": "stream",
          "name": "stdout",
          "text": [
            "Velocity = 10 m/s\n",
            "Velocity = 20 m/s\n",
            "Velocity = 30 m/s\n",
            "Case 1: Velocity = 10 m/s\n",
            "Case 2: Velocity = 20 m/s\n",
            "Case 3: Velocity = 30 m/s\n",
            "Velocity = 10 m/s\n",
            "Velocity = 20 m/s\n",
            "Velocity = 30 m/s\n"
          ]
        }
      ]
    },
    {
      "cell_type": "code",
      "source": [
        "#  Lift Calculation with different velocities\n",
        "\n",
        "# Constants\n",
        "rho = 1.225   # air density (kg/m^3) at sea level\n",
        "S = 20.0      # wing area (m^2)\n",
        "CL = 0.5      # lift coefficient\n",
        "\n",
        "# Velocity range (in m/s)\n",
        "velocities = [30, 40, 50, 60, 70, 80]\n",
        "\n",
        "# Calculate lift for each velocity using for loop\n",
        "for V in velocities:\n",
        "    L = 0.5 * rho * V**2 * S * CL\n",
        "    print(f\"Velocity: {V} m/s --> Lift: {L:.2f} N\")\n",
        "#f-string (formatted string literal).\n",
        "#It allows us to insert variable values directly inside a string by writing them in curly braces { }."
      ],
      "metadata": {
        "colab": {
          "base_uri": "https://localhost:8080/"
        },
        "id": "TLyEHh3L_bgr",
        "outputId": "65b9c908-c1fa-4fc0-942d-26cc2238f4bb"
      },
      "execution_count": null,
      "outputs": [
        {
          "output_type": "stream",
          "name": "stdout",
          "text": [
            "Velocity: 30 m/s --> Lift: 5512.50 N\n",
            "Velocity: 40 m/s --> Lift: 9800.00 N\n",
            "Velocity: 50 m/s --> Lift: 15312.50 N\n",
            "Velocity: 60 m/s --> Lift: 22050.00 N\n",
            "Velocity: 70 m/s --> Lift: 30012.50 N\n",
            "Velocity: 80 m/s --> Lift: 39200.00 N\n"
          ]
        }
      ]
    },
    {
      "cell_type": "code",
      "source": [
        "# Reynolds number calculation\n",
        "V = 2.0          # velocity (m/s)\n",
        "D = 0.05         # pipe diameter (m)\n",
        "mu = 0.001       # viscosity of water (Pa·s)\n",
        "\n",
        "# Different fluid densities (kg/m^3)\n",
        "densities = [800, 900, 1000, 1100, 1200]\n",
        "\n",
        "# Calculate Reynolds number for each density\n",
        "# Don’t reuse the same name for the list and the loop variable. Use something like for r in rho:\n",
        "for rho in densities:\n",
        "    Re = (rho * V * D) / mu\n",
        "    print(f\"Density: {rho} kg/m^3 --> Reynolds Number: {Re:.0f}\")\n"
      ],
      "metadata": {
        "colab": {
          "base_uri": "https://localhost:8080/"
        },
        "id": "5Gp8jfUwO8K7",
        "outputId": "5bd069c0-e00a-42ac-ed36-cc2a0487d63a"
      },
      "execution_count": null,
      "outputs": [
        {
          "output_type": "stream",
          "name": "stdout",
          "text": [
            "Density: 800 kg/m^3 --> Reynolds Number: 80000\n",
            "Density: 900 kg/m^3 --> Reynolds Number: 90000\n",
            "Density: 1000 kg/m^3 --> Reynolds Number: 100000\n",
            "Density: 1100 kg/m^3 --> Reynolds Number: 110000\n",
            "Density: 1200 kg/m^3 --> Reynolds Number: 120000\n"
          ]
        }
      ]
    },
    {
      "cell_type": "markdown",
      "source": [
        "***Looping over two lists with zip()***"
      ],
      "metadata": {
        "id": "EAfFmyzoVXq6"
      }
    },
    {
      "cell_type": "code",
      "source": [
        "rho = [1.2, 1.1, 1.0]        # densities\n",
        "V   = [50, 60, 70]           # velocities\n",
        "\n",
        "for r, v in zip(rho, V):\n",
        "    print(f\"Density = {r}, Velocity = {v}\")\n"
      ],
      "metadata": {
        "colab": {
          "base_uri": "https://localhost:8080/"
        },
        "id": "RR850tToU1PK",
        "outputId": "947a6f6f-5d0c-4e61-e7ce-890e77ecee57"
      },
      "execution_count": null,
      "outputs": [
        {
          "output_type": "stream",
          "name": "stdout",
          "text": [
            "Density = 1.2, Velocity = 50\n",
            "Density = 1.1, Velocity = 60\n",
            "Density = 1.0, Velocity = 70\n"
          ]
        }
      ]
    },
    {
      "cell_type": "code",
      "source": [
        "# Looping over two lists without zip()\n",
        "\n",
        "rho = [1.2, 1.1, 1.0]        # densities\n",
        "V   = [50, 60, 70]           # velocities\n",
        "\n",
        "for i in range(len(rho)):\n",
        "    print(f\"Density = {rho[i]}, Velocity = {V[i]}\")\n"
      ],
      "metadata": {
        "colab": {
          "base_uri": "https://localhost:8080/"
        },
        "id": "mur8A_o-VJ2Z",
        "outputId": "dab84972-d998-42a7-ef7a-b0cacee478b5"
      },
      "execution_count": null,
      "outputs": [
        {
          "output_type": "stream",
          "name": "stdout",
          "text": [
            "Density = 1.2, Velocity = 50\n",
            "Density = 1.1, Velocity = 60\n",
            "Density = 1.0, Velocity = 70\n"
          ]
        }
      ]
    },
    {
      "cell_type": "code",
      "source": [
        "densities = [1.2, 1.1, 1.0]        # densities\n",
        "velocities  = [50, 60, 70]           # velocities\n",
        "S = 20     # wing area in m^2\n",
        "CL = 0.5   # lift coefficient\n",
        "\n",
        "for rho, V in zip(densities, velocities):\n",
        "    L = 0.5 * rho * V**2 * S * CL\n",
        "    print(f\"Density = {rho}, Velocity: {V} m/s --> Lift: {L:.0f} N\")\n"
      ],
      "metadata": {
        "colab": {
          "base_uri": "https://localhost:8080/"
        },
        "id": "3Cbmw21cQg9i",
        "outputId": "68b0574b-5a93-41b3-ffc4-ffb4f9c6e798"
      },
      "execution_count": null,
      "outputs": [
        {
          "output_type": "stream",
          "name": "stdout",
          "text": [
            "Density = 1.2, Velocity: 50 m/s --> Lift: 15000 N\n",
            "Density = 1.1, Velocity: 60 m/s --> Lift: 19800 N\n",
            "Density = 1.0, Velocity: 70 m/s --> Lift: 24500 N\n"
          ]
        }
      ]
    },
    {
      "cell_type": "markdown",
      "source": [
        "# ***NESTED LOOP***"
      ],
      "metadata": {
        "id": "JpN5PsD5ZIs4"
      }
    },
    {
      "cell_type": "code",
      "source": [
        "# Constants\n",
        "S = 20     # wing area in m^2\n",
        "CL = 0.5   # lift coefficient\n",
        "\n",
        "densities = [1.2, 1.1, 1.0]        # densities\n",
        "velocities = [50, 60, 70]          # velocities\n",
        "\n",
        "# Nested loop: each density with all velocities\n",
        "for rho in densities:\n",
        "    for V in velocities:\n",
        "        L = 0.5 * rho * V**2 * S * CL\n",
        "        print(f\"Density = {rho}, Velocity = {V} m/s --> Lift: {L:.0f} N\")\n"
      ],
      "metadata": {
        "colab": {
          "base_uri": "https://localhost:8080/"
        },
        "id": "vOFNefPTXvbe",
        "outputId": "3c62745b-752a-471d-e9bb-4fbc6fc2e3ee"
      },
      "execution_count": null,
      "outputs": [
        {
          "output_type": "stream",
          "name": "stdout",
          "text": [
            "Density = 1.2, Velocity = 50 m/s --> Lift: 15000 N\n",
            "Density = 1.2, Velocity = 60 m/s --> Lift: 21600 N\n",
            "Density = 1.2, Velocity = 70 m/s --> Lift: 29400 N\n",
            "Density = 1.1, Velocity = 50 m/s --> Lift: 13750 N\n",
            "Density = 1.1, Velocity = 60 m/s --> Lift: 19800 N\n",
            "Density = 1.1, Velocity = 70 m/s --> Lift: 26950 N\n",
            "Density = 1.0, Velocity = 50 m/s --> Lift: 12500 N\n",
            "Density = 1.0, Velocity = 60 m/s --> Lift: 18000 N\n",
            "Density = 1.0, Velocity = 70 m/s --> Lift: 24500 N\n"
          ]
        }
      ]
    },
    {
      "cell_type": "code",
      "source": [
        "# Constants\n",
        "S = 20     # wing area in m^2\n",
        "CL = 0.5   # lift coefficient\n",
        "\n",
        "densities = [1.2, 1.1, 1.0]        # densities\n",
        "velocities = [50, 60, 70]          # velocities\n",
        "\n",
        "# Nested loop with enumerate to number cases\n",
        "\n",
        "for i, rho in enumerate(densities):      # outer loop over densities\n",
        "    for j, V in enumerate(velocities):   # inner loop over velocities\n",
        "        L = 0.5 * rho * V**2 * S * CL\n",
        "        print(f\" Density = {rho}, Velocity = {V} m/s --> Lift: {L:.0f} N\")\n",
        "\n"
      ],
      "metadata": {
        "colab": {
          "base_uri": "https://localhost:8080/"
        },
        "id": "tOHRrPDSXrjR",
        "outputId": "87770c0c-4ee0-4e34-ea60-1d8b8bc47c34"
      },
      "execution_count": null,
      "outputs": [
        {
          "output_type": "stream",
          "name": "stdout",
          "text": [
            " Density = 1.2, Velocity = 50 m/s --> Lift: 15000 N\n",
            " Density = 1.2, Velocity = 60 m/s --> Lift: 21600 N\n",
            " Density = 1.2, Velocity = 70 m/s --> Lift: 29400 N\n",
            " Density = 1.1, Velocity = 50 m/s --> Lift: 13750 N\n",
            " Density = 1.1, Velocity = 60 m/s --> Lift: 19800 N\n",
            " Density = 1.1, Velocity = 70 m/s --> Lift: 26950 N\n",
            " Density = 1.0, Velocity = 50 m/s --> Lift: 12500 N\n",
            " Density = 1.0, Velocity = 60 m/s --> Lift: 18000 N\n",
            " Density = 1.0, Velocity = 70 m/s --> Lift: 24500 N\n"
          ]
        }
      ]
    },
    {
      "cell_type": "markdown",
      "source": [
        "# ***WHILE LOOP***"
      ],
      "metadata": {
        "id": "T5XUzAwSmJRm"
      }
    },
    {
      "cell_type": "code",
      "source": [
        "# Constants\n",
        "S = 20\n",
        "CL = 0.5\n",
        "rho = 1.2\n",
        "V = 50\n",
        "\n",
        "# Lift threshold\n",
        "threshold = 20000\n",
        "\n",
        "# While loop\n",
        "while True:\n",
        "    L = 0.5 * rho * V**2 * S * CL\n",
        "    print(f\"Velocity = {V} m/s --> Lift = {L:.0f} N\")\n",
        "\n",
        "    if L > threshold:\n",
        "        print(\"Lift exceeded threshold!\")\n",
        "        break  # exit the loop\n",
        "\n",
        "    V += 5   # increase velocity each iteration\n",
        "            # V = V + 5\n"
      ],
      "metadata": {
        "colab": {
          "base_uri": "https://localhost:8080/"
        },
        "id": "po3jSiuohpkA",
        "outputId": "067c6bc3-1f37-40b3-8aa6-0f94972bf12f"
      },
      "execution_count": null,
      "outputs": [
        {
          "output_type": "stream",
          "name": "stdout",
          "text": [
            "Velocity = 50 m/s --> Lift = 15000 N\n",
            "Velocity = 55 m/s --> Lift = 18150 N\n",
            "Velocity = 60 m/s --> Lift = 21600 N\n",
            "Lift exceeded threshold!\n"
          ]
        }
      ]
    },
    {
      "cell_type": "code",
      "source": [
        "# Constants\n",
        "rho = 10        # water density, kg/m^3\n",
        "D = 0.05          # pipe diameter, m\n",
        "mu = 0.001        # viscosity, Pa.s\n",
        "\n",
        "# Initial velocity\n",
        "V = 1\n",
        "\n",
        "# While loop\n",
        "while True:\n",
        "    Re = (rho * V * D) / mu\n",
        "    print(f\"Velocity = {V} m/s --> Reynolds number = {Re:.0f}\")\n",
        "\n",
        "    if Re > 4000:\n",
        "        print(\"Flow has become turbulent!\")\n",
        "        break  # stop the loop\n",
        "\n",
        "    V += 1  # increment velocity\n"
      ],
      "metadata": {
        "colab": {
          "base_uri": "https://localhost:8080/"
        },
        "id": "9S-ro8-iiUt4",
        "outputId": "acefde28-8c64-44b5-ece7-08e2034b2761"
      },
      "execution_count": null,
      "outputs": [
        {
          "output_type": "stream",
          "name": "stdout",
          "text": [
            "Velocity = 1 m/s --> Reynolds number = 500\n",
            "Velocity = 2 m/s --> Reynolds number = 1000\n",
            "Velocity = 3 m/s --> Reynolds number = 1500\n",
            "Velocity = 4 m/s --> Reynolds number = 2000\n",
            "Velocity = 5 m/s --> Reynolds number = 2500\n",
            "Velocity = 6 m/s --> Reynolds number = 3000\n",
            "Velocity = 7 m/s --> Reynolds number = 3500\n",
            "Velocity = 8 m/s --> Reynolds number = 4000\n",
            "Velocity = 9 m/s --> Reynolds number = 4500\n",
            "Flow has become turbulent!\n"
          ]
        }
      ]
    },
    {
      "cell_type": "code",
      "source": [
        "# Example: increase velocity until Re > 4000\n",
        "rho = 10\n",
        "D = 0.05\n",
        "mu = 0.001\n",
        "V = 1\n",
        "\n",
        "Re = (rho * V * D) / mu\n",
        "while Re <= 4000:\n",
        "    print(f\"Velocity = {V} m/s --> Re = {Re:.0f}\")\n",
        "    V += 1\n",
        "    Re = (rho * V * D) / mu\n"
      ],
      "metadata": {
        "colab": {
          "base_uri": "https://localhost:8080/"
        },
        "id": "zpNeD4VNl3xf",
        "outputId": "de10b85a-8b5f-422a-f7e8-3579150c873e"
      },
      "execution_count": null,
      "outputs": [
        {
          "output_type": "stream",
          "name": "stdout",
          "text": [
            "Velocity = 1 m/s --> Re = 500\n",
            "Velocity = 2 m/s --> Re = 1000\n",
            "Velocity = 3 m/s --> Re = 1500\n",
            "Velocity = 4 m/s --> Re = 2000\n",
            "Velocity = 5 m/s --> Re = 2500\n",
            "Velocity = 6 m/s --> Re = 3000\n",
            "Velocity = 7 m/s --> Re = 3500\n",
            "Velocity = 8 m/s --> Re = 4000\n"
          ]
        }
      ]
    },
    {
      "cell_type": "markdown",
      "source": [
        "# ***math package***"
      ],
      "metadata": {
        "id": "qUETcwPhA9Sa"
      }
    },
    {
      "cell_type": "code",
      "source": [
        "import math\n",
        "x = 5.0\n",
        "print(math.sqrt(x))     # Square root → 2.236...\n",
        "print(math.sin(math.radians(30)))   # Sine of 30° → 0.5\n",
        "print(math.log(x))     # Natural log\n",
        "print(math.exp(x))      # e^5\n",
        "print(math.pi)        # π = 3.14159...\n",
        "print(x * math.pi)"
      ],
      "metadata": {
        "colab": {
          "base_uri": "https://localhost:8080/"
        },
        "id": "S1dU9yrBCgKx",
        "outputId": "d7b3eb5b-3e98-4d1a-a0eb-80d65dae749e"
      },
      "execution_count": null,
      "outputs": [
        {
          "output_type": "stream",
          "name": "stdout",
          "text": [
            "2.23606797749979\n",
            "0.49999999999999994\n",
            "1.6094379124341003\n",
            "148.4131591025766\n",
            "3.141592653589793\n",
            "15.707963267948966\n"
          ]
        }
      ]
    },
    {
      "cell_type": "code",
      "source": [
        "velocities = [50, 60, 70]\n",
        "rho = 1.225\n",
        "for V in velocities:\n",
        "    q = 0.5 * rho * math.pow(V, 2)\n",
        "    print(f\"Velocity={V}, Dynamic Pressure={q}\")\n"
      ],
      "metadata": {
        "colab": {
          "base_uri": "https://localhost:8080/"
        },
        "id": "f9jgYGArFrrA",
        "outputId": "19350ed2-01e7-4337-e1dc-379244595788"
      },
      "execution_count": null,
      "outputs": [
        {
          "output_type": "stream",
          "name": "stdout",
          "text": [
            "Velocity=50, Dynamic Pressure=1531.25\n",
            "Velocity=60, Dynamic Pressure=2205.0\n",
            "Velocity=70, Dynamic Pressure=3001.25\n"
          ]
        }
      ]
    },
    {
      "cell_type": "code",
      "source": [
        "import math\n",
        "\n",
        "velocities = [50, 60, 70]\n",
        "q = 0.5 * math.pow(velocities, 2)   # ❌ ERROR\n"
      ],
      "metadata": {
        "colab": {
          "base_uri": "https://localhost:8080/",
          "height": 183
        },
        "id": "cQjbuwRbIVY5",
        "outputId": "3f1e2d9e-f159-44f5-dc59-e0d1fd671bb8"
      },
      "execution_count": null,
      "outputs": [
        {
          "output_type": "error",
          "ename": "TypeError",
          "evalue": "must be real number, not list",
          "traceback": [
            "\u001b[0;31m---------------------------------------------------------------------------\u001b[0m",
            "\u001b[0;31mTypeError\u001b[0m                                 Traceback (most recent call last)",
            "\u001b[0;32m/tmp/ipython-input-1947399063.py\u001b[0m in \u001b[0;36m<cell line: 0>\u001b[0;34m()\u001b[0m\n\u001b[1;32m      2\u001b[0m \u001b[0;34m\u001b[0m\u001b[0m\n\u001b[1;32m      3\u001b[0m \u001b[0mvelocities\u001b[0m \u001b[0;34m=\u001b[0m \u001b[0;34m[\u001b[0m\u001b[0;36m50\u001b[0m\u001b[0;34m,\u001b[0m \u001b[0;36m60\u001b[0m\u001b[0;34m,\u001b[0m \u001b[0;36m70\u001b[0m\u001b[0;34m]\u001b[0m\u001b[0;34m\u001b[0m\u001b[0;34m\u001b[0m\u001b[0m\n\u001b[0;32m----> 4\u001b[0;31m \u001b[0mq\u001b[0m \u001b[0;34m=\u001b[0m \u001b[0;36m0.5\u001b[0m \u001b[0;34m*\u001b[0m \u001b[0mmath\u001b[0m\u001b[0;34m.\u001b[0m\u001b[0mpow\u001b[0m\u001b[0;34m(\u001b[0m\u001b[0mvelocities\u001b[0m\u001b[0;34m,\u001b[0m \u001b[0;36m2\u001b[0m\u001b[0;34m)\u001b[0m   \u001b[0;31m# ❌ ERROR\u001b[0m\u001b[0;34m\u001b[0m\u001b[0;34m\u001b[0m\u001b[0m\n\u001b[0m",
            "\u001b[0;31mTypeError\u001b[0m: must be real number, not list"
          ]
        }
      ]
    },
    {
      "cell_type": "code",
      "source": [
        "import math\n",
        "\n",
        "velocities = [50, 60, 70]\n",
        "\n",
        "for V in velocities:\n",
        "    q = 0.5 * math.pow(V, 2)\n",
        "    print(q)\n"
      ],
      "metadata": {
        "id": "V9hwlz3nIxGx"
      },
      "execution_count": null,
      "outputs": []
    },
    {
      "cell_type": "markdown",
      "source": [
        "# ***numpy***\n"
      ],
      "metadata": {
        "id": "G5yOivWLNVlw"
      }
    },
    {
      "cell_type": "code",
      "source": [
        "import numpy as np\n",
        "\n",
        "# Define matrices\n",
        "A = np.array([[2, 3],\n",
        "              [1, 4]])\n",
        "B = np.array([[5, 6],\n",
        "              [7, 8]])\n",
        "\n",
        "# Addition, Subtraction\n",
        "print(\"A + B =\\n\", A + B)\n",
        "print(\"A - B =\\n\", A - B)\n",
        "\n",
        "# Matrix multiplication\n",
        "print(\"A * B (elementwise) =\\n\", A * B)\n",
        "\n",
        "print(\"A @ B (matrix product) =\\n\", A @ B)  # or np.dot(A,B)\n",
        "\n",
        "print (\"matrix product with np.dot =\\n\", np.dot(A,B))\n",
        "\n",
        "# Inverse & Determinant of a Matrix\n",
        "det = np.linalg.det(A)\n",
        "inv = np.linalg.inv(A)\n",
        "\n",
        "print(f\"Determinant = {det:.0f}\")\n",
        "print(\"Inverse =\\n\", inv)\n",
        "\n",
        "\n",
        "# Transpose\n",
        "print(\"A^T =\\n\", A.T)\n",
        "\n",
        "# Eigenvalues & Eigenvectors\n",
        "eigvals, eigvecs = np.linalg.eig(A)\n",
        "print(\"Eigenvalues =\", eigvals)\n",
        "print(\"Eigenvectors =\\n\", eigvecs)"
      ],
      "metadata": {
        "id": "yrkR7lQzYiC4",
        "colab": {
          "base_uri": "https://localhost:8080/"
        },
        "outputId": "c2e2ad49-655b-42b9-d3eb-c84eb92371e8"
      },
      "execution_count": null,
      "outputs": [
        {
          "output_type": "stream",
          "name": "stdout",
          "text": [
            "A + B =\n",
            " [[ 7  9]\n",
            " [ 8 12]]\n",
            "A - B =\n",
            " [[-3 -3]\n",
            " [-6 -4]]\n",
            "A * B (elementwise) =\n",
            " [[10 18]\n",
            " [ 7 32]]\n",
            "A @ B (matrix product) =\n",
            " [[31 36]\n",
            " [33 38]]\n",
            "matrix product with np.dot =\n",
            " [[31 36]\n",
            " [33 38]]\n",
            "Determinant = 5\n",
            "Inverse =\n",
            " [[ 0.8 -0.6]\n",
            " [-0.2  0.4]]\n",
            "A^T =\n",
            " [[2 1]\n",
            " [3 4]]\n",
            "Eigenvalues = [1. 5.]\n",
            "Eigenvectors =\n",
            " [[-0.9486833  -0.70710678]\n",
            " [ 0.31622777 -0.70710678]]\n"
          ]
        }
      ]
    },
    {
      "cell_type": "code",
      "source": [
        "# Solving Linear Equations\n",
        "# 2x+3y=8\n",
        "# x+4y=7\n",
        "\n",
        "A = np.array([[2, 3], [1, 4]])\n",
        "b = np.array([8, 7])\n",
        "\n",
        "solution = np.linalg.solve(A, b)\n",
        "print(\"Solution [x, y] =\", solution)\n"
      ],
      "metadata": {
        "colab": {
          "base_uri": "https://localhost:8080/"
        },
        "id": "e67LjxrbZqyw",
        "outputId": "07ade207-1e45-449c-d5e7-dbe069a1bca9"
      },
      "execution_count": null,
      "outputs": [
        {
          "output_type": "stream",
          "name": "stdout",
          "text": [
            "Solution [x, y] = [2.2 1.2]\n"
          ]
        }
      ]
    },
    {
      "cell_type": "code",
      "source": [
        "# Finding Roots of a Polynomial\n",
        "# p(x) = x^3−6x^2+11x−6\n",
        "\n",
        "coeff = [1, -6, 11, -6]   # coefficients\n",
        "roots = np.roots(coeff)\n",
        "print(\"Roots =\", roots)\n",
        "\n",
        "# Polynomial Evaluation\n",
        "# Check p(3.5):\n",
        "val = np.polyval(coeff, 3.5)\n",
        "print(\"p(2.5) =\", val)"
      ],
      "metadata": {
        "colab": {
          "base_uri": "https://localhost:8080/"
        },
        "id": "TBhKhxA0aP-A",
        "outputId": "57440072-9f51-41ba-b27e-6b8dce0fea14"
      },
      "execution_count": null,
      "outputs": [
        {
          "output_type": "stream",
          "name": "stdout",
          "text": [
            "Roots = [3. 2. 1.]\n",
            "p(2.5) = 1.875\n"
          ]
        }
      ]
    },
    {
      "cell_type": "code",
      "source": [
        "# Random 3×3 matrix (values between 0 and 1)\n",
        "rand  = np.random.rand(3,3)\n",
        "print(rand)\n",
        "# Zero / Ones / Identity\n",
        "zeros = np.zeros((3,3))\n",
        "ones  = np.ones((3,3))\n",
        "I     = np.eye(3)\n",
        "\n",
        "print(zeros)\n",
        "print(ones)\n",
        "print(I)"
      ],
      "metadata": {
        "colab": {
          "base_uri": "https://localhost:8080/"
        },
        "id": "njSOnp6capFX",
        "outputId": "2595129a-082e-4785-ce9d-298e72cfae6a"
      },
      "execution_count": null,
      "outputs": [
        {
          "output_type": "stream",
          "name": "stdout",
          "text": [
            "[[0.37793337 0.5405439  0.63653127]\n",
            " [0.87193482 0.47124128 0.57204795]\n",
            " [0.78356794 0.68449915 0.657059  ]]\n",
            "[[0. 0. 0.]\n",
            " [0. 0. 0.]\n",
            " [0. 0. 0.]]\n",
            "[[1. 1. 1.]\n",
            " [1. 1. 1.]\n",
            " [1. 1. 1.]]\n",
            "[[1. 0. 0.]\n",
            " [0. 1. 0.]\n",
            " [0. 0. 1.]]\n"
          ]
        }
      ]
    },
    {
      "cell_type": "code",
      "source": [
        "# array creation\n",
        "import numpy as np\n",
        "\n",
        "# 1D array\n",
        "a = np.array([1, 2, 3])\n",
        "print(a)\n",
        "\n",
        "print(a.shape)       # tuple: dimensions\n",
        "print(a.size)        # total number of elements\n",
        "print(a.ndim)        # number of dimensions\n",
        "print(a.dtype)       # type of elements"
      ],
      "metadata": {
        "colab": {
          "base_uri": "https://localhost:8080/"
        },
        "id": "fDVwnD6_x_8U",
        "outputId": "20d64fea-9c36-49a3-a329-4877d91fd908"
      },
      "execution_count": null,
      "outputs": [
        {
          "output_type": "stream",
          "name": "stdout",
          "text": [
            "[1 2 3]\n",
            "[[1 2 3]\n",
            " [4 5 6]\n",
            " [6 7 8]]\n",
            "(3,)\n",
            "3\n",
            "1\n",
            "int64\n",
            "(3, 3)\n",
            "9\n",
            "2\n",
            "int64\n"
          ]
        }
      ]
    },
    {
      "cell_type": "code",
      "source": [
        "# 2D array\n",
        "import numpy as np\n",
        "b = np.array([[1, 2, 3], [4, 5, 6]])\n",
        "print(b)\n",
        "\n",
        "print(b.shape)       # tuple: dimensions\n",
        "print(b.size)        # total number of elements\n",
        "print(b.ndim)        # number of dimensions\n",
        "print(b.dtype)       # type of elements"
      ],
      "metadata": {
        "colab": {
          "base_uri": "https://localhost:8080/"
        },
        "id": "Y9MuKQip0UHM",
        "outputId": "482433b2-2824-432e-cfa9-4b14211fd54e"
      },
      "execution_count": null,
      "outputs": [
        {
          "output_type": "stream",
          "name": "stdout",
          "text": [
            "[[1 2 3]\n",
            " [4 5 6]]\n",
            "(2, 3)\n",
            "6\n",
            "2\n",
            "int64\n"
          ]
        }
      ]
    },
    {
      "cell_type": "code",
      "source": [
        "# 2D array\n",
        "import numpy as np\n",
        "c = np.array([[1, 2, 3], [4, 5, 6], [6, 7, 8]])\n",
        "print(c)\n",
        "\n",
        "print(c.shape)       # tuple: dimensions\n",
        "print(c.size)        # total number of elements\n",
        "print(c.ndim)        # number of dimensions\n",
        "print(c.dtype)       # type of elements\n",
        "\n",
        "\n",
        "# Printing slices\n",
        "print(\"First element:\", c[0,0])\n",
        "print(\"First row:\", c[0,:])\n",
        "print(\"Last row):\", c[-1,:])\n",
        "print(\"First column:\", c[:, 0])\n",
        "print(\"Second row:\", c[1, :])\n",
        "print(\"Submatrix from row 1 and column 1 onwards:\\n\", c[1:, 1:])\n",
        "\n",
        "# Reshape to 1 row, 9 columns\n",
        "c_reshaped = c.reshape(1, 9)\n",
        "print(\"Reshaped to (1,9):\\n\", c_reshaped)\n",
        "\n",
        "# Reshape to 9 rows, 1 column\n",
        "c_reshaped2 = c.reshape(9, 1)\n",
        "print(\"Reshaped to (9,1):\\n\", c_reshaped2)"
      ],
      "metadata": {
        "colab": {
          "base_uri": "https://localhost:8080/"
        },
        "id": "HcoUj-4n0eX5",
        "outputId": "e0996de4-9586-4036-9625-d2f25466f1ce"
      },
      "execution_count": null,
      "outputs": [
        {
          "output_type": "stream",
          "name": "stdout",
          "text": [
            "[[1 2 3]\n",
            " [4 5 6]\n",
            " [6 7 8]]\n",
            "(3, 3)\n",
            "9\n",
            "2\n",
            "int64\n",
            "First element: 1\n",
            "First row: [1 2 3]\n",
            "Last row): [6 7 8]\n",
            "First column: [1 4 6]\n",
            "Second row: [4 5 6]\n",
            "Submatrix from row 1 and column 1 onwards:\n",
            " [[5 6]\n",
            " [7 8]]\n",
            "Reshaped to (1,9):\n",
            " [[1 2 3 4 5 6 6 7 8]]\n",
            "Reshaped to (9,1):\n",
            " [[1]\n",
            " [2]\n",
            " [3]\n",
            " [4]\n",
            " [5]\n",
            " [6]\n",
            " [6]\n",
            " [7]\n",
            " [8]]\n"
          ]
        }
      ]
    },
    {
      "cell_type": "code",
      "source": [
        "# 2D array\n",
        "import numpy as np\n",
        "c = np.array([[1, 2, 3], [4, 5, 6], [7, 8, 9], [10, 11, 12]])\n",
        "print(c)\n",
        "\n",
        "\n",
        "# Reshape to 13 row, 4 columns\n",
        "c_reshaped = c.reshape(3, 4)\n",
        "print(\"Reshaped to (3,4):\\n\", c_reshaped)\n",
        "\n",
        "# Reshape to 6 rows, 2 column\n",
        "c_reshaped2 = c.reshape(6, 2)\n",
        "print(\"Reshaped to (6,2):\\n\", c_reshaped2)"
      ],
      "metadata": {
        "colab": {
          "base_uri": "https://localhost:8080/"
        },
        "id": "S_uPu03O26Mj",
        "outputId": "0baab1df-812a-45b2-83b5-46d79cb3a3c5"
      },
      "execution_count": 4,
      "outputs": [
        {
          "output_type": "stream",
          "name": "stdout",
          "text": [
            "[[ 1  2  3]\n",
            " [ 4  5  6]\n",
            " [ 7  8  9]\n",
            " [10 11 12]]\n",
            "Reshaped to (3,4):\n",
            " [[ 1  2  3  4]\n",
            " [ 5  6  7  8]\n",
            " [ 9 10 11 12]]\n",
            "Reshaped to (6,2):\n",
            " [[ 1  2]\n",
            " [ 3  4]\n",
            " [ 5  6]\n",
            " [ 7  8]\n",
            " [ 9 10]\n",
            " [11 12]]\n"
          ]
        }
      ]
    },
    {
      "cell_type": "code",
      "source": [
        "# correct way with numpy\n",
        "\n",
        "import numpy as np\n",
        "\n",
        "velocities = np.array([50, 60, 70])   # Convert list to numpy array\n",
        "q = 0.5 * velocities**2\n",
        "print(q)\n"
      ],
      "metadata": {
        "colab": {
          "base_uri": "https://localhost:8080/"
        },
        "id": "5gHq3pCANYiH",
        "outputId": "0107912d-ba07-4d3a-d596-ed9c212df6fd"
      },
      "execution_count": null,
      "outputs": [
        {
          "output_type": "stream",
          "name": "stdout",
          "text": [
            "[1250. 1800. 2450.]\n"
          ]
        }
      ]
    },
    {
      "cell_type": "code",
      "source": [
        "# list\n",
        "velocities = [50, 60, 70]\n",
        "print(velocities * 2)     # Here, *2 means repetition (concatenation),\n",
        "                          # not multiplication.\n",
        "\n",
        "# numpy array\n",
        "import numpy as np\n",
        "\n",
        "velocities = np.array([50, 60, 70])\n",
        "print(velocities * 2)   # Here, *2 means element-wise multiplication"
      ],
      "metadata": {
        "colab": {
          "base_uri": "https://localhost:8080/"
        },
        "id": "kGT1qYxpOKa4",
        "outputId": "12a7b3b3-fd0c-4564-923e-82d88efbd4a4"
      },
      "execution_count": null,
      "outputs": [
        {
          "output_type": "stream",
          "name": "stdout",
          "text": [
            "[50, 60, 70, 50, 60, 70]\n",
            "[100 120 140]\n"
          ]
        }
      ]
    },
    {
      "cell_type": "code",
      "source": [
        "# Case 1: ρ and V have same length (pairwise calculation)\n",
        "import numpy as np\n",
        "\n",
        "rho = np.array([1.2, 1.1, 1.0])    # densities\n",
        "V   = np.array([50, 60, 70])       # velocities\n",
        "S = 20     # wing area (m²)\n",
        "CL = 0.5   # lift coefficient\n",
        "\n",
        "L = 0.5 * rho * V**2 * S * CL\n",
        "print(L)\n"
      ],
      "metadata": {
        "colab": {
          "base_uri": "https://localhost:8080/"
        },
        "id": "CkhZFAqgP8N5",
        "outputId": "bc3f38d3-aa40-48e2-9040-e74363232fec"
      },
      "execution_count": null,
      "outputs": [
        {
          "output_type": "stream",
          "name": "stdout",
          "text": [
            "[15000. 19800. 24500.]\n"
          ]
        }
      ]
    },
    {
      "cell_type": "code",
      "source": [
        "# Case 2: All combinations of ρ and V\n",
        "rho = np.array([1.2, 1.1, 1.0])   # 3 densities\n",
        "V   = np.array([50, 60, 70])      # 3 velocities\n",
        "S = 20\n",
        "CL = 0.5\n",
        "\n",
        "# Broadcasting: convert rho to column vector\n",
        "L = 0.5 * rho.reshape(3, 1) * V**2 * S * CL  # or use rho[:, np.newaxis]\n",
        "print(L)\n",
        "\n",
        "# NumPy will happily give you a matrix of Lift values for all combinations of ρ and  V, but it won’t automatically label which value belongs to which pair\n"
      ],
      "metadata": {
        "colab": {
          "base_uri": "https://localhost:8080/"
        },
        "id": "JjVw825lVRRw",
        "outputId": "cc9fa445-2ba4-4c58-ff47-d5808e3cb72f"
      },
      "execution_count": null,
      "outputs": [
        {
          "output_type": "stream",
          "name": "stdout",
          "text": [
            "[[15000. 21600. 29400.]\n",
            " [13750. 19800. 26950.]\n",
            " [12500. 18000. 24500.]]\n"
          ]
        }
      ]
    },
    {
      "cell_type": "code",
      "source": [
        "# Case 3: for loop with NumPy arrays\n",
        "\n",
        "import numpy as np\n",
        "\n",
        "rho = np.array([1.2, 1.1, 1.0])\n",
        "V   = np.array([50, 60, 70])\n",
        "S = 20\n",
        "CL = 0.5\n",
        "\n",
        "for r in rho:\n",
        "    for v in V:\n",
        "        L = 0.5 * r * v**2 * S * CL\n",
        "        print(f\"rho={r}, V={v}, Lift={L:.0f}\")\n",
        "# This code will also work using only for loops, without NumPy, by treating rho and V as Python lists."
      ],
      "metadata": {
        "colab": {
          "base_uri": "https://localhost:8080/"
        },
        "id": "qNNoRjTBVkfX",
        "outputId": "883dea9c-eba2-4509-e5f5-cb43bcfb73e3"
      },
      "execution_count": null,
      "outputs": [
        {
          "output_type": "stream",
          "name": "stdout",
          "text": [
            "rho=1.2, V=50, Lift=15000\n",
            "rho=1.2, V=60, Lift=21600\n",
            "rho=1.2, V=70, Lift=29400\n",
            "rho=1.1, V=50, Lift=13750\n",
            "rho=1.1, V=60, Lift=19800\n",
            "rho=1.1, V=70, Lift=26950\n",
            "rho=1.0, V=50, Lift=12500\n",
            "rho=1.0, V=60, Lift=18000\n",
            "rho=1.0, V=70, Lift=24500\n"
          ]
        }
      ]
    },
    {
      "cell_type": "markdown",
      "source": [
        "# ***matplotlib***"
      ],
      "metadata": {
        "id": "5YqEyxy27pHx"
      }
    },
    {
      "cell_type": "code",
      "source": [
        "import numpy as np\n",
        "x = np.linspace(0,10,100)\n",
        "print(x)\n",
        "y = np.arange(0,10,0.1)\n",
        "print(y)"
      ],
      "metadata": {
        "id": "indXw1m77mjr"
      },
      "execution_count": null,
      "outputs": []
    },
    {
      "cell_type": "code",
      "source": [
        "import numpy as np\n",
        "import matplotlib.pyplot as plt\n",
        "\n",
        "# Parameters\n",
        "rho = 1.225\n",
        "S = 20\n",
        "CL = 0.5\n",
        "V = np.linspace(10, 100, 20)\n",
        "L = 0.5 * rho * V**2 * S * CL\n",
        "\n",
        "# Figure 1: Line plot\n",
        "plt.figure(1)  # figure number 1\n",
        "plt.plot(V, L, color='blue', linewidth=2)\n",
        "plt.xlabel(\"Velocity (m/s)\")\n",
        "plt.ylabel(\"Lift (N)\")\n",
        "plt.title(\"Lift vs Velocity (Line)\")\n",
        "plt.grid(True)\n"
      ],
      "metadata": {
        "colab": {
          "base_uri": "https://localhost:8080/",
          "height": 472
        },
        "id": "7_EXFZRj59Dr",
        "outputId": "bd93e2a4-769e-4ff6-80b0-3ac65724188e"
      },
      "execution_count": null,
      "outputs": [
        {
          "output_type": "display_data",
          "data": {
            "text/plain": [
              "<Figure size 640x480 with 1 Axes>"
            ],
            "image/png": "[encoded data removed]"
          },
          "metadata": {}
        }
      ]
    },
    {
      "cell_type": "code",
      "source": [
        "import numpy as np\n",
        "import matplotlib.pyplot as plt\n",
        "\n",
        "# Parameters\n",
        "rho = 1.225\n",
        "S = 20\n",
        "CL = 0.5\n",
        "V = np.linspace(10, 100, 20)\n",
        "L = 0.5 * rho * V**2 * S * CL\n",
        "\n",
        "# Figure 1: Line plot\n",
        "plt.figure(1)  # figure number 1\n",
        "plt.plot(V, L, color='blue', linewidth=2)\n",
        "plt.xlabel(\"Velocity (m/s)\")\n",
        "plt.ylabel(\"Lift (N)\")\n",
        "plt.title(\"Lift vs Velocity (Line)\")\n",
        "plt.grid(True)\n",
        "\n",
        "# Figure 2: Scatter plot\n",
        "plt.figure(2)  # figure number 2\n",
        "plt.scatter(V, L, color='red', s=50)\n",
        "plt.xlabel(\"Velocity (m/s)\")\n",
        "plt.ylabel(\"Lift (N)\")\n",
        "plt.title(\"Lift vs Velocity (Scatter)\")\n",
        "plt.grid(True)\n",
        "\n",
        "plt.show()  # displays both figures\n",
        "\n"
      ],
      "metadata": {
        "colab": {
          "base_uri": "https://localhost:8080/",
          "height": 927
        },
        "id": "6Otfq8nfPHIf",
        "outputId": "ad0bc42d-4b00-4974-e9be-d56be57db779"
      },
      "execution_count": null,
      "outputs": [
        {
          "output_type": "display_data",
          "data": {
            "text/plain": [
              "<Figure size 640x480 with 1 Axes>"
            ],
            "image/png": "[encoded data removed]"
          },
          "metadata": {}
        },
        {
          "output_type": "display_data",
          "data": {
            "text/plain": [
              "<Figure size 640x480 with 1 Axes>"
            ],
            "image/png": "[encoded data removed]"
          },
          "metadata": {}
        }
      ]
    },
    {
      "cell_type": "code",
      "source": [
        "# subplot\n",
        "import numpy as np\n",
        "import matplotlib.pyplot as plt\n",
        "\n",
        "# Parameters\n",
        "rho = 1.225\n",
        "S = 20\n",
        "CL = 0.5\n",
        "V = np.linspace(10, 100, 20)\n",
        "L = 0.5 * rho * V**2 * S * CL\n",
        "\n",
        "# Create a figure\n",
        "plt.figure(figsize=(12,5))  # width, height\n",
        "\n",
        "# First subplot: Line plot\n",
        "plt.subplot(1, 2, 1)  # 1 row, 2 columns, subplot 1\n",
        "plt.plot(V, L, color='blue', linewidth=2)\n",
        "plt.xlabel(\"Velocity (m/s)\")\n",
        "plt.ylabel(\"Lift (N)\")\n",
        "plt.title(\"Lift vs Velocity (Line)\")\n",
        "plt.grid(True)\n",
        "\n",
        "# Second subplot: Scatter plot\n",
        "plt.subplot(1, 2, 2)  # 1 row, 2 columns, subplot 2\n",
        "plt.scatter(V, L, color='red', s=50)\n",
        "plt.xlabel(\"Velocity (m/s)\")\n",
        "plt.ylabel(\"Lift (N)\")\n",
        "plt.title(\"Lift vs Velocity (Scatter)\")\n",
        "plt.grid(True)\n",
        "\n",
        "plt.tight_layout()  # adjusts spacing so labels don't overlap\n",
        "plt.show()\n"
      ],
      "metadata": {
        "colab": {
          "base_uri": "https://localhost:8080/",
          "height": 507
        },
        "id": "98kyY0HSRMkP",
        "outputId": "065cf57c-2da2-4316-f768-7c5180ea5345"
      },
      "execution_count": null,
      "outputs": [
        {
          "output_type": "display_data",
          "data": {
            "text/plain": [
              "<Figure size 1200x500 with 2 Axes>"
            ],
            "image/png": "[encoded data removed]"
          },
          "metadata": {}
        }
      ]
    },
    {
      "cell_type": "code",
      "source": [
        "# overlay plot\n",
        "import numpy as np\n",
        "import matplotlib.pyplot as plt\n",
        "\n",
        "# Parameters\n",
        "rho = 1.225\n",
        "S = 20\n",
        "CL = 0.5\n",
        "V = np.linspace(10, 100, 20)\n",
        "L = 0.5 * rho * V**2 * S * CL\n",
        "\n",
        "\n",
        "plt.figure(1)  # figure number\n",
        "\n",
        "plt.plot(V, L, color='blue', linewidth=2)# Line plot\n",
        "\n",
        "plt.scatter(V, L, color='red', s=50) # Scatter plot\n",
        "\n",
        "CL = 1.0\n",
        "L = 0.5 * rho * V**2 * S * CL\n",
        "plt.plot(V, L, color='blue', linewidth=2)# Line plot\n",
        "\n",
        "plt.xlabel(\"Velocity (m/s)\")\n",
        "plt.ylabel(\"Lift (N)\")\n",
        "plt.title(\"Lift vs Velocity (Scatter)\")\n",
        "plt.grid(True)\n",
        "\n",
        "plt.show()  # displays both figures"
      ],
      "metadata": {
        "colab": {
          "base_uri": "https://localhost:8080/",
          "height": 472
        },
        "id": "itJCjSkzSvlu",
        "outputId": "b9c13bff-da4c-4b62-b652-bb2f20e34ff2"
      },
      "execution_count": null,
      "outputs": [
        {
          "output_type": "display_data",
          "data": {
            "text/plain": [
              "<Figure size 640x480 with 1 Axes>"
            ],
            "image/png": "[encoded data removed]"
          },
          "metadata": {}
        }
      ]
    },
    {
      "cell_type": "code",
      "source": [
        "import numpy as np\n",
        "import matplotlib.pyplot as plt\n",
        "\n",
        "# Parameters\n",
        "rho = np.array([1.0, 1.1, 1.2])  # air densities (kg/m^3)\n",
        "S = 20\n",
        "CL = 0.5\n",
        "V = np.linspace(10, 100, 20)     # velocity array\n",
        "\n",
        "# Figure 1: Line plot\n",
        "plt.figure(1, figsize=(6,4))\n",
        "\n",
        "for r in rho:\n",
        "    L = 0.5 * r * V**2 * S * CL\n",
        "    plt.plot(V, L, linewidth=2, label=f\"rho={r} kg/m^3\")\n",
        "\n",
        "plt.xlabel(\"Velocity (m/s)\")\n",
        "plt.ylabel(\"Lift (N)\")\n",
        "plt.title(\"Lift vs Velocity for different Air Densities\")\n",
        "plt.grid(True)\n",
        "plt.legend()\n",
        "plt.show()\n"
      ],
      "metadata": {
        "colab": {
          "base_uri": "https://localhost:8080/",
          "height": 410
        },
        "id": "bsSG6VKTUISI",
        "outputId": "0851c93d-00d2-452b-d1cf-36a7de8bac3b"
      },
      "execution_count": null,
      "outputs": [
        {
          "output_type": "display_data",
          "data": {
            "text/plain": [
              "<Figure size 600x400 with 1 Axes>"
            ],
            "image/png": "[encoded data removed]"
          },
          "metadata": {}
        }
      ]
    },
    {
      "cell_type": "code",
      "source": [
        "import numpy as np\n",
        "import matplotlib.pyplot as plt\n",
        "\n",
        "rho = np.array([1.0, 1.2, 1.4])\n",
        "CL  = np.array([0.1, 0.2])\n",
        "S = 20\n",
        "V = np.linspace(10, 100, 20)\n",
        "\n",
        "# NESTED LOOP\n",
        "for r in rho:\n",
        "    for cl in CL:\n",
        "        L = 0.5 * r * V**2 * S * cl\n",
        "        plt.plot(V, L, label=f\"rho={r}, CL={cl}\")\n",
        "\n",
        "plt.xlabel(\"Velocity (m/s)\")\n",
        "plt.ylabel(\"Lift (N)\")\n",
        "plt.title(\"Lift vs Velocity for multiple rho and CL\")\n",
        "plt.grid(True)\n",
        "plt.legend()\n",
        "plt.show()\n",
        "\n"
      ],
      "metadata": {
        "colab": {
          "base_uri": "https://localhost:8080/",
          "height": 472
        },
        "id": "u7-5u3lFXrGw",
        "outputId": "dd12ef1d-8a15-4bc2-8b2f-959b792b25c8"
      },
      "execution_count": null,
      "outputs": [
        {
          "output_type": "display_data",
          "data": {
            "text/plain": [
              "<Figure size 640x480 with 1 Axes>"
            ],
            "image/png": "[encoded data removed]"
          },
          "metadata": {}
        }
      ]
    },
    {
      "cell_type": "code",
      "source": [
        "import numpy as np\n",
        "import matplotlib.pyplot as plt\n",
        "\n",
        "# Parameters\n",
        "rho = 1.225  # air density kg/m^3\n",
        "mu = 1.8e-5  # dynamic viscosity kg/m/s\n",
        "D = np.array([0.01, 0.02, 0.05, 0.1])  # pipe diameter (m)\n",
        "V = np.linspace(0.1, 10, 100)          # velocity m/s\n",
        "\n",
        "# Compute Reynolds number: Re = rho * V * D / mu\n",
        "plt.figure(figsize=(6,4))\n",
        "for d in D:\n",
        "    Re = rho * V * d / mu\n",
        "    plt.plot(V, Re, label=f'D={d} m')\n",
        "\n",
        "plt.xlabel(\"Velocity (m/s)\")\n",
        "plt.ylabel(\"Reynolds Number\")\n",
        "plt.title(\"Reynolds Number vs Velocity\")\n",
        "plt.grid(True)\n",
        "plt.legend()\n",
        "plt.show()\n"
      ],
      "metadata": {
        "colab": {
          "base_uri": "https://localhost:8080/",
          "height": 410
        },
        "id": "FDQxyGiCOYa4",
        "outputId": "e83493b6-25f0-4263-82e4-3f6e2a1a4963"
      },
      "execution_count": null,
      "outputs": [
        {
          "output_type": "display_data",
          "data": {
            "text/plain": [
              "<Figure size 600x400 with 1 Axes>"
            ],
            "image/png": "[encoded data removed]"
          },
          "metadata": {}
        }
      ]
    }
  ]
}