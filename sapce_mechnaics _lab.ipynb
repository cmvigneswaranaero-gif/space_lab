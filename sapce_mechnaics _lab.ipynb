{
  "nbformat": 4,
  "nbformat_minor": 0,
  "metadata": {
    "colab": {
      "provenance": []
    },
    "kernelspec": {
      "name": "python3",
      "display_name": "Python 3"
    },
    "language_info": {
      "name": "python"
    }
  },
  "cells": [
    {
      "cell_type": "code",
      "execution_count": 13,
      "metadata": {
        "colab": {
          "base_uri": "https://localhost:8080/"
        },
        "id": "k3M9cCFE03xD",
        "outputId": "1999819f-d8dd-44ed-9731-087a852916a1"
      },
      "outputs": [
        {
          "output_type": "stream",
          "name": "stdout",
          "text": [
            "                            OLS Regression Results                            \n",
            "==============================================================================\n",
            "Dep. Variable:            altitude_km   R-squared:                       0.996\n",
            "Model:                            OLS   Adj. R-squared:                  0.996\n",
            "Method:                 Least Squares   F-statistic:                     5004.\n",
            "Date:                Wed, 03 Sep 2025   Prob (F-statistic):           1.81e-23\n",
            "Time:                        05:57:39   Log-Likelihood:                -110.42\n",
            "No. Observations:                  20   AIC:                             224.8\n",
            "Df Residuals:                      18   BIC:                             226.8\n",
            "Df Model:                           1                                         \n",
            "Covariance Type:            nonrobust                                         \n",
            "==============================================================================\n",
            "                 coef    std err          t      P>|t|      [0.025      0.975]\n",
            "------------------------------------------------------------------------------\n",
            "Intercept   5145.4632     29.606    173.799      0.000    5083.264    5207.663\n",
            "time_days   -174.8203      2.471    -70.736      0.000    -180.013    -169.628\n",
            "==============================================================================\n",
            "Omnibus:                       13.832   Durbin-Watson:                   1.410\n",
            "Prob(Omnibus):                  0.001   Jarque-Bera (JB):               12.872\n",
            "Skew:                          -1.404   Prob(JB):                      0.00160\n",
            "Kurtosis:                       5.749   Cond. No.                         25.0\n",
            "==============================================================================\n",
            "\n",
            "Notes:\n",
            "[1] Standard Errors assume that the covariance matrix of the errors is correctly specified.\n"
          ]
        }
      ],
      "source": [
        "import pandas as pd\n",
        "import numpy as np\n",
        "import matplotlib as matlab\n",
        "import statsmodels\n",
        "import statsmodels.api as sm\n",
        "\n",
        "\n",
        "# Step 1: Create the dataset\n",
        "raw_data = {\n",
        "    'time_days': [1, 2, 3, 4, 5, 6, 7, 8, 9, 10,11,12,13,14,15,16,17,18,19,20],\n",
        "    'altitude_km': [5000,\t4820,\t4655,\t4469,\t4285,\t4050,\t3900,\t3700,\t3550,\t3430,\t3300,\t3100,\t2679,\t2650,\t2500,\t2300,\t2157,\t2057,\t1865,\t1730]\n",
        "}\n",
        "\n",
        "sat_data = pd.DataFrame(raw_data)\n",
        "\n",
        "# Step 2: Build OLS regression model using formula API\n",
        "model = smf.ols(formula='altitude_km ~ time_days', data=sat_data)\n",
        "\n",
        "# Step 3: Fit the model\n",
        "fitted_model = model.fit()\n",
        "\n",
        "# Step 4: Print model summary\n",
        "print(fitted_model.summary())\n"
      ]
    },
    {
      "cell_type": "code",
      "source": [
        "import pandas as pd\n",
        "import statsmodels.formula.api as smf\n",
        "\n",
        "# Step 1: Read CSV file from GitHub\n",
        "\n",
        "sat_data = pd.read_csv(\"https://raw.githubusercontent.com/cmvigneswaranaero-gif/space_lab/refs/heads/main/sat_data.csv\")\n",
        "sat_data.info()\n",
        "\n",
        "# Step 2: Build OLS regression model using formula API\n",
        "model = smf.ols(formula='Altitude_km ~ Time_days', data=sat_data)\n",
        "\n",
        "# Step 3: Fit the model\n",
        "fitted_model = model.fit()\n",
        "\n",
        "# Step 4: Print model summary\n",
        "print(fitted_model.summary())"
      ],
      "metadata": {
        "colab": {
          "base_uri": "https://localhost:8080/"
        },
        "id": "YdjZf6DW08Ed",
        "outputId": "3ea7d59c-54fb-4e9e-e1a7-95920c02bd18"
      },
      "execution_count": 12,
      "outputs": [
        {
          "output_type": "stream",
          "name": "stdout",
          "text": [
            "<class 'pandas.core.frame.DataFrame'>\n",
            "RangeIndex: 20 entries, 0 to 19\n",
            "Data columns (total 2 columns):\n",
            " #   Column       Non-Null Count  Dtype\n",
            "---  ------       --------------  -----\n",
            " 0   Time_days    20 non-null     int64\n",
            " 1   Altitude_km  20 non-null     int64\n",
            "dtypes: int64(2)\n",
            "memory usage: 452.0 bytes\n",
            "                            OLS Regression Results                            \n",
            "==============================================================================\n",
            "Dep. Variable:            Altitude_km   R-squared:                       0.996\n",
            "Model:                            OLS   Adj. R-squared:                  0.996\n",
            "Method:                 Least Squares   F-statistic:                     5004.\n",
            "Date:                Wed, 03 Sep 2025   Prob (F-statistic):           1.81e-23\n",
            "Time:                        05:57:31   Log-Likelihood:                -110.42\n",
            "No. Observations:                  20   AIC:                             224.8\n",
            "Df Residuals:                      18   BIC:                             226.8\n",
            "Df Model:                           1                                         \n",
            "Covariance Type:            nonrobust                                         \n",
            "==============================================================================\n",
            "                 coef    std err          t      P>|t|      [0.025      0.975]\n",
            "------------------------------------------------------------------------------\n",
            "Intercept   5145.4632     29.606    173.799      0.000    5083.264    5207.663\n",
            "Time_days   -174.8203      2.471    -70.736      0.000    -180.013    -169.628\n",
            "==============================================================================\n",
            "Omnibus:                       13.832   Durbin-Watson:                   1.410\n",
            "Prob(Omnibus):                  0.001   Jarque-Bera (JB):               12.872\n",
            "Skew:                          -1.404   Prob(JB):                      0.00160\n",
            "Kurtosis:                       5.749   Cond. No.                         25.0\n",
            "==============================================================================\n",
            "\n",
            "Notes:\n",
            "[1] Standard Errors assume that the covariance matrix of the errors is correctly specified.\n"
          ]
        }
      ]
    },
    {
      "cell_type": "code",
      "source": [
        "# Step 3: Create new data for prediction\n",
        "new_data = pd.DataFrame({'time_days': [11.5, 12.5, 22, 23]})\n",
        "\n",
        "# Step 4: Predict altitude for new time values\n",
        "predicted_altitude = fitted_model.predict(new_data)\n",
        "\n",
        "# Step 5: Display predictions\n",
        "print(\"Predicted Altitude (km):\")\n",
        "print(predicted_altitude)"
      ],
      "metadata": {
        "colab": {
          "base_uri": "https://localhost:8080/"
        },
        "id": "juz4_xM208Hp",
        "outputId": "2d3d2963-b0d4-4f21-d06b-31db18364a96"
      },
      "execution_count": 14,
      "outputs": [
        {
          "output_type": "stream",
          "name": "stdout",
          "text": [
            "Predicted Altitude (km):\n",
            "0    3135.029699\n",
            "1    2960.209398\n",
            "2    1299.416541\n",
            "3    1124.596241\n",
            "dtype: float64\n"
          ]
        }
      ]
    },
    {
      "cell_type": "code",
      "source": [],
      "metadata": {
        "id": "MPVkJNDw08K6"
      },
      "execution_count": null,
      "outputs": []
    },
    {
      "cell_type": "code",
      "source": [],
      "metadata": {
        "id": "7whoOTxD08Ny"
      },
      "execution_count": null,
      "outputs": []
    },
    {
      "cell_type": "code",
      "source": [],
      "metadata": {
        "id": "wmz2x-bs08QS"
      },
      "execution_count": null,
      "outputs": []
    },
    {
      "cell_type": "code",
      "source": [],
      "metadata": {
        "id": "00YMYMMq08S7"
      },
      "execution_count": null,
      "outputs": []
    }
  ]
}